{
  "nbformat": 4,
  "nbformat_minor": 0,
  "metadata": {
    "colab": {
      "name": "Mid_Term.ipynb",
      "provenance": [],
      "collapsed_sections": [],
      "include_colab_link": true
    },
    "kernelspec": {
      "display_name": "Python 3 (ipykernel)",
      "language": "python",
      "name": "python3"
    },
    "language_info": {
      "codemirror_mode": {
        "name": "ipython",
        "version": 3
      },
      "file_extension": ".py",
      "mimetype": "text/x-python",
      "name": "python",
      "nbconvert_exporter": "python",
      "pygments_lexer": "ipython3",
      "version": "3.8.11"
    }
  },
  "cells": [
    {
      "cell_type": "markdown",
      "metadata": {
        "id": "view-in-github",
        "colab_type": "text"
      },
      "source": [
        "<a href=\"https://colab.research.google.com/github/onnnnn/INTRODUCTION-AND-PRACTICUM-OF-DEEP-LEARNING-IN-MACHINE-LEARNING/blob/main/Mid_Term.ipynb\" target=\"_parent\"><img src=\"https://colab.research.google.com/assets/colab-badge.svg\" alt=\"Open In Colab\"/></a>"
      ]
    },
    {
      "cell_type": "markdown",
      "metadata": {
        "id": "p2Dw6xWaJcg0"
      },
      "source": [
        ">本人承諾在本次考試，我不會靠別人的幫助完成作答。"
      ]
    },
    {
      "cell_type": "markdown",
      "metadata": {
        "id": "jfD_XhMyYyaJ"
      },
      "source": [
        "# Question 1 （簡答題，請不要完全抄PPT的内容，用自己的話寫（全抄我會扣分）。可以適當的用例子説明，精簡就好，但盡量讓我知道你確實的掌握了這個概念）\n",
        "\n",
        "1.   簡述 監督式學習（Supervised Learning）與 非監督式學習（Unsupervised Learning）的差異。\n",
        "\n",
        "2.   試以Parametric Modelling PPT的第119頁的圖，簡述 Bias-Variance Tradeoff （Bias 和 Variance各指什麽）并説明其在機器學習造模方法的選擇及考量上的重要性。\n",
        "（我們在作業中曾經有舉過什麽例子來看到這一現象嗎（可能是透過兩個模型的在training set 和testing set的表現比較）？）\n",
        "\n",
        "3.   試以Parametric Modelling PPT的第132及139及頁的圖，簡述 正則化（Regularization）在於建模時的作用。（爲何要對模型參數進行限制？爲什麽不選擇理論最低誤差的參數組合？）"
      ]
    },
    {
      "cell_type": "markdown",
      "metadata": {
        "id": "kMgVY9twJcg1"
      },
      "source": [
        "###### 1. \n",
        "**監督式學習**：給定的資料已有標示正確類別（label），模型以此進行「學習」/「訓練」。\n",
        "\n",
        "一般是各種參數組合而成的函數，模型的訓練目標就是要找出一個最能夠縮小預測值與真實值的預測誤差的函數（最佳函數）。\n",
        "\n",
        "在訓練過程中挑選最能表示從訓練資料的特徵到預測目標的最佳函數。\n",
        "\n",
        "在測試階段則根據測試資料的特徵和學習到的函數，來產生預測結果。\n",
        "\n",
        "**非監督式學習**：給定的資料並沒有標示正確類別。\n",
        "\n",
        "一般是根據觀察值彼此之間的距離（有著不一樣的距離計算方式）來進行分類（/分群）。"
      ]
    },
    {
      "cell_type": "markdown",
      "metadata": {
        "id": "obml9QEEJcg1"
      },
      "source": [
        "###### 2.\n",
        "bias（偏差），variance（變異），在模型的效能中對 bias 和 variance 進行取捨。\n",
        "\n",
        "可以用來衡量當用不同組的訓練資料時，重新訓練模型很多次，會發生的結果。\n",
        "\n",
        "ex. 當不論用哪一組訓練資料時，都會出現很多的錯誤，就表示有較高的 bias。\n",
        "\n",
        "ex. 不過任意不同組隨機選擇的訓練資料，應該要得到差不多的結果（～相似平均值），我們就會說模型具有比較低的 variance。\n",
        "\n",
        "high bias & low variance 一般對應到 under fitting；low bias & high variance 一般對應到 over fitting。\n",
        "\n",
        "當模型的 bias 很高（用訓練資料時的表現也差），就可以試著塞多一點 features；當模型的 variance 很高的時候，就試著減少一些 features。\n",
        "\n",
        "在 HW1 的第二大題中可以看到當 features 增加，r-squared 也提高（模型越精準，回歸效果越顯著）；mse 減少（資料變異程度低）"
      ]
    },
    {
      "cell_type": "markdown",
      "metadata": {
        "id": "-HEI1iJsJcg2"
      },
      "source": [
        "###### 3.\n",
        "一般在訓練模型時所用的 features 越多，越有可能出現 over fitting 的情況，而且當非零的係數很多時，模型的解釋能力就很低。\n",
        "\n",
        "因此我們在誤差項裡面加入懲罰項：當 beta 越大，懲罰項也會越大。盡量取誤差和懲罰項結合後，最小化的結果（懲罰項越重要，那就越不容易得到比較大的beta值）"
      ]
    },
    {
      "cell_type": "markdown",
      "metadata": {
        "id": "btJu7G5BY1-_"
      },
      "source": [
        "# Question 2 （Data Visualization + Logistic Regression）\n",
        "\n",
        "請以以下程式讀取檔案裏的`SleepStudyData.csv`\n",
        "\n",
        "```\n",
        "df = pd.read_csv(\"SleepStudyData.csv\")\n",
        "```\n",
        "\n",
        "1.    請以底綫`('_')`取代變項名稱的空格`(' ')`\n",
        "\n",
        "2.    請對`Enough`, `Phone_Reach`, `Phone_Time`, `Breakfast`進行Dummy coding。（\"Yes\" 為 1，\"No\" 為 0）\n",
        "\n",
        "3.    請檢查資料集有無缺失值，並回報有缺失值的變項名稱。進入下一小題之前請將有缺失值的樣本從資料集中清除。\n",
        "\n",
        "4.    請回報在不同的 `Hours` 之下，不同 `Tired` 程度的人數。（Hint:`pd.crosstab()`）。試以`sns.heatmap`的形式呈現結果。\n",
        "\n",
        "5.    以所有變項（除了`Enough`）預測`Enough`，建立一 Logistic Regression 分類模型，這次不需要將資料集分 training 和 testing set。（記得先將`Enough`設定爲類別變項。）\n",
        "\n",
        "6.    回報模型的 Accuracy 和 AUC score。"
      ]
    },
    {
      "cell_type": "code",
      "metadata": {
        "id": "J-SoWw1EJcg4",
        "outputId": "8b48a420-b2d1-4804-839a-837c7e72809d"
      },
      "source": [
        "import pandas as pd\n",
        "df = pd.read_csv(\"SleepStudyData.csv\")\n",
        "df.head(1)"
      ],
      "execution_count": null,
      "outputs": [
        {
          "data": {
            "text/html": [
              "<div>\n",
              "<style scoped>\n",
              "    .dataframe tbody tr th:only-of-type {\n",
              "        vertical-align: middle;\n",
              "    }\n",
              "\n",
              "    .dataframe tbody tr th {\n",
              "        vertical-align: top;\n",
              "    }\n",
              "\n",
              "    .dataframe thead th {\n",
              "        text-align: right;\n",
              "    }\n",
              "</style>\n",
              "<table border=\"1\" class=\"dataframe\">\n",
              "  <thead>\n",
              "    <tr style=\"text-align: right;\">\n",
              "      <th></th>\n",
              "      <th>Enough</th>\n",
              "      <th>Hours</th>\n",
              "      <th>Phone Reach</th>\n",
              "      <th>Phone Time</th>\n",
              "      <th>Tired</th>\n",
              "      <th>Breakfast</th>\n",
              "    </tr>\n",
              "  </thead>\n",
              "  <tbody>\n",
              "    <tr>\n",
              "      <th>0</th>\n",
              "      <td>Yes</td>\n",
              "      <td>8.0</td>\n",
              "      <td>Yes</td>\n",
              "      <td>Yes</td>\n",
              "      <td>3</td>\n",
              "      <td>Yes</td>\n",
              "    </tr>\n",
              "  </tbody>\n",
              "</table>\n",
              "</div>"
            ],
            "text/plain": [
              "  Enough  Hours Phone Reach Phone Time  Tired Breakfast\n",
              "0    Yes    8.0         Yes        Yes      3       Yes"
            ]
          },
          "execution_count": 1,
          "metadata": {},
          "output_type": "execute_result"
        }
      ]
    },
    {
      "cell_type": "code",
      "metadata": {
        "id": "P2l_7QfLJcg6",
        "outputId": "3a1d6e06-b32c-4215-dc47-0acb9873bcfb"
      },
      "source": [
        "df.columns = df.columns.str.replace(' ', '_')\n",
        "df.columns"
      ],
      "execution_count": null,
      "outputs": [
        {
          "data": {
            "text/plain": [
              "Index(['Enough', 'Hours', 'Phone_Reach', 'Phone_Time', 'Tired', 'Breakfast'], dtype='object')"
            ]
          },
          "execution_count": 2,
          "metadata": {},
          "output_type": "execute_result"
        }
      ]
    },
    {
      "cell_type": "code",
      "metadata": {
        "id": "bECHmIYiJcg7",
        "outputId": "9d66e189-47cd-4308-9e07-e2854e68da48"
      },
      "source": [
        "cols_to_dummy = ['Enough', 'Phone_Reach', 'Phone_Time', 'Breakfast']\n",
        "for col in cols_to_dummy:\n",
        "    df[col] = df[col].replace({'Yes': 1, 'No': 0})\n",
        "df.head()"
      ],
      "execution_count": null,
      "outputs": [
        {
          "data": {
            "text/html": [
              "<div>\n",
              "<style scoped>\n",
              "    .dataframe tbody tr th:only-of-type {\n",
              "        vertical-align: middle;\n",
              "    }\n",
              "\n",
              "    .dataframe tbody tr th {\n",
              "        vertical-align: top;\n",
              "    }\n",
              "\n",
              "    .dataframe thead th {\n",
              "        text-align: right;\n",
              "    }\n",
              "</style>\n",
              "<table border=\"1\" class=\"dataframe\">\n",
              "  <thead>\n",
              "    <tr style=\"text-align: right;\">\n",
              "      <th></th>\n",
              "      <th>Enough</th>\n",
              "      <th>Hours</th>\n",
              "      <th>Phone_Reach</th>\n",
              "      <th>Phone_Time</th>\n",
              "      <th>Tired</th>\n",
              "      <th>Breakfast</th>\n",
              "    </tr>\n",
              "  </thead>\n",
              "  <tbody>\n",
              "    <tr>\n",
              "      <th>0</th>\n",
              "      <td>1</td>\n",
              "      <td>8.0</td>\n",
              "      <td>1</td>\n",
              "      <td>1</td>\n",
              "      <td>3</td>\n",
              "      <td>1</td>\n",
              "    </tr>\n",
              "    <tr>\n",
              "      <th>1</th>\n",
              "      <td>0</td>\n",
              "      <td>6.0</td>\n",
              "      <td>1</td>\n",
              "      <td>1</td>\n",
              "      <td>3</td>\n",
              "      <td>0</td>\n",
              "    </tr>\n",
              "    <tr>\n",
              "      <th>2</th>\n",
              "      <td>1</td>\n",
              "      <td>6.0</td>\n",
              "      <td>1</td>\n",
              "      <td>1</td>\n",
              "      <td>2</td>\n",
              "      <td>1</td>\n",
              "    </tr>\n",
              "    <tr>\n",
              "      <th>3</th>\n",
              "      <td>0</td>\n",
              "      <td>7.0</td>\n",
              "      <td>1</td>\n",
              "      <td>1</td>\n",
              "      <td>4</td>\n",
              "      <td>0</td>\n",
              "    </tr>\n",
              "    <tr>\n",
              "      <th>4</th>\n",
              "      <td>0</td>\n",
              "      <td>7.0</td>\n",
              "      <td>1</td>\n",
              "      <td>1</td>\n",
              "      <td>2</td>\n",
              "      <td>1</td>\n",
              "    </tr>\n",
              "  </tbody>\n",
              "</table>\n",
              "</div>"
            ],
            "text/plain": [
              "   Enough  Hours  Phone_Reach  Phone_Time  Tired  Breakfast\n",
              "0       1    8.0            1           1      3          1\n",
              "1       0    6.0            1           1      3          0\n",
              "2       1    6.0            1           1      2          1\n",
              "3       0    7.0            1           1      4          0\n",
              "4       0    7.0            1           1      2          1"
            ]
          },
          "execution_count": 3,
          "metadata": {},
          "output_type": "execute_result"
        }
      ]
    },
    {
      "cell_type": "code",
      "metadata": {
        "id": "FiBWc6z9Jcg7",
        "outputId": "37603516-1b46-489a-deae-83a539a2eb2b"
      },
      "source": [
        "for col_name, count_nan in zip(df.columns, df.isna().sum()):\n",
        "    if count_nan != 0:\n",
        "        print(f'column {col_name} has {count_nan} nan values')"
      ],
      "execution_count": null,
      "outputs": [
        {
          "name": "stdout",
          "output_type": "stream",
          "text": [
            "column Hours has 2 nan values\n"
          ]
        }
      ]
    },
    {
      "cell_type": "code",
      "metadata": {
        "id": "Bjbbk8RcJcg7"
      },
      "source": [
        "df = df.dropna()\n",
        "assert len(df) == 102"
      ],
      "execution_count": null,
      "outputs": []
    },
    {
      "cell_type": "code",
      "metadata": {
        "id": "cFbhYBl5Jcg8",
        "outputId": "c517c00d-b0c6-4682-dedf-7d8230331709"
      },
      "source": [
        "import seaborn as sns\n",
        "sns.heatmap(pd.crosstab(df.Hours, df.Tired))"
      ],
      "execution_count": null,
      "outputs": [
        {
          "data": {
            "text/plain": [
              "<AxesSubplot:xlabel='Tired', ylabel='Hours'>"
            ]
          },
          "execution_count": 6,
          "metadata": {},
          "output_type": "execute_result"
        },
        {
          "data": {
            "image/png": "[encoded data removed]",
            "text/plain": [
              "<Figure size 432x288 with 2 Axes>"
            ]
          },
          "metadata": {
            "needs_background": "light"
          },
          "output_type": "display_data"
        }
      ]
    },
    {
      "cell_type": "code",
      "metadata": {
        "id": "wfyOj5ngJcg8"
      },
      "source": [
        "x = df.loc[:,'Hours':'Breakfast']\n",
        "y = df['Enough']"
      ],
      "execution_count": null,
      "outputs": []
    },
    {
      "cell_type": "code",
      "metadata": {
        "id": "sRr-1Cv1Jcg9"
      },
      "source": [
        "from sklearn import linear_model, metrics, preprocessing, model_selection\n",
        "lr_sklearn = linear_model.LogisticRegression()\n",
        "lr_fitted_sklearn = lr_sklearn.fit(x, y.values)"
      ],
      "execution_count": null,
      "outputs": []
    },
    {
      "cell_type": "code",
      "metadata": {
        "id": "w9H_EGEwJcg9",
        "outputId": "56317356-b026-4d51-90fd-faefecd15521"
      },
      "source": [
        "y_hat_train = lr_fitted_sklearn.predict(x)\n",
        "y_prob_train = lr_fitted_sklearn.predict_proba(x)\n",
        "print('  + accuracy: %.2f' % metrics.accuracy_score(y, y_hat_train))\n",
        "print('  + area under ROC: %.2f' % metrics.roc_auc_score(y, y_prob_train[:,1]))"
      ],
      "execution_count": null,
      "outputs": [
        {
          "name": "stdout",
          "output_type": "stream",
          "text": [
            "  + accuracy: 0.80\n",
            "  + area under ROC: 0.82\n"
          ]
        }
      ]
    },
    {
      "cell_type": "markdown",
      "metadata": {
        "id": "gNlfxNtTY6zj"
      },
      "source": [
        "# Question 3 （Lasso Regression）\n",
        "\n",
        "請執行以下程式碼讀取sklearn的資料集。這是波士頓的房價的資料集。\n",
        "```\n",
        "from sklearn.datasets import load_boston\n",
        "boston = load_boston()\n",
        "```\n",
        "x: `boston.data`\n",
        "\n",
        "y: `boston.target`, 為波士頓的房價\n",
        "\n",
        "x的變項名稱為: `boston.feature_names`\n",
        "\n",
        "1.    請問`boston.data`有多少筆資料，共有幾個變項。\n",
        "\n",
        "2.    請以`train_test_split`將資料分爲 training 和 testing set，test_size 設爲0.3。\n",
        "\n",
        "3.    請為x和y建立一個 Lasso Regression 模型。請自行設定合理的 alphas_grid 區間對模型進行 5—fold Cross Validation，繪出 Line chart 選定模型表現最好的 alpha，並確切回報 alpha_best 的數值。\n",
        "\n",
        "4.    以`matplotlib`將模型回歸係數大小視覺化。\n",
        "\n",
        "5.    以 testing set 檢定模型表現，回報 training 和 testing set 的 MSE 和 R-square 值。"
      ]
    },
    {
      "cell_type": "code",
      "metadata": {
        "id": "DEcsNvLOJcg-",
        "outputId": "e65cf2b9-aeaa-4196-f1af-5870bd346f82"
      },
      "source": [
        "from sklearn.datasets import load_boston\n",
        "boston = load_boston()"
      ],
      "execution_count": null,
      "outputs": [
        {
          "name": "stderr",
          "output_type": "stream",
          "text": [
            "/Users/zionn/opt/anaconda3/envs/myenv/lib/python3.8/site-packages/sklearn/utils/deprecation.py:87: FutureWarning: Function load_boston is deprecated; `load_boston` is deprecated in 1.0 and will be removed in 1.2.\n",
            "\n",
            "    The Boston housing prices dataset has an ethical problem. You can refer to\n",
            "    the documentation of this function for further details.\n",
            "\n",
            "    The scikit-learn maintainers therefore strongly discourage the use of this\n",
            "    dataset unless the purpose of the code is to study and educate about\n",
            "    ethical issues in data science and machine learning.\n",
            "\n",
            "    In this case special case, you can fetch the dataset from the original\n",
            "    source::\n",
            "\n",
            "        import pandas as pd\n",
            "        import numpy as np\n",
            "\n",
            "\n",
            "        data_url = \"http://lib.stat.cmu.edu/datasets/boston\"\n",
            "        raw_df = pd.read_csv(data_url, sep=\"\\s+\", skiprows=22, header=None)\n",
            "        data = np.hstack([raw_df.values[::2, :], raw_df.values[1::2, :2]])\n",
            "        target = raw_df.values[1::2, 2]\n",
            "\n",
            "    Alternative datasets include the California housing dataset (i.e.\n",
            "    func:`~sklearn.datasets.fetch_california_housing`) and the Ames housing\n",
            "    dataset. You can load the datasets as follows:\n",
            "\n",
            "        from sklearn.datasets import fetch_california_housing\n",
            "        housing = fetch_california_housing()\n",
            "\n",
            "    for the California housing dataset and:\n",
            "\n",
            "        from sklearn.datasets import fetch_openml\n",
            "        housing = fetch_openml(name=\"house_prices\", as_frame=True)\n",
            "\n",
            "    for the Ames housing dataset.\n",
            "    \n",
            "  warnings.warn(msg, category=FutureWarning)\n"
          ]
        }
      ]
    },
    {
      "cell_type": "code",
      "metadata": {
        "id": "RLIfQNP0Jcg-"
      },
      "source": [
        "x = boston.data\n",
        "y = boston.target"
      ],
      "execution_count": null,
      "outputs": []
    },
    {
      "cell_type": "code",
      "metadata": {
        "id": "R3GNE67AJcg-",
        "outputId": "93fee944-6fee-48df-9b6b-589b4bbc3e5e"
      },
      "source": [
        "num_data, num_features = boston.data.shape\n",
        "print(f'boston.data has {num_data} data, {num_features} features')"
      ],
      "execution_count": null,
      "outputs": [
        {
          "name": "stdout",
          "output_type": "stream",
          "text": [
            "boston.data has 506 data, 13 features\n"
          ]
        }
      ]
    },
    {
      "cell_type": "code",
      "metadata": {
        "id": "gLWvbW8LJcg_"
      },
      "source": [
        "x_train, x_test, y_train, y_test = model_selection.train_test_split(x, y, test_size = 0.3, random_state = 48)"
      ],
      "execution_count": null,
      "outputs": []
    },
    {
      "cell_type": "code",
      "metadata": {
        "id": "aAp7vE5MJcg_"
      },
      "source": [
        "import numpy as np\n",
        "alphas_grid = np.logspace(-100, 100, num = 100)\n",
        "lasso_cv = linear_model.LassoCV(alphas = alphas_grid, fit_intercept = True, normalize = True, max_iter = 1000, tol = 0.001, cv = 5, random_state = 48)"
      ],
      "execution_count": null,
      "outputs": []
    },
    {
      "cell_type": "code",
      "metadata": {
        "id": "-GAEQbKDJcg_",
        "outputId": "f458e571-cba2-4187-c051-962630cb3e6e"
      },
      "source": [
        "lasso_cv_fitted = lasso_cv.fit(x, y)"
      ],
      "execution_count": null,
      "outputs": [
        {
          "name": "stderr",
          "output_type": "stream",
          "text": [
            "/Users/zionn/opt/anaconda3/envs/myenv/lib/python3.8/site-packages/sklearn/linear_model/_coordinate_descent.py:631: ConvergenceWarning: Objective did not converge. You might want to increase the number of iterations. Duality gap: 4353.3106935697115, tolerance: 39.19148542079209\n",
            "  model = cd_fast.enet_coordinate_descent_gram(\n",
            "/Users/zionn/opt/anaconda3/envs/myenv/lib/python3.8/site-packages/sklearn/linear_model/_coordinate_descent.py:631: ConvergenceWarning: Objective did not converge. You might want to increase the number of iterations. Duality gap: 4957.951732110099, tolerance: 39.19148542079209\n",
            "  model = cd_fast.enet_coordinate_descent_gram(\n",
            "/Users/zionn/opt/anaconda3/envs/myenv/lib/python3.8/site-packages/sklearn/linear_model/_coordinate_descent.py:631: ConvergenceWarning: Objective did not converge. You might want to increase the number of iterations. Duality gap: 4966.981178713765, tolerance: 39.19148542079209\n",
            "  model = cd_fast.enet_coordinate_descent_gram(\n",
            "/Users/zionn/opt/anaconda3/envs/myenv/lib/python3.8/site-packages/sklearn/linear_model/_coordinate_descent.py:631: ConvergenceWarning: Objective did not converge. You might want to increase the number of iterations. Duality gap: 4967.024316606215, tolerance: 39.19148542079209\n",
            "  model = cd_fast.enet_coordinate_descent_gram(\n",
            "/Users/zionn/opt/anaconda3/envs/myenv/lib/python3.8/site-packages/sklearn/linear_model/_coordinate_descent.py:631: ConvergenceWarning: Objective did not converge. You might want to increase the number of iterations. Duality gap: 4967.024492501483, tolerance: 39.19148542079209\n",
            "  model = cd_fast.enet_coordinate_descent_gram(\n",
            "/Users/zionn/opt/anaconda3/envs/myenv/lib/python3.8/site-packages/sklearn/linear_model/_coordinate_descent.py:631: ConvergenceWarning: Objective did not converge. You might want to increase the number of iterations. Duality gap: 4967.024500365836, tolerance: 39.19148542079209\n",
            "  model = cd_fast.enet_coordinate_descent_gram(\n",
            "/Users/zionn/opt/anaconda3/envs/myenv/lib/python3.8/site-packages/sklearn/linear_model/_coordinate_descent.py:631: ConvergenceWarning: Objective did not converge. You might want to increase the number of iterations. Duality gap: 4967.0245003957, tolerance: 39.19148542079209\n",
            "  model = cd_fast.enet_coordinate_descent_gram(\n",
            "/Users/zionn/opt/anaconda3/envs/myenv/lib/python3.8/site-packages/sklearn/linear_model/_coordinate_descent.py:631: ConvergenceWarning: Objective did not converge. You might want to increase the number of iterations. Duality gap: 4967.0245003960745, tolerance: 39.19148542079209\n",
            "  model = cd_fast.enet_coordinate_descent_gram(\n",
            "/Users/zionn/opt/anaconda3/envs/myenv/lib/python3.8/site-packages/sklearn/linear_model/_coordinate_descent.py:631: ConvergenceWarning: Objective did not converge. You might want to increase the number of iterations. Duality gap: 4967.024500395986, tolerance: 39.19148542079209\n",
            "  model = cd_fast.enet_coordinate_descent_gram(\n",
            "/Users/zionn/opt/anaconda3/envs/myenv/lib/python3.8/site-packages/sklearn/linear_model/_coordinate_descent.py:631: ConvergenceWarning: Objective did not converge. You might want to increase the number of iterations. Duality gap: 4967.024500396023, tolerance: 39.19148542079209\n",
            "  model = cd_fast.enet_coordinate_descent_gram(\n",
            "/Users/zionn/opt/anaconda3/envs/myenv/lib/python3.8/site-packages/sklearn/linear_model/_coordinate_descent.py:631: ConvergenceWarning: Objective did not converge. You might want to increase the number of iterations. Duality gap: 4967.024500395928, tolerance: 39.19148542079209\n",
            "  model = cd_fast.enet_coordinate_descent_gram(\n",
            "/Users/zionn/opt/anaconda3/envs/myenv/lib/python3.8/site-packages/sklearn/linear_model/_coordinate_descent.py:631: ConvergenceWarning: Objective did not converge. You might want to increase the number of iterations. Duality gap: 4967.024500396052, tolerance: 39.19148542079209\n",
            "  model = cd_fast.enet_coordinate_descent_gram(\n",
            "/Users/zionn/opt/anaconda3/envs/myenv/lib/python3.8/site-packages/sklearn/linear_model/_coordinate_descent.py:631: ConvergenceWarning: Objective did not converge. You might want to increase the number of iterations. Duality gap: 4967.024500396015, tolerance: 39.19148542079209\n",
            "  model = cd_fast.enet_coordinate_descent_gram(\n",
            "/Users/zionn/opt/anaconda3/envs/myenv/lib/python3.8/site-packages/sklearn/linear_model/_coordinate_descent.py:631: ConvergenceWarning: Objective did not converge. You might want to increase the number of iterations. Duality gap: 4967.024500396034, tolerance: 39.19148542079209\n",
            "  model = cd_fast.enet_coordinate_descent_gram(\n",
            "/Users/zionn/opt/anaconda3/envs/myenv/lib/python3.8/site-packages/sklearn/linear_model/_coordinate_descent.py:631: ConvergenceWarning: Objective did not converge. You might want to increase the number of iterations. Duality gap: 4967.024500396023, tolerance: 39.19148542079209\n",
            "  model = cd_fast.enet_coordinate_descent_gram(\n",
            "/Users/zionn/opt/anaconda3/envs/myenv/lib/python3.8/site-packages/sklearn/linear_model/_coordinate_descent.py:631: ConvergenceWarning: Objective did not converge. You might want to increase the number of iterations. Duality gap: 4967.024500396059, tolerance: 39.19148542079209\n",
            "  model = cd_fast.enet_coordinate_descent_gram(\n",
            "/Users/zionn/opt/anaconda3/envs/myenv/lib/python3.8/site-packages/sklearn/linear_model/_coordinate_descent.py:631: ConvergenceWarning: Objective did not converge. You might want to increase the number of iterations. Duality gap: 4967.024500396081, tolerance: 39.19148542079209\n",
            "  model = cd_fast.enet_coordinate_descent_gram(\n",
            "/Users/zionn/opt/anaconda3/envs/myenv/lib/python3.8/site-packages/sklearn/linear_model/_coordinate_descent.py:631: ConvergenceWarning: Objective did not converge. You might want to increase the number of iterations. Duality gap: 4967.024500396052, tolerance: 39.19148542079209\n",
            "  model = cd_fast.enet_coordinate_descent_gram(\n",
            "/Users/zionn/opt/anaconda3/envs/myenv/lib/python3.8/site-packages/sklearn/linear_model/_coordinate_descent.py:631: ConvergenceWarning: Objective did not converge. You might want to increase the number of iterations. Duality gap: 4967.024500396059, tolerance: 39.19148542079209\n",
            "  model = cd_fast.enet_coordinate_descent_gram(\n",
            "/Users/zionn/opt/anaconda3/envs/myenv/lib/python3.8/site-packages/sklearn/linear_model/_coordinate_descent.py:631: ConvergenceWarning: Objective did not converge. You might want to increase the number of iterations. Duality gap: 4967.024500395986, tolerance: 39.19148542079209\n",
            "  model = cd_fast.enet_coordinate_descent_gram(\n",
            "/Users/zionn/opt/anaconda3/envs/myenv/lib/python3.8/site-packages/sklearn/linear_model/_coordinate_descent.py:631: ConvergenceWarning: Objective did not converge. You might want to increase the number of iterations. Duality gap: 4967.024500396034, tolerance: 39.19148542079209\n",
            "  model = cd_fast.enet_coordinate_descent_gram(\n",
            "/Users/zionn/opt/anaconda3/envs/myenv/lib/python3.8/site-packages/sklearn/linear_model/_coordinate_descent.py:631: ConvergenceWarning: Objective did not converge. You might want to increase the number of iterations. Duality gap: 4967.024500395997, tolerance: 39.19148542079209\n",
            "  model = cd_fast.enet_coordinate_descent_gram(\n",
            "/Users/zionn/opt/anaconda3/envs/myenv/lib/python3.8/site-packages/sklearn/linear_model/_coordinate_descent.py:631: ConvergenceWarning: Objective did not converge. You might want to increase the number of iterations. Duality gap: 4967.024500396117, tolerance: 39.19148542079209\n",
            "  model = cd_fast.enet_coordinate_descent_gram(\n",
            "/Users/zionn/opt/anaconda3/envs/myenv/lib/python3.8/site-packages/sklearn/linear_model/_coordinate_descent.py:631: ConvergenceWarning: Objective did not converge. You might want to increase the number of iterations. Duality gap: 4967.0245003960445, tolerance: 39.19148542079209\n",
            "  model = cd_fast.enet_coordinate_descent_gram(\n",
            "/Users/zionn/opt/anaconda3/envs/myenv/lib/python3.8/site-packages/sklearn/linear_model/_coordinate_descent.py:631: ConvergenceWarning: Objective did not converge. You might want to increase the number of iterations. Duality gap: 4967.024500396081, tolerance: 39.19148542079209\n",
            "  model = cd_fast.enet_coordinate_descent_gram(\n",
            "/Users/zionn/opt/anaconda3/envs/myenv/lib/python3.8/site-packages/sklearn/linear_model/_coordinate_descent.py:631: ConvergenceWarning: Objective did not converge. You might want to increase the number of iterations. Duality gap: 4967.02450039607, tolerance: 39.19148542079209\n",
            "  model = cd_fast.enet_coordinate_descent_gram(\n",
            "/Users/zionn/opt/anaconda3/envs/myenv/lib/python3.8/site-packages/sklearn/linear_model/_coordinate_descent.py:631: ConvergenceWarning: Objective did not converge. You might want to increase the number of iterations. Duality gap: 4967.0245003960445, tolerance: 39.19148542079209\n",
            "  model = cd_fast.enet_coordinate_descent_gram(\n",
            "/Users/zionn/opt/anaconda3/envs/myenv/lib/python3.8/site-packages/sklearn/linear_model/_coordinate_descent.py:631: ConvergenceWarning: Objective did not converge. You might want to increase the number of iterations. Duality gap: 4967.02450039595, tolerance: 39.19148542079209\n",
            "  model = cd_fast.enet_coordinate_descent_gram(\n",
            "/Users/zionn/opt/anaconda3/envs/myenv/lib/python3.8/site-packages/sklearn/linear_model/_coordinate_descent.py:631: ConvergenceWarning: Objective did not converge. You might want to increase the number of iterations. Duality gap: 4967.024500396001, tolerance: 39.19148542079209\n",
            "  model = cd_fast.enet_coordinate_descent_gram(\n",
            "/Users/zionn/opt/anaconda3/envs/myenv/lib/python3.8/site-packages/sklearn/linear_model/_coordinate_descent.py:631: ConvergenceWarning: Objective did not converge. You might want to increase the number of iterations. Duality gap: 4967.0245003960445, tolerance: 39.19148542079209\n",
            "  model = cd_fast.enet_coordinate_descent_gram(\n",
            "/Users/zionn/opt/anaconda3/envs/myenv/lib/python3.8/site-packages/sklearn/linear_model/_coordinate_descent.py:631: ConvergenceWarning: Objective did not converge. You might want to increase the number of iterations. Duality gap: 4967.02450039603, tolerance: 39.19148542079209\n",
            "  model = cd_fast.enet_coordinate_descent_gram(\n",
            "/Users/zionn/opt/anaconda3/envs/myenv/lib/python3.8/site-packages/sklearn/linear_model/_coordinate_descent.py:631: ConvergenceWarning: Objective did not converge. You might want to increase the number of iterations. Duality gap: 4967.024500396081, tolerance: 39.19148542079209\n",
            "  model = cd_fast.enet_coordinate_descent_gram(\n",
            "/Users/zionn/opt/anaconda3/envs/myenv/lib/python3.8/site-packages/sklearn/linear_model/_coordinate_descent.py:631: ConvergenceWarning: Objective did not converge. You might want to increase the number of iterations. Duality gap: 4967.024500395975, tolerance: 39.19148542079209\n",
            "  model = cd_fast.enet_coordinate_descent_gram(\n",
            "/Users/zionn/opt/anaconda3/envs/myenv/lib/python3.8/site-packages/sklearn/linear_model/_coordinate_descent.py:631: ConvergenceWarning: Objective did not converge. You might want to increase the number of iterations. Duality gap: 4967.024500396015, tolerance: 39.19148542079209\n",
            "  model = cd_fast.enet_coordinate_descent_gram(\n",
            "/Users/zionn/opt/anaconda3/envs/myenv/lib/python3.8/site-packages/sklearn/linear_model/_coordinate_descent.py:631: ConvergenceWarning: Objective did not converge. You might want to increase the number of iterations. Duality gap: 4967.024500395986, tolerance: 39.19148542079209\n",
            "  model = cd_fast.enet_coordinate_descent_gram(\n",
            "/Users/zionn/opt/anaconda3/envs/myenv/lib/python3.8/site-packages/sklearn/linear_model/_coordinate_descent.py:631: ConvergenceWarning: Objective did not converge. You might want to increase the number of iterations. Duality gap: 4967.024500396081, tolerance: 39.19148542079209\n",
            "  model = cd_fast.enet_coordinate_descent_gram(\n",
            "/Users/zionn/opt/anaconda3/envs/myenv/lib/python3.8/site-packages/sklearn/linear_model/_coordinate_descent.py:631: ConvergenceWarning: Objective did not converge. You might want to increase the number of iterations. Duality gap: 4967.024500396139, tolerance: 39.19148542079209\n",
            "  model = cd_fast.enet_coordinate_descent_gram(\n",
            "/Users/zionn/opt/anaconda3/envs/myenv/lib/python3.8/site-packages/sklearn/linear_model/_coordinate_descent.py:631: ConvergenceWarning: Objective did not converge. You might want to increase the number of iterations. Duality gap: 4967.024500396059, tolerance: 39.19148542079209\n",
            "  model = cd_fast.enet_coordinate_descent_gram(\n",
            "/Users/zionn/opt/anaconda3/envs/myenv/lib/python3.8/site-packages/sklearn/linear_model/_coordinate_descent.py:631: ConvergenceWarning: Objective did not converge. You might want to increase the number of iterations. Duality gap: 4967.024500396008, tolerance: 39.19148542079209\n",
            "  model = cd_fast.enet_coordinate_descent_gram(\n",
            "/Users/zionn/opt/anaconda3/envs/myenv/lib/python3.8/site-packages/sklearn/linear_model/_coordinate_descent.py:631: ConvergenceWarning: Objective did not converge. You might want to increase the number of iterations. Duality gap: 4967.0245003960845, tolerance: 39.19148542079209\n",
            "  model = cd_fast.enet_coordinate_descent_gram(\n",
            "/Users/zionn/opt/anaconda3/envs/myenv/lib/python3.8/site-packages/sklearn/linear_model/_coordinate_descent.py:631: ConvergenceWarning: Objective did not converge. You might want to increase the number of iterations. Duality gap: 4967.02450039603, tolerance: 39.19148542079209\n",
            "  model = cd_fast.enet_coordinate_descent_gram(\n",
            "/Users/zionn/opt/anaconda3/envs/myenv/lib/python3.8/site-packages/sklearn/linear_model/_coordinate_descent.py:631: ConvergenceWarning: Objective did not converge. You might want to increase the number of iterations. Duality gap: 4967.024500396095, tolerance: 39.19148542079209\n",
            "  model = cd_fast.enet_coordinate_descent_gram(\n",
            "/Users/zionn/opt/anaconda3/envs/myenv/lib/python3.8/site-packages/sklearn/linear_model/_coordinate_descent.py:631: ConvergenceWarning: Objective did not converge. You might want to increase the number of iterations. Duality gap: 4164.677543106828, tolerance: 33.07131679012347\n",
            "  model = cd_fast.enet_coordinate_descent_gram(\n",
            "/Users/zionn/opt/anaconda3/envs/myenv/lib/python3.8/site-packages/sklearn/linear_model/_coordinate_descent.py:631: ConvergenceWarning: Objective did not converge. You might want to increase the number of iterations. Duality gap: 4498.2878711424, tolerance: 33.07131679012347\n",
            "  model = cd_fast.enet_coordinate_descent_gram(\n",
            "/Users/zionn/opt/anaconda3/envs/myenv/lib/python3.8/site-packages/sklearn/linear_model/_coordinate_descent.py:631: ConvergenceWarning: Objective did not converge. You might want to increase the number of iterations. Duality gap: 4503.773565685262, tolerance: 33.07131679012347\n",
            "  model = cd_fast.enet_coordinate_descent_gram(\n",
            "/Users/zionn/opt/anaconda3/envs/myenv/lib/python3.8/site-packages/sklearn/linear_model/_coordinate_descent.py:631: ConvergenceWarning: Objective did not converge. You might want to increase the number of iterations. Duality gap: 4503.786262323501, tolerance: 33.07131679012347\n",
            "  model = cd_fast.enet_coordinate_descent_gram(\n",
            "/Users/zionn/opt/anaconda3/envs/myenv/lib/python3.8/site-packages/sklearn/linear_model/_coordinate_descent.py:631: ConvergenceWarning: Objective did not converge. You might want to increase the number of iterations. Duality gap: 4503.786688322601, tolerance: 33.07131679012347\n",
            "  model = cd_fast.enet_coordinate_descent_gram(\n",
            "/Users/zionn/opt/anaconda3/envs/myenv/lib/python3.8/site-packages/sklearn/linear_model/_coordinate_descent.py:631: ConvergenceWarning: Objective did not converge. You might want to increase the number of iterations. Duality gap: 4503.786691887758, tolerance: 33.07131679012347\n",
            "  model = cd_fast.enet_coordinate_descent_gram(\n",
            "/Users/zionn/opt/anaconda3/envs/myenv/lib/python3.8/site-packages/sklearn/linear_model/_coordinate_descent.py:631: ConvergenceWarning: Objective did not converge. You might want to increase the number of iterations. Duality gap: 4503.786691910499, tolerance: 33.07131679012347\n",
            "  model = cd_fast.enet_coordinate_descent_gram(\n",
            "/Users/zionn/opt/anaconda3/envs/myenv/lib/python3.8/site-packages/sklearn/linear_model/_coordinate_descent.py:631: ConvergenceWarning: Objective did not converge. You might want to increase the number of iterations. Duality gap: 4503.786691910657, tolerance: 33.07131679012347\n",
            "  model = cd_fast.enet_coordinate_descent_gram(\n",
            "/Users/zionn/opt/anaconda3/envs/myenv/lib/python3.8/site-packages/sklearn/linear_model/_coordinate_descent.py:631: ConvergenceWarning: Objective did not converge. You might want to increase the number of iterations. Duality gap: 4503.786691910627, tolerance: 33.07131679012347\n",
            "  model = cd_fast.enet_coordinate_descent_gram(\n",
            "/Users/zionn/opt/anaconda3/envs/myenv/lib/python3.8/site-packages/sklearn/linear_model/_coordinate_descent.py:631: ConvergenceWarning: Objective did not converge. You might want to increase the number of iterations. Duality gap: 4503.786691910638, tolerance: 33.07131679012347\n",
            "  model = cd_fast.enet_coordinate_descent_gram(\n",
            "/Users/zionn/opt/anaconda3/envs/myenv/lib/python3.8/site-packages/sklearn/linear_model/_coordinate_descent.py:631: ConvergenceWarning: Objective did not converge. You might want to increase the number of iterations. Duality gap: 4503.78669191058, tolerance: 33.07131679012347\n",
            "  model = cd_fast.enet_coordinate_descent_gram(\n",
            "/Users/zionn/opt/anaconda3/envs/myenv/lib/python3.8/site-packages/sklearn/linear_model/_coordinate_descent.py:631: ConvergenceWarning: Objective did not converge. You might want to increase the number of iterations. Duality gap: 4503.786691910729, tolerance: 33.07131679012347\n",
            "  model = cd_fast.enet_coordinate_descent_gram(\n",
            "/Users/zionn/opt/anaconda3/envs/myenv/lib/python3.8/site-packages/sklearn/linear_model/_coordinate_descent.py:631: ConvergenceWarning: Objective did not converge. You might want to increase the number of iterations. Duality gap: 4503.786691910591, tolerance: 33.07131679012347\n",
            "  model = cd_fast.enet_coordinate_descent_gram(\n",
            "/Users/zionn/opt/anaconda3/envs/myenv/lib/python3.8/site-packages/sklearn/linear_model/_coordinate_descent.py:631: ConvergenceWarning: Objective did not converge. You might want to increase the number of iterations. Duality gap: 4503.78669191054, tolerance: 33.07131679012347\n",
            "  model = cd_fast.enet_coordinate_descent_gram(\n",
            "/Users/zionn/opt/anaconda3/envs/myenv/lib/python3.8/site-packages/sklearn/linear_model/_coordinate_descent.py:631: ConvergenceWarning: Objective did not converge. You might want to increase the number of iterations. Duality gap: 4503.7866919106855, tolerance: 33.07131679012347\n",
            "  model = cd_fast.enet_coordinate_descent_gram(\n",
            "/Users/zionn/opt/anaconda3/envs/myenv/lib/python3.8/site-packages/sklearn/linear_model/_coordinate_descent.py:631: ConvergenceWarning: Objective did not converge. You might want to increase the number of iterations. Duality gap: 4503.786691910602, tolerance: 33.07131679012347\n",
            "  model = cd_fast.enet_coordinate_descent_gram(\n",
            "/Users/zionn/opt/anaconda3/envs/myenv/lib/python3.8/site-packages/sklearn/linear_model/_coordinate_descent.py:631: ConvergenceWarning: Objective did not converge. You might want to increase the number of iterations. Duality gap: 4503.786691910631, tolerance: 33.07131679012347\n",
            "  model = cd_fast.enet_coordinate_descent_gram(\n",
            "/Users/zionn/opt/anaconda3/envs/myenv/lib/python3.8/site-packages/sklearn/linear_model/_coordinate_descent.py:631: ConvergenceWarning: Objective did not converge. You might want to increase the number of iterations. Duality gap: 4503.786691910638, tolerance: 33.07131679012347\n",
            "  model = cd_fast.enet_coordinate_descent_gram(\n",
            "/Users/zionn/opt/anaconda3/envs/myenv/lib/python3.8/site-packages/sklearn/linear_model/_coordinate_descent.py:631: ConvergenceWarning: Objective did not converge. You might want to increase the number of iterations. Duality gap: 4503.786691910627, tolerance: 33.07131679012347\n",
            "  model = cd_fast.enet_coordinate_descent_gram(\n",
            "/Users/zionn/opt/anaconda3/envs/myenv/lib/python3.8/site-packages/sklearn/linear_model/_coordinate_descent.py:631: ConvergenceWarning: Objective did not converge. You might want to increase the number of iterations. Duality gap: 4503.786691910627, tolerance: 33.07131679012347\n",
            "  model = cd_fast.enet_coordinate_descent_gram(\n",
            "/Users/zionn/opt/anaconda3/envs/myenv/lib/python3.8/site-packages/sklearn/linear_model/_coordinate_descent.py:631: ConvergenceWarning: Objective did not converge. You might want to increase the number of iterations. Duality gap: 4503.7866919106455, tolerance: 33.07131679012347\n",
            "  model = cd_fast.enet_coordinate_descent_gram(\n",
            "/Users/zionn/opt/anaconda3/envs/myenv/lib/python3.8/site-packages/sklearn/linear_model/_coordinate_descent.py:631: ConvergenceWarning: Objective did not converge. You might want to increase the number of iterations. Duality gap: 4503.786691910565, tolerance: 33.07131679012347\n",
            "  model = cd_fast.enet_coordinate_descent_gram(\n",
            "/Users/zionn/opt/anaconda3/envs/myenv/lib/python3.8/site-packages/sklearn/linear_model/_coordinate_descent.py:631: ConvergenceWarning: Objective did not converge. You might want to increase the number of iterations. Duality gap: 4503.7866919106345, tolerance: 33.07131679012347\n",
            "  model = cd_fast.enet_coordinate_descent_gram(\n",
            "/Users/zionn/opt/anaconda3/envs/myenv/lib/python3.8/site-packages/sklearn/linear_model/_coordinate_descent.py:631: ConvergenceWarning: Objective did not converge. You might want to increase the number of iterations. Duality gap: 4503.786691910642, tolerance: 33.07131679012347\n",
            "  model = cd_fast.enet_coordinate_descent_gram(\n",
            "/Users/zionn/opt/anaconda3/envs/myenv/lib/python3.8/site-packages/sklearn/linear_model/_coordinate_descent.py:631: ConvergenceWarning: Objective did not converge. You might want to increase the number of iterations. Duality gap: 4503.786691910649, tolerance: 33.07131679012347\n",
            "  model = cd_fast.enet_coordinate_descent_gram(\n",
            "/Users/zionn/opt/anaconda3/envs/myenv/lib/python3.8/site-packages/sklearn/linear_model/_coordinate_descent.py:631: ConvergenceWarning: Objective did not converge. You might want to increase the number of iterations. Duality gap: 4503.78669191062, tolerance: 33.07131679012347\n",
            "  model = cd_fast.enet_coordinate_descent_gram(\n",
            "/Users/zionn/opt/anaconda3/envs/myenv/lib/python3.8/site-packages/sklearn/linear_model/_coordinate_descent.py:631: ConvergenceWarning: Objective did not converge. You might want to increase the number of iterations. Duality gap: 4503.786691910547, tolerance: 33.07131679012347\n",
            "  model = cd_fast.enet_coordinate_descent_gram(\n",
            "/Users/zionn/opt/anaconda3/envs/myenv/lib/python3.8/site-packages/sklearn/linear_model/_coordinate_descent.py:631: ConvergenceWarning: Objective did not converge. You might want to increase the number of iterations. Duality gap: 4503.786691910605, tolerance: 33.07131679012347\n",
            "  model = cd_fast.enet_coordinate_descent_gram(\n",
            "/Users/zionn/opt/anaconda3/envs/myenv/lib/python3.8/site-packages/sklearn/linear_model/_coordinate_descent.py:631: ConvergenceWarning: Objective did not converge. You might want to increase the number of iterations. Duality gap: 4503.786691910565, tolerance: 33.07131679012347\n",
            "  model = cd_fast.enet_coordinate_descent_gram(\n",
            "/Users/zionn/opt/anaconda3/envs/myenv/lib/python3.8/site-packages/sklearn/linear_model/_coordinate_descent.py:631: ConvergenceWarning: Objective did not converge. You might want to increase the number of iterations. Duality gap: 4503.786691910664, tolerance: 33.07131679012347\n",
            "  model = cd_fast.enet_coordinate_descent_gram(\n",
            "/Users/zionn/opt/anaconda3/envs/myenv/lib/python3.8/site-packages/sklearn/linear_model/_coordinate_descent.py:631: ConvergenceWarning: Objective did not converge. You might want to increase the number of iterations. Duality gap: 4503.7866919105945, tolerance: 33.07131679012347\n",
            "  model = cd_fast.enet_coordinate_descent_gram(\n",
            "/Users/zionn/opt/anaconda3/envs/myenv/lib/python3.8/site-packages/sklearn/linear_model/_coordinate_descent.py:631: ConvergenceWarning: Objective did not converge. You might want to increase the number of iterations. Duality gap: 4503.786691910682, tolerance: 33.07131679012347\n",
            "  model = cd_fast.enet_coordinate_descent_gram(\n",
            "/Users/zionn/opt/anaconda3/envs/myenv/lib/python3.8/site-packages/sklearn/linear_model/_coordinate_descent.py:631: ConvergenceWarning: Objective did not converge. You might want to increase the number of iterations. Duality gap: 4503.786691910624, tolerance: 33.07131679012347\n",
            "  model = cd_fast.enet_coordinate_descent_gram(\n",
            "/Users/zionn/opt/anaconda3/envs/myenv/lib/python3.8/site-packages/sklearn/linear_model/_coordinate_descent.py:631: ConvergenceWarning: Objective did not converge. You might want to increase the number of iterations. Duality gap: 4503.786691910576, tolerance: 33.07131679012347\n",
            "  model = cd_fast.enet_coordinate_descent_gram(\n",
            "/Users/zionn/opt/anaconda3/envs/myenv/lib/python3.8/site-packages/sklearn/linear_model/_coordinate_descent.py:631: ConvergenceWarning: Objective did not converge. You might want to increase the number of iterations. Duality gap: 4503.786691910649, tolerance: 33.07131679012347\n",
            "  model = cd_fast.enet_coordinate_descent_gram(\n",
            "/Users/zionn/opt/anaconda3/envs/myenv/lib/python3.8/site-packages/sklearn/linear_model/_coordinate_descent.py:631: ConvergenceWarning: Objective did not converge. You might want to increase the number of iterations. Duality gap: 4503.786691910718, tolerance: 33.07131679012347\n",
            "  model = cd_fast.enet_coordinate_descent_gram(\n",
            "/Users/zionn/opt/anaconda3/envs/myenv/lib/python3.8/site-packages/sklearn/linear_model/_coordinate_descent.py:631: ConvergenceWarning: Objective did not converge. You might want to increase the number of iterations. Duality gap: 4503.786691910638, tolerance: 33.07131679012347\n",
            "  model = cd_fast.enet_coordinate_descent_gram(\n",
            "/Users/zionn/opt/anaconda3/envs/myenv/lib/python3.8/site-packages/sklearn/linear_model/_coordinate_descent.py:631: ConvergenceWarning: Objective did not converge. You might want to increase the number of iterations. Duality gap: 4503.786691910573, tolerance: 33.07131679012347\n",
            "  model = cd_fast.enet_coordinate_descent_gram(\n",
            "/Users/zionn/opt/anaconda3/envs/myenv/lib/python3.8/site-packages/sklearn/linear_model/_coordinate_descent.py:631: ConvergenceWarning: Objective did not converge. You might want to increase the number of iterations. Duality gap: 4503.786691910711, tolerance: 33.07131679012347\n",
            "  model = cd_fast.enet_coordinate_descent_gram(\n",
            "/Users/zionn/opt/anaconda3/envs/myenv/lib/python3.8/site-packages/sklearn/linear_model/_coordinate_descent.py:631: ConvergenceWarning: Objective did not converge. You might want to increase the number of iterations. Duality gap: 4503.786691910616, tolerance: 33.07131679012347\n",
            "  model = cd_fast.enet_coordinate_descent_gram(\n",
            "/Users/zionn/opt/anaconda3/envs/myenv/lib/python3.8/site-packages/sklearn/linear_model/_coordinate_descent.py:631: ConvergenceWarning: Objective did not converge. You might want to increase the number of iterations. Duality gap: 4503.786691910573, tolerance: 33.07131679012347\n",
            "  model = cd_fast.enet_coordinate_descent_gram(\n",
            "/Users/zionn/opt/anaconda3/envs/myenv/lib/python3.8/site-packages/sklearn/linear_model/_coordinate_descent.py:631: ConvergenceWarning: Objective did not converge. You might want to increase the number of iterations. Duality gap: 4503.786691910609, tolerance: 33.07131679012347\n",
            "  model = cd_fast.enet_coordinate_descent_gram(\n",
            "/Users/zionn/opt/anaconda3/envs/myenv/lib/python3.8/site-packages/sklearn/linear_model/_coordinate_descent.py:631: ConvergenceWarning: Objective did not converge. You might want to increase the number of iterations. Duality gap: 3833.3884240378516, tolerance: 28.136438864197533\n",
            "  model = cd_fast.enet_coordinate_descent_gram(\n",
            "/Users/zionn/opt/anaconda3/envs/myenv/lib/python3.8/site-packages/sklearn/linear_model/_coordinate_descent.py:631: ConvergenceWarning: Objective did not converge. You might want to increase the number of iterations. Duality gap: 4280.604934853321, tolerance: 28.136438864197533\n",
            "  model = cd_fast.enet_coordinate_descent_gram(\n",
            "/Users/zionn/opt/anaconda3/envs/myenv/lib/python3.8/site-packages/sklearn/linear_model/_coordinate_descent.py:631: ConvergenceWarning: Objective did not converge. You might want to increase the number of iterations. Duality gap: 4291.052688488415, tolerance: 28.136438864197533\n",
            "  model = cd_fast.enet_coordinate_descent_gram(\n",
            "/Users/zionn/opt/anaconda3/envs/myenv/lib/python3.8/site-packages/sklearn/linear_model/_coordinate_descent.py:631: ConvergenceWarning: Objective did not converge. You might want to increase the number of iterations. Duality gap: 4291.079258653509, tolerance: 28.136438864197533\n",
            "  model = cd_fast.enet_coordinate_descent_gram(\n",
            "/Users/zionn/opt/anaconda3/envs/myenv/lib/python3.8/site-packages/sklearn/linear_model/_coordinate_descent.py:631: ConvergenceWarning: Objective did not converge. You might want to increase the number of iterations. Duality gap: 4291.079970367668, tolerance: 28.136438864197533\n",
            "  model = cd_fast.enet_coordinate_descent_gram(\n",
            "/Users/zionn/opt/anaconda3/envs/myenv/lib/python3.8/site-packages/sklearn/linear_model/_coordinate_descent.py:631: ConvergenceWarning: Objective did not converge. You might want to increase the number of iterations. Duality gap: 4291.07997490565, tolerance: 28.136438864197533\n",
            "  model = cd_fast.enet_coordinate_descent_gram(\n",
            "/Users/zionn/opt/anaconda3/envs/myenv/lib/python3.8/site-packages/sklearn/linear_model/_coordinate_descent.py:631: ConvergenceWarning: Objective did not converge. You might want to increase the number of iterations. Duality gap: 4291.079974925598, tolerance: 28.136438864197533\n",
            "  model = cd_fast.enet_coordinate_descent_gram(\n",
            "/Users/zionn/opt/anaconda3/envs/myenv/lib/python3.8/site-packages/sklearn/linear_model/_coordinate_descent.py:631: ConvergenceWarning: Objective did not converge. You might want to increase the number of iterations. Duality gap: 4291.079974925853, tolerance: 28.136438864197533\n",
            "  model = cd_fast.enet_coordinate_descent_gram(\n",
            "/Users/zionn/opt/anaconda3/envs/myenv/lib/python3.8/site-packages/sklearn/linear_model/_coordinate_descent.py:631: ConvergenceWarning: Objective did not converge. You might want to increase the number of iterations. Duality gap: 4291.079974925822, tolerance: 28.136438864197533\n",
            "  model = cd_fast.enet_coordinate_descent_gram(\n",
            "/Users/zionn/opt/anaconda3/envs/myenv/lib/python3.8/site-packages/sklearn/linear_model/_coordinate_descent.py:631: ConvergenceWarning: Objective did not converge. You might want to increase the number of iterations. Duality gap: 4291.079974925859, tolerance: 28.136438864197533\n",
            "  model = cd_fast.enet_coordinate_descent_gram(\n",
            "/Users/zionn/opt/anaconda3/envs/myenv/lib/python3.8/site-packages/sklearn/linear_model/_coordinate_descent.py:631: ConvergenceWarning: Objective did not converge. You might want to increase the number of iterations. Duality gap: 4291.079974925782, tolerance: 28.136438864197533\n",
            "  model = cd_fast.enet_coordinate_descent_gram(\n",
            "/Users/zionn/opt/anaconda3/envs/myenv/lib/python3.8/site-packages/sklearn/linear_model/_coordinate_descent.py:631: ConvergenceWarning: Objective did not converge. You might want to increase the number of iterations. Duality gap: 4291.079974925815, tolerance: 28.136438864197533\n",
            "  model = cd_fast.enet_coordinate_descent_gram(\n",
            "/Users/zionn/opt/anaconda3/envs/myenv/lib/python3.8/site-packages/sklearn/linear_model/_coordinate_descent.py:631: ConvergenceWarning: Objective did not converge. You might want to increase the number of iterations. Duality gap: 4291.079974925851, tolerance: 28.136438864197533\n",
            "  model = cd_fast.enet_coordinate_descent_gram(\n",
            "/Users/zionn/opt/anaconda3/envs/myenv/lib/python3.8/site-packages/sklearn/linear_model/_coordinate_descent.py:631: ConvergenceWarning: Objective did not converge. You might want to increase the number of iterations. Duality gap: 4291.079974925811, tolerance: 28.136438864197533\n",
            "  model = cd_fast.enet_coordinate_descent_gram(\n",
            "/Users/zionn/opt/anaconda3/envs/myenv/lib/python3.8/site-packages/sklearn/linear_model/_coordinate_descent.py:631: ConvergenceWarning: Objective did not converge. You might want to increase the number of iterations. Duality gap: 4291.079974925764, tolerance: 28.136438864197533\n",
            "  model = cd_fast.enet_coordinate_descent_gram(\n",
            "/Users/zionn/opt/anaconda3/envs/myenv/lib/python3.8/site-packages/sklearn/linear_model/_coordinate_descent.py:631: ConvergenceWarning: Objective did not converge. You might want to increase the number of iterations. Duality gap: 4291.079974925917, tolerance: 28.136438864197533\n",
            "  model = cd_fast.enet_coordinate_descent_gram(\n",
            "/Users/zionn/opt/anaconda3/envs/myenv/lib/python3.8/site-packages/sklearn/linear_model/_coordinate_descent.py:631: ConvergenceWarning: Objective did not converge. You might want to increase the number of iterations. Duality gap: 4291.079974925906, tolerance: 28.136438864197533\n",
            "  model = cd_fast.enet_coordinate_descent_gram(\n",
            "/Users/zionn/opt/anaconda3/envs/myenv/lib/python3.8/site-packages/sklearn/linear_model/_coordinate_descent.py:631: ConvergenceWarning: Objective did not converge. You might want to increase the number of iterations. Duality gap: 4291.079974925822, tolerance: 28.136438864197533\n",
            "  model = cd_fast.enet_coordinate_descent_gram(\n",
            "/Users/zionn/opt/anaconda3/envs/myenv/lib/python3.8/site-packages/sklearn/linear_model/_coordinate_descent.py:631: ConvergenceWarning: Objective did not converge. You might want to increase the number of iterations. Duality gap: 4291.079974925804, tolerance: 28.136438864197533\n",
            "  model = cd_fast.enet_coordinate_descent_gram(\n",
            "/Users/zionn/opt/anaconda3/envs/myenv/lib/python3.8/site-packages/sklearn/linear_model/_coordinate_descent.py:631: ConvergenceWarning: Objective did not converge. You might want to increase the number of iterations. Duality gap: 4291.079974925862, tolerance: 28.136438864197533\n",
            "  model = cd_fast.enet_coordinate_descent_gram(\n",
            "/Users/zionn/opt/anaconda3/envs/myenv/lib/python3.8/site-packages/sklearn/linear_model/_coordinate_descent.py:631: ConvergenceWarning: Objective did not converge. You might want to increase the number of iterations. Duality gap: 4291.079974925877, tolerance: 28.136438864197533\n",
            "  model = cd_fast.enet_coordinate_descent_gram(\n",
            "/Users/zionn/opt/anaconda3/envs/myenv/lib/python3.8/site-packages/sklearn/linear_model/_coordinate_descent.py:631: ConvergenceWarning: Objective did not converge. You might want to increase the number of iterations. Duality gap: 4291.079974925891, tolerance: 28.136438864197533\n",
            "  model = cd_fast.enet_coordinate_descent_gram(\n",
            "/Users/zionn/opt/anaconda3/envs/myenv/lib/python3.8/site-packages/sklearn/linear_model/_coordinate_descent.py:631: ConvergenceWarning: Objective did not converge. You might want to increase the number of iterations. Duality gap: 4291.079974925753, tolerance: 28.136438864197533\n",
            "  model = cd_fast.enet_coordinate_descent_gram(\n",
            "/Users/zionn/opt/anaconda3/envs/myenv/lib/python3.8/site-packages/sklearn/linear_model/_coordinate_descent.py:631: ConvergenceWarning: Objective did not converge. You might want to increase the number of iterations. Duality gap: 4291.0799749258185, tolerance: 28.136438864197533\n",
            "  model = cd_fast.enet_coordinate_descent_gram(\n",
            "/Users/zionn/opt/anaconda3/envs/myenv/lib/python3.8/site-packages/sklearn/linear_model/_coordinate_descent.py:631: ConvergenceWarning: Objective did not converge. You might want to increase the number of iterations. Duality gap: 4291.079974925829, tolerance: 28.136438864197533\n",
            "  model = cd_fast.enet_coordinate_descent_gram(\n",
            "/Users/zionn/opt/anaconda3/envs/myenv/lib/python3.8/site-packages/sklearn/linear_model/_coordinate_descent.py:631: ConvergenceWarning: Objective did not converge. You might want to increase the number of iterations. Duality gap: 4291.079974925786, tolerance: 28.136438864197533\n",
            "  model = cd_fast.enet_coordinate_descent_gram(\n",
            "/Users/zionn/opt/anaconda3/envs/myenv/lib/python3.8/site-packages/sklearn/linear_model/_coordinate_descent.py:631: ConvergenceWarning: Objective did not converge. You might want to increase the number of iterations. Duality gap: 4291.07997492588, tolerance: 28.136438864197533\n",
            "  model = cd_fast.enet_coordinate_descent_gram(\n",
            "/Users/zionn/opt/anaconda3/envs/myenv/lib/python3.8/site-packages/sklearn/linear_model/_coordinate_descent.py:631: ConvergenceWarning: Objective did not converge. You might want to increase the number of iterations. Duality gap: 4291.079974925815, tolerance: 28.136438864197533\n",
            "  model = cd_fast.enet_coordinate_descent_gram(\n",
            "/Users/zionn/opt/anaconda3/envs/myenv/lib/python3.8/site-packages/sklearn/linear_model/_coordinate_descent.py:631: ConvergenceWarning: Objective did not converge. You might want to increase the number of iterations. Duality gap: 4291.079974925826, tolerance: 28.136438864197533\n",
            "  model = cd_fast.enet_coordinate_descent_gram(\n",
            "/Users/zionn/opt/anaconda3/envs/myenv/lib/python3.8/site-packages/sklearn/linear_model/_coordinate_descent.py:631: ConvergenceWarning: Objective did not converge. You might want to increase the number of iterations. Duality gap: 4291.0799749257385, tolerance: 28.136438864197533\n",
            "  model = cd_fast.enet_coordinate_descent_gram(\n",
            "/Users/zionn/opt/anaconda3/envs/myenv/lib/python3.8/site-packages/sklearn/linear_model/_coordinate_descent.py:631: ConvergenceWarning: Objective did not converge. You might want to increase the number of iterations. Duality gap: 4291.079974925844, tolerance: 28.136438864197533\n",
            "  model = cd_fast.enet_coordinate_descent_gram(\n",
            "/Users/zionn/opt/anaconda3/envs/myenv/lib/python3.8/site-packages/sklearn/linear_model/_coordinate_descent.py:631: ConvergenceWarning: Objective did not converge. You might want to increase the number of iterations. Duality gap: 4291.0799749258185, tolerance: 28.136438864197533\n",
            "  model = cd_fast.enet_coordinate_descent_gram(\n",
            "/Users/zionn/opt/anaconda3/envs/myenv/lib/python3.8/site-packages/sklearn/linear_model/_coordinate_descent.py:631: ConvergenceWarning: Objective did not converge. You might want to increase the number of iterations. Duality gap: 4291.079974925822, tolerance: 28.136438864197533\n",
            "  model = cd_fast.enet_coordinate_descent_gram(\n",
            "/Users/zionn/opt/anaconda3/envs/myenv/lib/python3.8/site-packages/sklearn/linear_model/_coordinate_descent.py:631: ConvergenceWarning: Objective did not converge. You might want to increase the number of iterations. Duality gap: 4291.0799749257785, tolerance: 28.136438864197533\n",
            "  model = cd_fast.enet_coordinate_descent_gram(\n",
            "/Users/zionn/opt/anaconda3/envs/myenv/lib/python3.8/site-packages/sklearn/linear_model/_coordinate_descent.py:631: ConvergenceWarning: Objective did not converge. You might want to increase the number of iterations. Duality gap: 4291.079974925866, tolerance: 28.136438864197533\n",
            "  model = cd_fast.enet_coordinate_descent_gram(\n",
            "/Users/zionn/opt/anaconda3/envs/myenv/lib/python3.8/site-packages/sklearn/linear_model/_coordinate_descent.py:631: ConvergenceWarning: Objective did not converge. You might want to increase the number of iterations. Duality gap: 4291.079974925793, tolerance: 28.136438864197533\n",
            "  model = cd_fast.enet_coordinate_descent_gram(\n",
            "/Users/zionn/opt/anaconda3/envs/myenv/lib/python3.8/site-packages/sklearn/linear_model/_coordinate_descent.py:631: ConvergenceWarning: Objective did not converge. You might want to increase the number of iterations. Duality gap: 4291.079974925851, tolerance: 28.136438864197533\n",
            "  model = cd_fast.enet_coordinate_descent_gram(\n",
            "/Users/zionn/opt/anaconda3/envs/myenv/lib/python3.8/site-packages/sklearn/linear_model/_coordinate_descent.py:631: ConvergenceWarning: Objective did not converge. You might want to increase the number of iterations. Duality gap: 4291.079974925939, tolerance: 28.136438864197533\n",
            "  model = cd_fast.enet_coordinate_descent_gram(\n",
            "/Users/zionn/opt/anaconda3/envs/myenv/lib/python3.8/site-packages/sklearn/linear_model/_coordinate_descent.py:631: ConvergenceWarning: Objective did not converge. You might want to increase the number of iterations. Duality gap: 4291.079974925789, tolerance: 28.136438864197533\n",
            "  model = cd_fast.enet_coordinate_descent_gram(\n",
            "/Users/zionn/opt/anaconda3/envs/myenv/lib/python3.8/site-packages/sklearn/linear_model/_coordinate_descent.py:631: ConvergenceWarning: Objective did not converge. You might want to increase the number of iterations. Duality gap: 4291.079974925811, tolerance: 28.136438864197533\n",
            "  model = cd_fast.enet_coordinate_descent_gram(\n",
            "/Users/zionn/opt/anaconda3/envs/myenv/lib/python3.8/site-packages/sklearn/linear_model/_coordinate_descent.py:631: ConvergenceWarning: Objective did not converge. You might want to increase the number of iterations. Duality gap: 4291.079974925884, tolerance: 28.136438864197533\n",
            "  model = cd_fast.enet_coordinate_descent_gram(\n",
            "/Users/zionn/opt/anaconda3/envs/myenv/lib/python3.8/site-packages/sklearn/linear_model/_coordinate_descent.py:631: ConvergenceWarning: Objective did not converge. You might want to increase the number of iterations. Duality gap: 4291.079974925808, tolerance: 28.136438864197533\n",
            "  model = cd_fast.enet_coordinate_descent_gram(\n",
            "/Users/zionn/opt/anaconda3/envs/myenv/lib/python3.8/site-packages/sklearn/linear_model/_coordinate_descent.py:631: ConvergenceWarning: Objective did not converge. You might want to increase the number of iterations. Duality gap: 2474.3378096475312, tolerance: 33.071762123456786\n",
            "  model = cd_fast.enet_coordinate_descent_gram(\n",
            "/Users/zionn/opt/anaconda3/envs/myenv/lib/python3.8/site-packages/sklearn/linear_model/_coordinate_descent.py:631: ConvergenceWarning: Objective did not converge. You might want to increase the number of iterations. Duality gap: 2614.2094575357323, tolerance: 33.071762123456786\n",
            "  model = cd_fast.enet_coordinate_descent_gram(\n",
            "/Users/zionn/opt/anaconda3/envs/myenv/lib/python3.8/site-packages/sklearn/linear_model/_coordinate_descent.py:631: ConvergenceWarning: Objective did not converge. You might want to increase the number of iterations. Duality gap: 2615.783692205527, tolerance: 33.071762123456786\n",
            "  model = cd_fast.enet_coordinate_descent_gram(\n",
            "/Users/zionn/opt/anaconda3/envs/myenv/lib/python3.8/site-packages/sklearn/linear_model/_coordinate_descent.py:631: ConvergenceWarning: Objective did not converge. You might want to increase the number of iterations. Duality gap: 2615.8063450540517, tolerance: 33.071762123456786\n",
            "  model = cd_fast.enet_coordinate_descent_gram(\n",
            "/Users/zionn/opt/anaconda3/envs/myenv/lib/python3.8/site-packages/sklearn/linear_model/_coordinate_descent.py:631: ConvergenceWarning: Objective did not converge. You might want to increase the number of iterations. Duality gap: 2615.8065612868995, tolerance: 33.071762123456786\n",
            "  model = cd_fast.enet_coordinate_descent_gram(\n",
            "/Users/zionn/opt/anaconda3/envs/myenv/lib/python3.8/site-packages/sklearn/linear_model/_coordinate_descent.py:631: ConvergenceWarning: Objective did not converge. You might want to increase the number of iterations. Duality gap: 2615.80656334432, tolerance: 33.071762123456786\n",
            "  model = cd_fast.enet_coordinate_descent_gram(\n",
            "/Users/zionn/opt/anaconda3/envs/myenv/lib/python3.8/site-packages/sklearn/linear_model/_coordinate_descent.py:631: ConvergenceWarning: Objective did not converge. You might want to increase the number of iterations. Duality gap: 2615.806563370517, tolerance: 33.071762123456786\n",
            "  model = cd_fast.enet_coordinate_descent_gram(\n",
            "/Users/zionn/opt/anaconda3/envs/myenv/lib/python3.8/site-packages/sklearn/linear_model/_coordinate_descent.py:631: ConvergenceWarning: Objective did not converge. You might want to increase the number of iterations. Duality gap: 2615.8065633708047, tolerance: 33.071762123456786\n",
            "  model = cd_fast.enet_coordinate_descent_gram(\n",
            "/Users/zionn/opt/anaconda3/envs/myenv/lib/python3.8/site-packages/sklearn/linear_model/_coordinate_descent.py:631: ConvergenceWarning: Objective did not converge. You might want to increase the number of iterations. Duality gap: 2615.806563370821, tolerance: 33.071762123456786\n",
            "  model = cd_fast.enet_coordinate_descent_gram(\n",
            "/Users/zionn/opt/anaconda3/envs/myenv/lib/python3.8/site-packages/sklearn/linear_model/_coordinate_descent.py:631: ConvergenceWarning: Objective did not converge. You might want to increase the number of iterations. Duality gap: 2615.806563370843, tolerance: 33.071762123456786\n",
            "  model = cd_fast.enet_coordinate_descent_gram(\n",
            "/Users/zionn/opt/anaconda3/envs/myenv/lib/python3.8/site-packages/sklearn/linear_model/_coordinate_descent.py:631: ConvergenceWarning: Objective did not converge. You might want to increase the number of iterations. Duality gap: 2615.806563370774, tolerance: 33.071762123456786\n",
            "  model = cd_fast.enet_coordinate_descent_gram(\n",
            "/Users/zionn/opt/anaconda3/envs/myenv/lib/python3.8/site-packages/sklearn/linear_model/_coordinate_descent.py:631: ConvergenceWarning: Objective did not converge. You might want to increase the number of iterations. Duality gap: 2615.8065633707993, tolerance: 33.071762123456786\n",
            "  model = cd_fast.enet_coordinate_descent_gram(\n",
            "/Users/zionn/opt/anaconda3/envs/myenv/lib/python3.8/site-packages/sklearn/linear_model/_coordinate_descent.py:631: ConvergenceWarning: Objective did not converge. You might want to increase the number of iterations. Duality gap: 2615.806563370763, tolerance: 33.071762123456786\n",
            "  model = cd_fast.enet_coordinate_descent_gram(\n",
            "/Users/zionn/opt/anaconda3/envs/myenv/lib/python3.8/site-packages/sklearn/linear_model/_coordinate_descent.py:631: ConvergenceWarning: Objective did not converge. You might want to increase the number of iterations. Duality gap: 2615.806563370752, tolerance: 33.071762123456786\n",
            "  model = cd_fast.enet_coordinate_descent_gram(\n",
            "/Users/zionn/opt/anaconda3/envs/myenv/lib/python3.8/site-packages/sklearn/linear_model/_coordinate_descent.py:631: ConvergenceWarning: Objective did not converge. You might want to increase the number of iterations. Duality gap: 2615.80656337081, tolerance: 33.071762123456786\n",
            "  model = cd_fast.enet_coordinate_descent_gram(\n",
            "/Users/zionn/opt/anaconda3/envs/myenv/lib/python3.8/site-packages/sklearn/linear_model/_coordinate_descent.py:631: ConvergenceWarning: Objective did not converge. You might want to increase the number of iterations. Duality gap: 2615.8065633708247, tolerance: 33.071762123456786\n",
            "  model = cd_fast.enet_coordinate_descent_gram(\n",
            "/Users/zionn/opt/anaconda3/envs/myenv/lib/python3.8/site-packages/sklearn/linear_model/_coordinate_descent.py:631: ConvergenceWarning: Objective did not converge. You might want to increase the number of iterations. Duality gap: 2615.8065633707993, tolerance: 33.071762123456786\n",
            "  model = cd_fast.enet_coordinate_descent_gram(\n",
            "/Users/zionn/opt/anaconda3/envs/myenv/lib/python3.8/site-packages/sklearn/linear_model/_coordinate_descent.py:631: ConvergenceWarning: Objective did not converge. You might want to increase the number of iterations. Duality gap: 2615.8065633707665, tolerance: 33.071762123456786\n",
            "  model = cd_fast.enet_coordinate_descent_gram(\n",
            "/Users/zionn/opt/anaconda3/envs/myenv/lib/python3.8/site-packages/sklearn/linear_model/_coordinate_descent.py:631: ConvergenceWarning: Objective did not converge. You might want to increase the number of iterations. Duality gap: 2615.8065633707993, tolerance: 33.071762123456786\n",
            "  model = cd_fast.enet_coordinate_descent_gram(\n",
            "/Users/zionn/opt/anaconda3/envs/myenv/lib/python3.8/site-packages/sklearn/linear_model/_coordinate_descent.py:631: ConvergenceWarning: Objective did not converge. You might want to increase the number of iterations. Duality gap: 2615.8065633707592, tolerance: 33.071762123456786\n",
            "  model = cd_fast.enet_coordinate_descent_gram(\n",
            "/Users/zionn/opt/anaconda3/envs/myenv/lib/python3.8/site-packages/sklearn/linear_model/_coordinate_descent.py:631: ConvergenceWarning: Objective did not converge. You might want to increase the number of iterations. Duality gap: 2615.80656337085, tolerance: 33.071762123456786\n",
            "  model = cd_fast.enet_coordinate_descent_gram(\n",
            "/Users/zionn/opt/anaconda3/envs/myenv/lib/python3.8/site-packages/sklearn/linear_model/_coordinate_descent.py:631: ConvergenceWarning: Objective did not converge. You might want to increase the number of iterations. Duality gap: 2615.8065633707447, tolerance: 33.071762123456786\n",
            "  model = cd_fast.enet_coordinate_descent_gram(\n",
            "/Users/zionn/opt/anaconda3/envs/myenv/lib/python3.8/site-packages/sklearn/linear_model/_coordinate_descent.py:631: ConvergenceWarning: Objective did not converge. You might want to increase the number of iterations. Duality gap: 2615.8065633707956, tolerance: 33.071762123456786\n",
            "  model = cd_fast.enet_coordinate_descent_gram(\n",
            "/Users/zionn/opt/anaconda3/envs/myenv/lib/python3.8/site-packages/sklearn/linear_model/_coordinate_descent.py:631: ConvergenceWarning: Objective did not converge. You might want to increase the number of iterations. Duality gap: 2615.8065633708356, tolerance: 33.071762123456786\n",
            "  model = cd_fast.enet_coordinate_descent_gram(\n",
            "/Users/zionn/opt/anaconda3/envs/myenv/lib/python3.8/site-packages/sklearn/linear_model/_coordinate_descent.py:631: ConvergenceWarning: Objective did not converge. You might want to increase the number of iterations. Duality gap: 2615.8065633708648, tolerance: 33.071762123456786\n",
            "  model = cd_fast.enet_coordinate_descent_gram(\n",
            "/Users/zionn/opt/anaconda3/envs/myenv/lib/python3.8/site-packages/sklearn/linear_model/_coordinate_descent.py:631: ConvergenceWarning: Objective did not converge. You might want to increase the number of iterations. Duality gap: 2615.8065633708648, tolerance: 33.071762123456786\n",
            "  model = cd_fast.enet_coordinate_descent_gram(\n",
            "/Users/zionn/opt/anaconda3/envs/myenv/lib/python3.8/site-packages/sklearn/linear_model/_coordinate_descent.py:631: ConvergenceWarning: Objective did not converge. You might want to increase the number of iterations. Duality gap: 2615.8065633708393, tolerance: 33.071762123456786\n",
            "  model = cd_fast.enet_coordinate_descent_gram(\n",
            "/Users/zionn/opt/anaconda3/envs/myenv/lib/python3.8/site-packages/sklearn/linear_model/_coordinate_descent.py:631: ConvergenceWarning: Objective did not converge. You might want to increase the number of iterations. Duality gap: 2615.806563370803, tolerance: 33.071762123456786\n",
            "  model = cd_fast.enet_coordinate_descent_gram(\n",
            "/Users/zionn/opt/anaconda3/envs/myenv/lib/python3.8/site-packages/sklearn/linear_model/_coordinate_descent.py:631: ConvergenceWarning: Objective did not converge. You might want to increase the number of iterations. Duality gap: 2615.806563370861, tolerance: 33.071762123456786\n",
            "  model = cd_fast.enet_coordinate_descent_gram(\n",
            "/Users/zionn/opt/anaconda3/envs/myenv/lib/python3.8/site-packages/sklearn/linear_model/_coordinate_descent.py:631: ConvergenceWarning: Objective did not converge. You might want to increase the number of iterations. Duality gap: 2615.806563370832, tolerance: 33.071762123456786\n",
            "  model = cd_fast.enet_coordinate_descent_gram(\n",
            "/Users/zionn/opt/anaconda3/envs/myenv/lib/python3.8/site-packages/sklearn/linear_model/_coordinate_descent.py:631: ConvergenceWarning: Objective did not converge. You might want to increase the number of iterations. Duality gap: 2615.806563370832, tolerance: 33.071762123456786\n",
            "  model = cd_fast.enet_coordinate_descent_gram(\n",
            "/Users/zionn/opt/anaconda3/envs/myenv/lib/python3.8/site-packages/sklearn/linear_model/_coordinate_descent.py:631: ConvergenceWarning: Objective did not converge. You might want to increase the number of iterations. Duality gap: 2615.806563370814, tolerance: 33.071762123456786\n",
            "  model = cd_fast.enet_coordinate_descent_gram(\n",
            "/Users/zionn/opt/anaconda3/envs/myenv/lib/python3.8/site-packages/sklearn/linear_model/_coordinate_descent.py:631: ConvergenceWarning: Objective did not converge. You might want to increase the number of iterations. Duality gap: 2615.8065633708356, tolerance: 33.071762123456786\n",
            "  model = cd_fast.enet_coordinate_descent_gram(\n",
            "/Users/zionn/opt/anaconda3/envs/myenv/lib/python3.8/site-packages/sklearn/linear_model/_coordinate_descent.py:631: ConvergenceWarning: Objective did not converge. You might want to increase the number of iterations. Duality gap: 2615.8065633708356, tolerance: 33.071762123456786\n",
            "  model = cd_fast.enet_coordinate_descent_gram(\n",
            "/Users/zionn/opt/anaconda3/envs/myenv/lib/python3.8/site-packages/sklearn/linear_model/_coordinate_descent.py:631: ConvergenceWarning: Objective did not converge. You might want to increase the number of iterations. Duality gap: 2615.80656337085, tolerance: 33.071762123456786\n",
            "  model = cd_fast.enet_coordinate_descent_gram(\n",
            "/Users/zionn/opt/anaconda3/envs/myenv/lib/python3.8/site-packages/sklearn/linear_model/_coordinate_descent.py:631: ConvergenceWarning: Objective did not converge. You might want to increase the number of iterations. Duality gap: 2615.8065633707592, tolerance: 33.071762123456786\n",
            "  model = cd_fast.enet_coordinate_descent_gram(\n",
            "/Users/zionn/opt/anaconda3/envs/myenv/lib/python3.8/site-packages/sklearn/linear_model/_coordinate_descent.py:631: ConvergenceWarning: Objective did not converge. You might want to increase the number of iterations. Duality gap: 2615.8065633707956, tolerance: 33.071762123456786\n",
            "  model = cd_fast.enet_coordinate_descent_gram(\n",
            "/Users/zionn/opt/anaconda3/envs/myenv/lib/python3.8/site-packages/sklearn/linear_model/_coordinate_descent.py:631: ConvergenceWarning: Objective did not converge. You might want to increase the number of iterations. Duality gap: 2615.8065633708356, tolerance: 33.071762123456786\n",
            "  model = cd_fast.enet_coordinate_descent_gram(\n",
            "/Users/zionn/opt/anaconda3/envs/myenv/lib/python3.8/site-packages/sklearn/linear_model/_coordinate_descent.py:631: ConvergenceWarning: Objective did not converge. You might want to increase the number of iterations. Duality gap: 2615.806563370832, tolerance: 33.071762123456786\n",
            "  model = cd_fast.enet_coordinate_descent_gram(\n",
            "/Users/zionn/opt/anaconda3/envs/myenv/lib/python3.8/site-packages/sklearn/linear_model/_coordinate_descent.py:631: ConvergenceWarning: Objective did not converge. You might want to increase the number of iterations. Duality gap: 2615.8065633707774, tolerance: 33.071762123456786\n",
            "  model = cd_fast.enet_coordinate_descent_gram(\n",
            "/Users/zionn/opt/anaconda3/envs/myenv/lib/python3.8/site-packages/sklearn/linear_model/_coordinate_descent.py:631: ConvergenceWarning: Objective did not converge. You might want to increase the number of iterations. Duality gap: 2615.806563370894, tolerance: 33.071762123456786\n",
            "  model = cd_fast.enet_coordinate_descent_gram(\n",
            "/Users/zionn/opt/anaconda3/envs/myenv/lib/python3.8/site-packages/sklearn/linear_model/_coordinate_descent.py:631: ConvergenceWarning: Objective did not converge. You might want to increase the number of iterations. Duality gap: 2615.806563370821, tolerance: 33.071762123456786\n",
            "  model = cd_fast.enet_coordinate_descent_gram(\n",
            "/Users/zionn/opt/anaconda3/envs/myenv/lib/python3.8/site-packages/sklearn/linear_model/_coordinate_descent.py:631: ConvergenceWarning: Objective did not converge. You might want to increase the number of iterations. Duality gap: 4113.182924600112, tolerance: 34.80910444444445\n",
            "  model = cd_fast.enet_coordinate_descent_gram(\n",
            "/Users/zionn/opt/anaconda3/envs/myenv/lib/python3.8/site-packages/sklearn/linear_model/_coordinate_descent.py:631: ConvergenceWarning: Objective did not converge. You might want to increase the number of iterations. Duality gap: 4597.535433274513, tolerance: 34.80910444444445\n",
            "  model = cd_fast.enet_coordinate_descent_gram(\n",
            "/Users/zionn/opt/anaconda3/envs/myenv/lib/python3.8/site-packages/sklearn/linear_model/_coordinate_descent.py:631: ConvergenceWarning: Objective did not converge. You might want to increase the number of iterations. Duality gap: 4604.2164304863045, tolerance: 34.80910444444445\n",
            "  model = cd_fast.enet_coordinate_descent_gram(\n",
            "/Users/zionn/opt/anaconda3/envs/myenv/lib/python3.8/site-packages/sklearn/linear_model/_coordinate_descent.py:631: ConvergenceWarning: Objective did not converge. You might want to increase the number of iterations. Duality gap: 4604.280227214727, tolerance: 34.80910444444445\n",
            "  model = cd_fast.enet_coordinate_descent_gram(\n",
            "/Users/zionn/opt/anaconda3/envs/myenv/lib/python3.8/site-packages/sklearn/linear_model/_coordinate_descent.py:631: ConvergenceWarning: Objective did not converge. You might want to increase the number of iterations. Duality gap: 4604.280832274813, tolerance: 34.80910444444445\n",
            "  model = cd_fast.enet_coordinate_descent_gram(\n"
          ]
        },
        {
          "name": "stderr",
          "output_type": "stream",
          "text": [
            "/Users/zionn/opt/anaconda3/envs/myenv/lib/python3.8/site-packages/sklearn/linear_model/_coordinate_descent.py:631: ConvergenceWarning: Objective did not converge. You might want to increase the number of iterations. Duality gap: 4604.280841986481, tolerance: 34.80910444444445\n",
            "  model = cd_fast.enet_coordinate_descent_gram(\n",
            "/Users/zionn/opt/anaconda3/envs/myenv/lib/python3.8/site-packages/sklearn/linear_model/_coordinate_descent.py:631: ConvergenceWarning: Objective did not converge. You might want to increase the number of iterations. Duality gap: 4604.280842055912, tolerance: 34.80910444444445\n",
            "  model = cd_fast.enet_coordinate_descent_gram(\n",
            "/Users/zionn/opt/anaconda3/envs/myenv/lib/python3.8/site-packages/sklearn/linear_model/_coordinate_descent.py:631: ConvergenceWarning: Objective did not converge. You might want to increase the number of iterations. Duality gap: 4604.280842056449, tolerance: 34.80910444444445\n",
            "  model = cd_fast.enet_coordinate_descent_gram(\n",
            "/Users/zionn/opt/anaconda3/envs/myenv/lib/python3.8/site-packages/sklearn/linear_model/_coordinate_descent.py:631: ConvergenceWarning: Objective did not converge. You might want to increase the number of iterations. Duality gap: 4604.2808420564215, tolerance: 34.80910444444445\n",
            "  model = cd_fast.enet_coordinate_descent_gram(\n",
            "/Users/zionn/opt/anaconda3/envs/myenv/lib/python3.8/site-packages/sklearn/linear_model/_coordinate_descent.py:631: ConvergenceWarning: Objective did not converge. You might want to increase the number of iterations. Duality gap: 4604.28084205644, tolerance: 34.80910444444445\n",
            "  model = cd_fast.enet_coordinate_descent_gram(\n",
            "/Users/zionn/opt/anaconda3/envs/myenv/lib/python3.8/site-packages/sklearn/linear_model/_coordinate_descent.py:631: ConvergenceWarning: Objective did not converge. You might want to increase the number of iterations. Duality gap: 4604.280842056491, tolerance: 34.80910444444445\n",
            "  model = cd_fast.enet_coordinate_descent_gram(\n",
            "/Users/zionn/opt/anaconda3/envs/myenv/lib/python3.8/site-packages/sklearn/linear_model/_coordinate_descent.py:631: ConvergenceWarning: Objective did not converge. You might want to increase the number of iterations. Duality gap: 4604.280842056498, tolerance: 34.80910444444445\n",
            "  model = cd_fast.enet_coordinate_descent_gram(\n",
            "/Users/zionn/opt/anaconda3/envs/myenv/lib/python3.8/site-packages/sklearn/linear_model/_coordinate_descent.py:631: ConvergenceWarning: Objective did not converge. You might want to increase the number of iterations. Duality gap: 4604.280842056403, tolerance: 34.80910444444445\n",
            "  model = cd_fast.enet_coordinate_descent_gram(\n",
            "/Users/zionn/opt/anaconda3/envs/myenv/lib/python3.8/site-packages/sklearn/linear_model/_coordinate_descent.py:631: ConvergenceWarning: Objective did not converge. You might want to increase the number of iterations. Duality gap: 4604.280842056432, tolerance: 34.80910444444445\n",
            "  model = cd_fast.enet_coordinate_descent_gram(\n",
            "/Users/zionn/opt/anaconda3/envs/myenv/lib/python3.8/site-packages/sklearn/linear_model/_coordinate_descent.py:631: ConvergenceWarning: Objective did not converge. You might want to increase the number of iterations. Duality gap: 4604.280842056458, tolerance: 34.80910444444445\n",
            "  model = cd_fast.enet_coordinate_descent_gram(\n",
            "/Users/zionn/opt/anaconda3/envs/myenv/lib/python3.8/site-packages/sklearn/linear_model/_coordinate_descent.py:631: ConvergenceWarning: Objective did not converge. You might want to increase the number of iterations. Duality gap: 4604.280842056436, tolerance: 34.80910444444445\n",
            "  model = cd_fast.enet_coordinate_descent_gram(\n",
            "/Users/zionn/opt/anaconda3/envs/myenv/lib/python3.8/site-packages/sklearn/linear_model/_coordinate_descent.py:631: ConvergenceWarning: Objective did not converge. You might want to increase the number of iterations. Duality gap: 4604.28084205652, tolerance: 34.80910444444445\n",
            "  model = cd_fast.enet_coordinate_descent_gram(\n",
            "/Users/zionn/opt/anaconda3/envs/myenv/lib/python3.8/site-packages/sklearn/linear_model/_coordinate_descent.py:631: ConvergenceWarning: Objective did not converge. You might want to increase the number of iterations. Duality gap: 4604.280842056418, tolerance: 34.80910444444445\n",
            "  model = cd_fast.enet_coordinate_descent_gram(\n",
            "/Users/zionn/opt/anaconda3/envs/myenv/lib/python3.8/site-packages/sklearn/linear_model/_coordinate_descent.py:631: ConvergenceWarning: Objective did not converge. You might want to increase the number of iterations. Duality gap: 4604.280842056458, tolerance: 34.80910444444445\n",
            "  model = cd_fast.enet_coordinate_descent_gram(\n",
            "/Users/zionn/opt/anaconda3/envs/myenv/lib/python3.8/site-packages/sklearn/linear_model/_coordinate_descent.py:631: ConvergenceWarning: Objective did not converge. You might want to increase the number of iterations. Duality gap: 4604.280842056396, tolerance: 34.80910444444445\n",
            "  model = cd_fast.enet_coordinate_descent_gram(\n",
            "/Users/zionn/opt/anaconda3/envs/myenv/lib/python3.8/site-packages/sklearn/linear_model/_coordinate_descent.py:631: ConvergenceWarning: Objective did not converge. You might want to increase the number of iterations. Duality gap: 4604.280842056458, tolerance: 34.80910444444445\n",
            "  model = cd_fast.enet_coordinate_descent_gram(\n",
            "/Users/zionn/opt/anaconda3/envs/myenv/lib/python3.8/site-packages/sklearn/linear_model/_coordinate_descent.py:631: ConvergenceWarning: Objective did not converge. You might want to increase the number of iterations. Duality gap: 4604.280842056451, tolerance: 34.80910444444445\n",
            "  model = cd_fast.enet_coordinate_descent_gram(\n",
            "/Users/zionn/opt/anaconda3/envs/myenv/lib/python3.8/site-packages/sklearn/linear_model/_coordinate_descent.py:631: ConvergenceWarning: Objective did not converge. You might want to increase the number of iterations. Duality gap: 4604.280842056458, tolerance: 34.80910444444445\n",
            "  model = cd_fast.enet_coordinate_descent_gram(\n",
            "/Users/zionn/opt/anaconda3/envs/myenv/lib/python3.8/site-packages/sklearn/linear_model/_coordinate_descent.py:631: ConvergenceWarning: Objective did not converge. You might want to increase the number of iterations. Duality gap: 4604.280842056451, tolerance: 34.80910444444445\n",
            "  model = cd_fast.enet_coordinate_descent_gram(\n",
            "/Users/zionn/opt/anaconda3/envs/myenv/lib/python3.8/site-packages/sklearn/linear_model/_coordinate_descent.py:631: ConvergenceWarning: Objective did not converge. You might want to increase the number of iterations. Duality gap: 4604.280842056469, tolerance: 34.80910444444445\n",
            "  model = cd_fast.enet_coordinate_descent_gram(\n",
            "/Users/zionn/opt/anaconda3/envs/myenv/lib/python3.8/site-packages/sklearn/linear_model/_coordinate_descent.py:631: ConvergenceWarning: Objective did not converge. You might want to increase the number of iterations. Duality gap: 4604.280842056469, tolerance: 34.80910444444445\n",
            "  model = cd_fast.enet_coordinate_descent_gram(\n",
            "/Users/zionn/opt/anaconda3/envs/myenv/lib/python3.8/site-packages/sklearn/linear_model/_coordinate_descent.py:631: ConvergenceWarning: Objective did not converge. You might want to increase the number of iterations. Duality gap: 4604.280842056447, tolerance: 34.80910444444445\n",
            "  model = cd_fast.enet_coordinate_descent_gram(\n",
            "/Users/zionn/opt/anaconda3/envs/myenv/lib/python3.8/site-packages/sklearn/linear_model/_coordinate_descent.py:631: ConvergenceWarning: Objective did not converge. You might want to increase the number of iterations. Duality gap: 4604.280842056389, tolerance: 34.80910444444445\n",
            "  model = cd_fast.enet_coordinate_descent_gram(\n",
            "/Users/zionn/opt/anaconda3/envs/myenv/lib/python3.8/site-packages/sklearn/linear_model/_coordinate_descent.py:631: ConvergenceWarning: Objective did not converge. You might want to increase the number of iterations. Duality gap: 4604.2808420565125, tolerance: 34.80910444444445\n",
            "  model = cd_fast.enet_coordinate_descent_gram(\n",
            "/Users/zionn/opt/anaconda3/envs/myenv/lib/python3.8/site-packages/sklearn/linear_model/_coordinate_descent.py:631: ConvergenceWarning: Objective did not converge. You might want to increase the number of iterations. Duality gap: 4604.280842056367, tolerance: 34.80910444444445\n",
            "  model = cd_fast.enet_coordinate_descent_gram(\n",
            "/Users/zionn/opt/anaconda3/envs/myenv/lib/python3.8/site-packages/sklearn/linear_model/_coordinate_descent.py:631: ConvergenceWarning: Objective did not converge. You might want to increase the number of iterations. Duality gap: 4604.280842056494, tolerance: 34.80910444444445\n",
            "  model = cd_fast.enet_coordinate_descent_gram(\n",
            "/Users/zionn/opt/anaconda3/envs/myenv/lib/python3.8/site-packages/sklearn/linear_model/_coordinate_descent.py:631: ConvergenceWarning: Objective did not converge. You might want to increase the number of iterations. Duality gap: 4604.280842056505, tolerance: 34.80910444444445\n",
            "  model = cd_fast.enet_coordinate_descent_gram(\n",
            "/Users/zionn/opt/anaconda3/envs/myenv/lib/python3.8/site-packages/sklearn/linear_model/_coordinate_descent.py:631: ConvergenceWarning: Objective did not converge. You might want to increase the number of iterations. Duality gap: 4604.280842056469, tolerance: 34.80910444444445\n",
            "  model = cd_fast.enet_coordinate_descent_gram(\n",
            "/Users/zionn/opt/anaconda3/envs/myenv/lib/python3.8/site-packages/sklearn/linear_model/_coordinate_descent.py:631: ConvergenceWarning: Objective did not converge. You might want to increase the number of iterations. Duality gap: 4604.2808420564215, tolerance: 34.80910444444445\n",
            "  model = cd_fast.enet_coordinate_descent_gram(\n",
            "/Users/zionn/opt/anaconda3/envs/myenv/lib/python3.8/site-packages/sklearn/linear_model/_coordinate_descent.py:631: ConvergenceWarning: Objective did not converge. You might want to increase the number of iterations. Duality gap: 4604.280842056429, tolerance: 34.80910444444445\n",
            "  model = cd_fast.enet_coordinate_descent_gram(\n",
            "/Users/zionn/opt/anaconda3/envs/myenv/lib/python3.8/site-packages/sklearn/linear_model/_coordinate_descent.py:631: ConvergenceWarning: Objective did not converge. You might want to increase the number of iterations. Duality gap: 4604.280842056494, tolerance: 34.80910444444445\n",
            "  model = cd_fast.enet_coordinate_descent_gram(\n",
            "/Users/zionn/opt/anaconda3/envs/myenv/lib/python3.8/site-packages/sklearn/linear_model/_coordinate_descent.py:631: ConvergenceWarning: Objective did not converge. You might want to increase the number of iterations. Duality gap: 4604.280842056451, tolerance: 34.80910444444445\n",
            "  model = cd_fast.enet_coordinate_descent_gram(\n",
            "/Users/zionn/opt/anaconda3/envs/myenv/lib/python3.8/site-packages/sklearn/linear_model/_coordinate_descent.py:631: ConvergenceWarning: Objective did not converge. You might want to increase the number of iterations. Duality gap: 4604.280842056465, tolerance: 34.80910444444445\n",
            "  model = cd_fast.enet_coordinate_descent_gram(\n",
            "/Users/zionn/opt/anaconda3/envs/myenv/lib/python3.8/site-packages/sklearn/linear_model/_coordinate_descent.py:631: ConvergenceWarning: Objective did not converge. You might want to increase the number of iterations. Duality gap: 4604.28084205648, tolerance: 34.80910444444445\n",
            "  model = cd_fast.enet_coordinate_descent_gram(\n",
            "/Users/zionn/opt/anaconda3/envs/myenv/lib/python3.8/site-packages/sklearn/linear_model/_coordinate_descent.py:631: ConvergenceWarning: Objective did not converge. You might want to increase the number of iterations. Duality gap: 4604.280842056476, tolerance: 34.80910444444445\n",
            "  model = cd_fast.enet_coordinate_descent_gram(\n",
            "/Users/zionn/opt/anaconda3/envs/myenv/lib/python3.8/site-packages/sklearn/linear_model/_coordinate_descent.py:631: ConvergenceWarning: Objective did not converge. You might want to increase the number of iterations. Duality gap: 4604.280842056425, tolerance: 34.80910444444445\n",
            "  model = cd_fast.enet_coordinate_descent_gram(\n",
            "/Users/zionn/opt/anaconda3/envs/myenv/lib/python3.8/site-packages/sklearn/linear_model/_coordinate_descent.py:631: ConvergenceWarning: Objective did not converge. You might want to increase the number of iterations. Duality gap: 4604.280842056498, tolerance: 34.80910444444445\n",
            "  model = cd_fast.enet_coordinate_descent_gram(\n",
            "/Users/zionn/opt/anaconda3/envs/myenv/lib/python3.8/site-packages/sklearn/linear_model/_base.py:141: FutureWarning: 'normalize' was deprecated in version 1.0 and will be removed in 1.2.\n",
            "If you wish to scale the data, use Pipeline with a StandardScaler in a preprocessing stage. To reproduce the previous behavior:\n",
            "\n",
            "from sklearn.pipeline import make_pipeline\n",
            "\n",
            "model = make_pipeline(StandardScaler(with_mean=False), Lasso())\n",
            "\n",
            "If you wish to pass a sample_weight parameter, you need to pass it as a fit parameter to each step of the pipeline as follows:\n",
            "\n",
            "kwargs = {s[0] + '__sample_weight': sample_weight for s in model.steps}\n",
            "model.fit(X, y, **kwargs)\n",
            "\n",
            "Set parameter alpha to: original_alpha * np.sqrt(n_samples). \n",
            "  warnings.warn(\n"
          ]
        }
      ]
    },
    {
      "cell_type": "code",
      "metadata": {
        "id": "80DBNsacJchA",
        "outputId": "2c91e8ae-003b-4c6c-c5fa-86792ea51f76"
      },
      "source": [
        "alpha_best = lasso_cv_fitted.alpha_\n",
        "alpha_best"
      ],
      "execution_count": null,
      "outputs": [
        {
          "data": {
            "text/plain": [
              "0.0009326033468832181"
            ]
          },
          "execution_count": 16,
          "metadata": {},
          "output_type": "execute_result"
        }
      ]
    },
    {
      "cell_type": "code",
      "metadata": {
        "id": "0SrGM83VJchA",
        "outputId": "63bb37ba-6c38-4d52-f516-f393ffecfd1c"
      },
      "source": [
        "import matplotlib.pyplot as plt\n",
        "log_alphas_grid = np.log10(lasso_cv_fitted.alphas_)\n",
        "ax = plt.figure(figsize = (10, 4), dpi = 100)\n",
        "ax = plt.plot(log_alphas_grid, lasso_cv_fitted.mse_path_, ':')\n",
        "ax = plt.plot(log_alphas_grid, lasso_cv_fitted.mse_path_.mean(axis = -1), 'k', label = 'Average across the folds', linewidth = 2)\n",
        "ax = plt.axvline(np.log10(alpha_best), linestyle = '--', color = 'k', label = 'alpha: CV estimate')"
      ],
      "execution_count": null,
      "outputs": [
        {
          "data": {
            "image/png": "[encoded data removed]",
            "text/plain": [
              "<Figure size 1000x400 with 1 Axes>"
            ]
          },
          "metadata": {
            "needs_background": "light"
          },
          "output_type": "display_data"
        }
      ]
    },
    {
      "cell_type": "code",
      "metadata": {
        "id": "9XAtmn0fJchA",
        "outputId": "5927125f-2107-41f5-8fed-a7bf9d28c58a"
      },
      "source": [
        "plt.figure(figsize=(20, 4), dpi = 100)\n",
        "ax = pd.Series(lasso_cv_fitted.coef_, index=boston.feature_names).plot.bar(rot = 80)"
      ],
      "execution_count": null,
      "outputs": [
        {
          "data": {
            "image/png": "[encoded data removed]",
            "text/plain": [
              "<Figure size 2000x400 with 1 Axes>"
            ]
          },
          "metadata": {
            "needs_background": "light"
          },
          "output_type": "display_data"
        }
      ]
    },
    {
      "cell_type": "markdown",
      "metadata": {
        "id": "zqjgOYnBfuBb"
      },
      "source": [
        "# Question 4 （最大概似法）\n",
        "\n",
        "Julius 最近喜歡搜集寶可夢卡牌，常常到勝利校區附近的一家玩具店買卡。\n",
        "\n",
        "他特別喜歡水系寶可夢（可愛到炸~），想知道玩具店裏的卡牌裏水系的寶可夢的概率是多少。\n",
        "\n",
        "他用辛苦賺來的錢 **隨機** 買了**100張卡牌，有27張是水系**的寶可夢。\n",
        "\n",
        "假設卡牌中 **是水系寶可夢的概率p** 服從於二項分佈（公式有需要就自己google）。\n",
        "\n",
        "很明顯，我應該會認爲 p = 27/100\n",
        "\n",
        "但我希望你能**用最大概似的概念解釋我爲什麽會這麽認爲** p = 27/100。（爲什麽是 27/100 而不是 72/100, 87/100 ......?）\n",
        "\n",
        "你可以簡單地以數學式表達（不要求你用latex寫）。\n",
        "\n",
        "（Hint：可以參考Parametric Modelling PPT pg. 55）"
      ]
    },
    {
      "cell_type": "markdown",
      "metadata": {
        "id": "n3lrz0mvJchB"
      },
      "source": [
        "###### ans\n",
        "假設資料 v1,...,vn 的分佈會受到某個未知參數 theta 的影響：p(v1,...,vn|theta)\n",
        "\n",
        "theta的可能性應該是：L(theta|v1,...,vn)\n",
        "\n",
        "theta 最有可能的值，就是讓這個可能性函數最大化（最有可能產生出觀察資料的值）\n",
        "\n",
        "在連續分佈中，可以知道機率分佈函數\n",
        "\n",
        "而我們一般假設回歸誤差會呈現常態分佈，平均值是0，整組資料整體的可能性，就是每個個別可能性的乘積。\n",
        "\n",
        "如果選擇的 alpha，beta值可以讓誤差平方和得到最小的結果，那應該可以對應到可能行最大的時候。"
      ]
    }
  ]
}