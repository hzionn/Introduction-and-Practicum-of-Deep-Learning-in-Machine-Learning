{
 "cells": [
  {
   "cell_type": "markdown",
   "metadata": {
    "id": "Tp2FsGGQRUla"
   },
   "source": [
    "# Homework 1 (Exploratory Data Analysis and Linear Regression)\n",
    "\n",
    "\n",
    "\n",
    "*   Due Date: 13-10-2021, before the following lesson is proceeded.\n",
    "*   Format: in IPython Notebook form, submit in Moodle submission module, name the file as follow: **HW1_(Your name)_(Student ID)**.\n",
    "*   Succinct Reasoning, Codes and Output Presentation are prerequisite, and the marks would be allocated in grades. \n",
    "*   Make sure the layout is **nice and tidy** for my and your own sake.\n",
    "\n",
    "\n"
   ]
  },
  {
   "cell_type": "code",
   "execution_count": null,
   "metadata": {},
   "outputs": [],
   "source": [
    "import pandas as pd\n",
    "import numpy as np\n",
    "import matplotlib.pyplot as plt\n",
    "import seaborn as sns\n",
    "import altair as alt\n",
    "import missingno as msn\n",
    "from collections import Counter"
   ]
  },
  {
   "cell_type": "markdown",
   "metadata": {
    "id": "5WQkfi0XVilR"
   },
   "source": [
    "# Question 1: Exploratory Data Analysis (TMDB 5000 Movie Dataset)\n",
    "\n",
    "https://www.kaggle.com/tmdb/tmdb-movie-metadata\n",
    "\n",
    "1.   Calculate the number of missing values for each variable and show the one with the most missing values. \n",
    "2.   Define a new variable `earn` as `revenue` - `budget`, show the top 10 movies with the most `earn`. \n",
    "3.   Plot a Histogram for `vote_average`, bins = 50\n",
    "4.   Plot a Bar Plot  for `original language`.\n",
    "5.   Append the codes below to the one in (4) and compile.  **Briefly explain the function of the codes given**.\n",
    "```\n",
    "plt.xticks(size=12, rotation=80)`\n",
    "plt.yscale(value = \"log\")\n",
    "```\n",
    "6.   Plot a Scatter Plot for `revenue` and `vote_average`.  **Briefly describe the trend observed**.\n",
    "7.   Calculate the Correlation Matrix for `budget`, `revenue`, `vote_count`, `vote_average`.  **Briefly describe the trend observed**.\n",
    "8.   Plot a Box Plot for `release_year` with 10-year interval. **Briefly describe the trend observed**."
   ]
  },
  {
   "cell_type": "code",
   "execution_count": null,
   "metadata": {},
   "outputs": [],
   "source": [
    "df = pd.read_csv('hw1_archive/tmdb_5000_movies.csv')"
   ]
  },
  {
   "cell_type": "code",
   "execution_count": null,
   "metadata": {},
   "outputs": [],
   "source": [
    "for col_name, count_nan in zip(df.columns, df.isna().sum()):\n",
    "    if count_nan == max(df.isna().sum()): print(col_name, count_nan)"
   ]
  },
  {
   "cell_type": "code",
   "execution_count": null,
   "metadata": {},
   "outputs": [],
   "source": [
    "if 'earn' not in df.columns: df.insert(0, 'earn', df.revenue-df.budget)\n",
    "df.sort_values([\"earn\"],ascending=False,inplace=True)\n",
    "df.iloc[0:10,[7,0]]"
   ]
  },
  {
   "cell_type": "code",
   "execution_count": null,
   "metadata": {},
   "outputs": [],
   "source": [
    "sns.histplot(df.vote_average, bins=50)"
   ]
  },
  {
   "cell_type": "code",
   "execution_count": null,
   "metadata": {},
   "outputs": [],
   "source": [
    "fig = plt.figure(figsize=(8,5), dpi = 100)\n",
    "ax = sns.distplot(df[\"vote_average\"], bins = 50, kde = False)"
   ]
  },
  {
   "cell_type": "code",
   "execution_count": null,
   "metadata": {},
   "outputs": [],
   "source": [
    "plt.figure(figsize=(30, 15))\n",
    "plt.xticks(fontsize=30)\n",
    "plt.yticks(fontsize=30)\n",
    "sns.countplot(x=\"original_language\", data=df)"
   ]
  },
  {
   "cell_type": "code",
   "execution_count": null,
   "metadata": {},
   "outputs": [],
   "source": [
    "plt.figure(figsize=(15,5))\n",
    "plt.xticks(rotation=80)\n",
    "plt.yscale(value='log')\n",
    "sns.countplot(x=\"original_language\", data=df)"
   ]
  },
  {
   "cell_type": "markdown",
   "metadata": {},
   "source": [
    "**note**: 用`log`來壓縮在資料中特別大的值成次方，這樣越大的值就會被壓縮得越多"
   ]
  },
  {
   "cell_type": "code",
   "execution_count": null,
   "metadata": {},
   "outputs": [],
   "source": [
    "plt.figure(figsize=(10,5), dpi=100)\n",
    "sns.scatterplot(x=\"revenue\", y=\"vote_average\", data=df)"
   ]
  },
  {
   "cell_type": "code",
   "execution_count": null,
   "metadata": {},
   "outputs": [],
   "source": [
    "plt.figure(figsize = (10,6), dpi = 100)\n",
    "ax = sns.regplot(x = \"revenue\", y = \"vote_average\", data = df, \n",
    "                 scatter_kws = {\"alpha\":0.2})"
   ]
  },
  {
   "cell_type": "markdown",
   "metadata": {},
   "source": [
    "**note**: 多數的`vote_average`落在4-8之間，`vote_average`似乎並不和`revenue`成正比 / 正相關"
   ]
  },
  {
   "cell_type": "code",
   "execution_count": null,
   "metadata": {},
   "outputs": [],
   "source": [
    "sns.heatmap(df[['budget', 'revenue', 'vote_count', 'vote_average']].corr(), annot = True)"
   ]
  },
  {
   "cell_type": "markdown",
   "metadata": {},
   "source": [
    "**note**: `vote_average`和`budget`有最低的相關性，似乎可以解釋說`budget`並不會影響`vote_average`。`vote_count`和`revenue`有著最高的相關性，也許可以說`vote_count`會連帶影響`revenue`"
   ]
  },
  {
   "cell_type": "code",
   "execution_count": null,
   "metadata": {},
   "outputs": [],
   "source": [
    "df['release_year'] = pd.DatetimeIndex(df.release_date).year\n",
    "df['release_year'] = pd.cut(df['release_year'], bins=[year for year in range(1910, 2021, 10)])\n",
    "plt.figure(figsize=(8, 5), dpi=100)\n",
    "plt.xticks(size=8, rotation=50)\n",
    "sns.boxplot(x='release_year', y='vote_average', data=df)"
   ]
  },
  {
   "cell_type": "code",
   "execution_count": null,
   "metadata": {},
   "outputs": [],
   "source": [
    "[date\n",
    " for date in df.release_date.values \n",
    " if type(date) == str and int(date[:4]) <= 1920]"
   ]
  },
  {
   "cell_type": "markdown",
   "metadata": {},
   "source": [
    "**note**: \n",
    "\n",
    "1910-1920中只有一筆資料所以不考慮。\n",
    "\n",
    "1940-1950的`vote_average`最集中，並且在這之後有逐年越來越離散的情況"
   ]
  },
  {
   "cell_type": "markdown",
   "metadata": {
    "id": "9wOS3IdLVhHx"
   },
   "source": [
    "# Question 2: Linear Regression (Airline Passenger Satisfaction)\n",
    "\n",
    "https://www.kaggle.com/teejmahal20/airline-passenger-satisfaction\n",
    "\n",
    "There're 2 csv files within. `train.csv` is for fitting the model while `test.csv` is for validating.\n",
    "1.   Missing Data Handling - Visualize the Missing Values with `missingno`.  Show the variable(s) with Missing Values and its(their) respective number.\n",
    "2.   Visualization (Correlation Heatmap) - Compile the codes given below and **briefly discribe the trend observed**.\n",
    "```\n",
    "x = df.loc[:,'Flight Distance':'Cleanliness']\n",
    "plt.figure(figsize=(20,10))\n",
    "c= x.corr()\n",
    "sns.heatmap(c)\n",
    "```\n",
    "3.   Rename all the variables with the replacement of space( ) to underscore(_).\n",
    "4.   Convert the value in `satisfaction` as \n",
    "`{'neutral or dissatisfied':0, 'satisfied':1}`\n",
    "5.   Conduct a Linear Regression Model with \n",
    "```\n",
    "x = df.loc[:,'Flight Distance':'Cleanliness']\n",
    "y = df['satisfaction']\n",
    "```\n",
    "6.   Evaluate your model with R-square and MSE.  Validate with 'test.csv' \n",
    "7.   Conduct a Poynomial Regression with `patsy` design matrix. Evaluate with R-square and MSE.  Validate with 'test.csv'."
   ]
  },
  {
   "cell_type": "code",
   "execution_count": null,
   "metadata": {},
   "outputs": [],
   "source": [
    "train = pd.read_csv('hw1_archive/train.csv')\n",
    "train.set_index('Index', inplace=True)\n",
    "test = pd.read_csv('hw1_archive/test.csv')\n",
    "test.set_index('Index', inplace=True)"
   ]
  },
  {
   "cell_type": "code",
   "execution_count": null,
   "metadata": {},
   "outputs": [],
   "source": [
    "msn.matrix(train)"
   ]
  },
  {
   "cell_type": "code",
   "execution_count": null,
   "metadata": {},
   "outputs": [],
   "source": [
    "from typing import TypeVar\n",
    "\n",
    "DataFrame = TypeVar('pd.core.frame.DataFrame') # for better typing hint\n",
    "def show_nan_details(dataframe: DataFrame):\n",
    "    '''showing which column has the most missing value and thier index'''\n",
    "    \n",
    "    print(f'variable(s) with Missing Values and its(their) respective number:\\n')\n",
    "    for col_name, count_nan in zip(dataframe.columns, dataframe.isna().sum()):\n",
    "        if count_nan == max(dataframe.isna().sum()): \n",
    "            print(f'there are {count_nan} rows are missing in \\'{col_name}\\'\\n')\n",
    "    print(f\"and their index:\\n{list(dataframe.loc[dataframe['Arrival Delay in Minutes'].isna()].index)}\")"
   ]
  },
  {
   "cell_type": "code",
   "execution_count": null,
   "metadata": {},
   "outputs": [],
   "source": [
    "show_nan_details(train)"
   ]
  },
  {
   "cell_type": "code",
   "execution_count": null,
   "metadata": {},
   "outputs": [],
   "source": [
    "msn.matrix(test)"
   ]
  },
  {
   "cell_type": "code",
   "execution_count": null,
   "metadata": {},
   "outputs": [],
   "source": [
    "show_nan_details(test)"
   ]
  },
  {
   "cell_type": "code",
   "execution_count": null,
   "metadata": {},
   "outputs": [],
   "source": [
    "x = train.loc[:,'Flight Distance':'Cleanliness']\n",
    "plt.figure(figsize=(20,10))\n",
    "c= x.corr()\n",
    "sns.heatmap(c, annot=True)"
   ]
  },
  {
   "cell_type": "code",
   "execution_count": null,
   "metadata": {},
   "outputs": [],
   "source": [
    "def transform_col_name(dataframe: DataFrame) -> dict:\n",
    "    transform_dict = {}\n",
    "    for col in dataframe.columns:\n",
    "        if ' ' in col:\n",
    "            transform_dict[col] = col.replace(' ', '_')\n",
    "    return transform_dict"
   ]
  },
  {
   "cell_type": "code",
   "execution_count": null,
   "metadata": {},
   "outputs": [],
   "source": [
    "train.rename(columns = transform_col_name(train), inplace = True)\n",
    "train.columns"
   ]
  },
  {
   "cell_type": "code",
   "execution_count": null,
   "metadata": {},
   "outputs": [],
   "source": [
    "df.columns = df.columns.str.replace(' ', '_')"
   ]
  },
  {
   "cell_type": "code",
   "execution_count": null,
   "metadata": {},
   "outputs": [],
   "source": [
    "dummy_satisfaction = lambda dataframe: [0 if value == 'neutral or dissatisfied' else 1 \n",
    "                                        for value in dataframe.satisfaction.values]\n",
    "assert len(dummy_satisfaction(train)) == len(train.satisfaction)"
   ]
  },
  {
   "cell_type": "code",
   "execution_count": null,
   "metadata": {},
   "outputs": [],
   "source": [
    "train['satisfaction'] = dummy_satisfaction(train)\n",
    "#train.head(3)"
   ]
  },
  {
   "cell_type": "code",
   "execution_count": null,
   "metadata": {},
   "outputs": [],
   "source": [
    "# another way\n",
    "# df['satisfaction'] = df['satisfaction'].replace({'neutral or dissatisfied':0,'satisfied':1})"
   ]
  },
  {
   "cell_type": "code",
   "execution_count": null,
   "metadata": {},
   "outputs": [],
   "source": [
    "test.rename(columns = transform_col_name(test), inplace = True)\n",
    "test.columns"
   ]
  },
  {
   "cell_type": "code",
   "execution_count": null,
   "metadata": {},
   "outputs": [],
   "source": [
    "test['satisfaction'] = dummy_satisfaction(test)\n",
    "#test.head(3)"
   ]
  },
  {
   "cell_type": "code",
   "execution_count": null,
   "metadata": {},
   "outputs": [],
   "source": [
    "x_train = train.loc[:,'Flight_Distance':'Cleanliness']\n",
    "y_train = train['satisfaction']"
   ]
  },
  {
   "cell_type": "code",
   "execution_count": null,
   "metadata": {},
   "outputs": [],
   "source": [
    "len(x_train), len(y_train)"
   ]
  },
  {
   "cell_type": "code",
   "execution_count": null,
   "metadata": {},
   "outputs": [],
   "source": [
    "x_test = test.loc[:,'Flight_Distance':'Cleanliness']\n",
    "y_test = test['satisfaction']"
   ]
  },
  {
   "cell_type": "code",
   "execution_count": null,
   "metadata": {},
   "outputs": [],
   "source": [
    "from sklearn.preprocessing import MinMaxScaler # (X - Xmin) / Range\n",
    "scaler = MinMaxScaler()\n",
    "scaler.fit(x_train)\n",
    "x_train = scaler.transform(x_train)"
   ]
  },
  {
   "cell_type": "code",
   "execution_count": null,
   "metadata": {},
   "outputs": [],
   "source": [
    "scaler = MinMaxScaler()\n",
    "scaler.fit(x_test)\n",
    "x_test = scaler.transform(x_test)"
   ]
  },
  {
   "cell_type": "code",
   "execution_count": null,
   "metadata": {},
   "outputs": [],
   "source": [
    "from sklearn import linear_model\n",
    "lm = linear_model.LinearRegression(fit_intercept = True, normalize = False)"
   ]
  },
  {
   "cell_type": "code",
   "execution_count": null,
   "metadata": {},
   "outputs": [],
   "source": [
    "lm_fitted = lm.fit(x_train, y_train)"
   ]
  },
  {
   "cell_type": "code",
   "execution_count": null,
   "metadata": {},
   "outputs": [],
   "source": [
    "y_hat_train = lm_fitted.predict(x_train)\n",
    "y_hat_test = lm_fitted.predict(x_test)"
   ]
  },
  {
   "cell_type": "code",
   "execution_count": null,
   "metadata": {},
   "outputs": [],
   "source": [
    "from sklearn.metrics import mean_squared_error, r2_score\n",
    "print('Performance on Training Data')\n",
    "print('  + mean squared error: %.2f' % mean_squared_error(y_train, y_hat_train))\n",
    "print('  + coefficient of determination: %.2f' % r2_score(y_train, y_hat_train))\n",
    "print('\\n')\n",
    "print('Performance on Testing Data')\n",
    "print('  + mean squared error: %.2f' % mean_squared_error(y_test, y_hat_test))\n",
    "print('  + coefficient of determination: %.2f' % r2_score(y_test, y_hat_test))"
   ]
  },
  {
   "cell_type": "markdown",
   "metadata": {},
   "source": [
    "Conduct a `Poynomial Regression` with `patsy` `design matrix`. Evaluate with `R-square` and `MSE`. Validate with 'test.csv'."
   ]
  },
  {
   "cell_type": "code",
   "execution_count": null,
   "metadata": {},
   "outputs": [],
   "source": [
    "from patsy import dmatrix\n",
    "formula = \"(\" + \" + \".join(list(train.drop(columns = ['id', 'Gender', 'Customer_Type', \n",
    "                                                      'Age', 'Type_of_Travel', 'Class', \n",
    "                                                      'satisfaction']).columns)) + \")\" + \"**2\""
   ]
  },
  {
   "cell_type": "code",
   "execution_count": null,
   "metadata": {},
   "outputs": [],
   "source": [
    "formula"
   ]
  },
  {
   "cell_type": "code",
   "execution_count": null,
   "metadata": {},
   "outputs": [],
   "source": [
    "x_poly = dmatrix(formula, data = train.drop(columns = ['id', 'Gender', 'Customer_Type', \n",
    "                                                    'Age', 'Type_of_Travel', 'Class', \n",
    "                                                    'satisfaction']), return_type = \"dataframe\")"
   ]
  },
  {
   "cell_type": "code",
   "execution_count": null,
   "metadata": {},
   "outputs": [],
   "source": [
    "y_poly = dmatrix(formula, data = test.drop(columns = ['id', 'Gender', 'Customer_Type', \n",
    "                                                    'Age', 'Type_of_Travel', 'Class', \n",
    "                                                    'satisfaction']), return_type = \"dataframe\")"
   ]
  },
  {
   "cell_type": "code",
   "execution_count": null,
   "metadata": {},
   "outputs": [],
   "source": [
    "len(x_poly), len(y_poly)"
   ]
  },
  {
   "cell_type": "code",
   "execution_count": null,
   "metadata": {},
   "outputs": [],
   "source": [
    "x_poly.head(3)"
   ]
  },
  {
   "cell_type": "code",
   "execution_count": null,
   "metadata": {},
   "outputs": [],
   "source": [
    "scaler = MinMaxScaler()\n",
    "scaler.fit(x_poly)\n",
    "x_train = scaler.transform(x_poly)"
   ]
  },
  {
   "cell_type": "code",
   "execution_count": null,
   "metadata": {},
   "outputs": [],
   "source": [
    "len(x_train), len(y_train)"
   ]
  },
  {
   "cell_type": "code",
   "execution_count": null,
   "metadata": {},
   "outputs": [],
   "source": [
    "scaler = MinMaxScaler()\n",
    "scaler.fit(y_poly)\n",
    "x_test = scaler.transform(y_poly)"
   ]
  },
  {
   "cell_type": "code",
   "execution_count": null,
   "metadata": {},
   "outputs": [],
   "source": [
    "lm = linear_model.LinearRegression(fit_intercept = True, normalize = False)"
   ]
  },
  {
   "cell_type": "code",
   "execution_count": null,
   "metadata": {},
   "outputs": [],
   "source": [
    "lm_fitted = lm.fit(x_train, y_train[:len(x_train)])"
   ]
  },
  {
   "cell_type": "code",
   "execution_count": null,
   "metadata": {},
   "outputs": [],
   "source": [
    "y_hat_train = lm_fitted.predict(x_train)\n",
    "y_hat_test = lm_fitted.predict(x_test)"
   ]
  },
  {
   "cell_type": "code",
   "execution_count": null,
   "metadata": {},
   "outputs": [],
   "source": [
    "len(y_hat_train), len(y_hat_test)"
   ]
  },
  {
   "cell_type": "code",
   "execution_count": null,
   "metadata": {},
   "outputs": [],
   "source": [
    "print('Performance on Training Data')\n",
    "print('  + mean squared error: %.2f' % mean_squared_error(y_train[:len(x_train)], y_hat_train))\n",
    "print('  + coefficient of determination: %.2f' % r2_score(y_train[:len(x_train)], y_hat_train))\n",
    "print('Performance on Testing Data')\n",
    "print('  + mean squared error: %.2f' % mean_squared_error(y_test[:len(y_hat_test)], y_hat_test))\n",
    "print('  + coefficient of determination: %.2f' % r2_score(y_test[:len(y_hat_test)], y_hat_test))"
   ]
  },
  {
   "cell_type": "markdown",
   "metadata": {
    "id": "SBnzltn_iB9K"
   },
   "source": [
    "# Bonus (Visualize with Altair)\n",
    "\n",
    "Plot the graphs in Question 1 with Altair.  Try your best will do."
   ]
  },
  {
   "cell_type": "code",
   "execution_count": null,
   "metadata": {},
   "outputs": [],
   "source": [
    "import pandas as pd\n",
    "import numpy as np\n",
    "import altair as alt\n",
    "df = pd.read_csv(\"hw1_archive/tmdb_5000_movies.csv\")"
   ]
  },
  {
   "cell_type": "code",
   "execution_count": null,
   "metadata": {},
   "outputs": [],
   "source": [
    "alt.Chart(df).mark_bar().encode(\n",
    "    alt.X('vote_average:Q', bin=alt.BinParams(maxbins=50)),\n",
    "    alt.Y('count()')\n",
    ").properties(\n",
    "    width = 500,\n",
    "    height = 300\n",
    ")"
   ]
  },
  {
   "cell_type": "code",
   "execution_count": null,
   "metadata": {},
   "outputs": [],
   "source": [
    "alt.Chart(df).mark_bar().encode(\n",
    "    alt.X('original_language:N'),\n",
    "    alt.Y('count()')\n",
    ").properties(\n",
    "    width = 1000,\n",
    "    height = 300\n",
    ")"
   ]
  },
  {
   "cell_type": "code",
   "execution_count": null,
   "metadata": {},
   "outputs": [],
   "source": [
    "alt.Chart(df).mark_point().encode(\n",
    "    x='revenue:Q',\n",
    "    y='vote_average:Q'\n",
    ").properties(\n",
    "    width = 500,\n",
    "    height = 300\n",
    ")"
   ]
  },
  {
   "cell_type": "code",
   "execution_count": null,
   "metadata": {},
   "outputs": [],
   "source": [
    "df[\"release_year\"] = pd.DatetimeIndex(df[\"release_date\"]).year\n",
    "df[\"release_year\"] = pd.cut(df[\"release_year\"], bins = [1910,1920,1930,1940,1950,1960,1970,1980,1990,2000,2010,2020])"
   ]
  },
  {
   "cell_type": "code",
   "execution_count": null,
   "metadata": {},
   "outputs": [],
   "source": [
    "df[\"release_year\"] = df[\"release_year\"].astype(str)"
   ]
  },
  {
   "cell_type": "code",
   "execution_count": null,
   "metadata": {},
   "outputs": [],
   "source": [
    "alt.Chart(df).mark_boxplot().encode(\n",
    "    alt.X('release_year:N'),\n",
    "    alt.Y('vote_average:Q')\n",
    ").properties(\n",
    "    width = 500,\n",
    "    height = 300\n",
    ")"
   ]
  },
  {
   "cell_type": "code",
   "execution_count": null,
   "metadata": {},
   "outputs": [],
   "source": [
    "!ls -lh"
   ]
  },
  {
   "cell_type": "code",
   "execution_count": null,
   "metadata": {},
   "outputs": [],
   "source": []
  }
 ],
 "metadata": {
  "colab": {
   "collapsed_sections": [],
   "name": "HW_1.ipynb",
   "provenance": []
  },
  "kernelspec": {
   "display_name": "Python 3 (ipykernel)",
   "language": "python",
   "name": "python3"
  },
  "language_info": {
   "codemirror_mode": {
    "name": "ipython",
    "version": 3
   },
   "file_extension": ".py",
   "mimetype": "text/x-python",
   "name": "python",
   "nbconvert_exporter": "python",
   "pygments_lexer": "ipython3",
   "version": "3.8.11"
  }
 },
 "nbformat": 4,
 "nbformat_minor": 1
}
