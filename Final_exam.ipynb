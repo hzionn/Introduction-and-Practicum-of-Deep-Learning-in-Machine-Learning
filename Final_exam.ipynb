{
  "cells": [
    {
      "cell_type": "markdown",
      "metadata": {
        "id": "YgU9sLnfGHcM"
      },
      "source": [
        "# Question 0 （這題沒做成績歸零）\n",
        "\n",
        "請承諾在本次考試，你不會靠別人的幫助完成作答。（請將承諾打在下方。）"
      ]
    },
    {
      "cell_type": "markdown",
      "source": [
        "本人何子安承諾在本次考試，我不會靠別人的幫助完成作答。"
      ],
      "metadata": {
        "id": "uagEr2Ibt0-C"
      }
    },
    {
      "cell_type": "markdown",
      "metadata": {
        "id": "x1xJNOYI3XYe"
      },
      "source": [
        "# Question 1 （簡答題，請不要抄PPT的内容，用自己的話寫。）(40%)\n",
        "\n",
        "\n",
        "1.   請簡單敘述svm如何解決線性不可分割資料的分類問題。(8%)\n",
        "\n",
        "2.   請簡單描述KNN為什麼不適合處理高維度資料。(8%)\n",
        "\n",
        "3.   請分別簡述類神經網路中前傳遞(forward)與倒傳遞(backpropagation)的作用。(8%)\n",
        "\n",
        "4.   請簡述kernel在卷積層中的作用。(8%)\n",
        "\n",
        "5.   請簡述類神經網路相對於線性模型的優點及缺點(請至少各列出1點）。(8%)"
      ]
    },
    {
      "cell_type": "markdown",
      "source": [
        "1. 如果為線性不可分的資料（不能被一條線完美分割的資料），有時可以試著把資料轉換到更高維度空間。比如在有些一維的資料中並不存在超平面，但如果把資料中的每個x都映射到更高維中，也許就能找到了。運用不同的kernel functions，可以計算更高維度空間中的點積，然後再找出超平面。\n",
        "2. KNN會算出點與點之間的距離，找出k個最相近的點。但在高維度空間中，每個點之間的距離遠近關係，差異會變得很不明顯，因此所謂的最相近會隨之變得越來越沒有意義，同時高維度空間的資料點分佈也會顯得稀疏。\n",
        "3. forward指的是按前至後（從輸入層到輸出層）計算和儲存NN中每一層的結果。\n",
        "backpropagation則是計算NN參數梯度並且更新它的方法（用chain rule按相反的順序儲存計算某些參數梯度時需要的偏導數）。\n",
        "4. kernel可以某程度上「認得」形狀，因為形狀應該會含有一些重要的空間訊息，如果像全連結層那樣壓縮拉長圖片資料，圖片的資訊會被扭曲，所以kernel是用來盡可能的正確理解圖像的形狀特徵的數據。類似滑動窗口的概念將kernel值與圖片值做計算，將結果存到對應位置（有點像將圖片降維）。\n",
        "5. \n",
        "- 優點：\n",
        "    - 能充分逼近/擬合/分類複雜的非線性關係\n",
        "    - 即使樣本數很多，效率也比線性模型高\n",
        "    - 能完成較複雜的任務\n",
        "    - 線性模型如SVM容易有維度災難\n",
        "- 缺點：\n",
        "    - 需要很多的超參數\n",
        "    - 計算量很多，需要大量電腦資源支撐\n",
        "    - 學習時間過長，可能會over-fitting\n",
        "    - 可能會有local minima的問題"
      ],
      "metadata": {
        "id": "T-VkiDb8uBhS"
      }
    },
    {
      "cell_type": "markdown",
      "metadata": {
        "id": "GfWpLgXn15zO"
      },
      "source": [
        "# Question 2 (CNN)(60%)"
      ]
    },
    {
      "cell_type": "markdown",
      "metadata": {
        "id": "PF7RHuRA1_ol"
      },
      "source": [
        "## 0.讀資料"
      ]
    },
    {
      "cell_type": "code",
      "execution_count": 39,
      "metadata": {
        "id": "c1atwSKe1Fpg"
      },
      "outputs": [],
      "source": [
        "from tensorflow.keras.datasets import cifar10\n",
        "import numpy as np\n",
        "import pandas as pd\n",
        "import matplotlib.pyplot as plt\n",
        "import seaborn as sns"
      ]
    },
    {
      "cell_type": "code",
      "execution_count": 2,
      "metadata": {
        "id": "U1ZGeMnP2C6N"
      },
      "outputs": [],
      "source": [
        "#此區請勿修改\n",
        "(train_x,train_y), (test_x,test_y) = cifar10.load_data()"
      ]
    },
    {
      "cell_type": "markdown",
      "metadata": {
        "id": "1skLPJ_D13o-"
      },
      "source": [
        "## 1.資料探索與前處理(30%)\n",
        "\n",
        "* 請回報cifar10資料集中**train**共有幾筆資料，以其各類的數量(3%)\n",
        "* 請回報cifar10資料集中**test**共有幾筆資料，以其各類的數量(3%)\n",
        "* 請回報cifar10資料集中圖片的形狀(寬、高、通道)(6%)\n",
        "* 請將**train**與**test**中圖片數值進行標準化(將0-255 壓縮至 0-1之間)(9%)\n",
        "* 請將**train**與**test**中label進行one-hot encoding，並將**train**中第2021的數值(index=2020)轉換前後的值印出(9%)"
      ]
    },
    {
      "cell_type": "markdown",
      "metadata": {
        "id": "vPMYHooq5lb2"
      },
      "source": [
        "|編號|名稱|\n",
        "|-|-|\n",
        "|0|airplane|\n",
        "|1|automobile|\n",
        "|2|bird|\n",
        "|3|cat|\n",
        "|4|deer|\n",
        "|5|dog|\n",
        "|6|frog|\n",
        "|7|horse|\n",
        "|8|ship|\n",
        "|9|truck|\n"
      ]
    },
    {
      "cell_type": "markdown",
      "metadata": {
        "id": "VbpXokhr7liV"
      },
      "source": [
        "* 請回報cifar10資料集中**train**共有幾筆資料，以其各類的數量"
      ]
    },
    {
      "cell_type": "code",
      "source": [
        "from collections import Counter\n",
        "print(f'train data size: {len(train_x)}')\n",
        "\n",
        "labels_train = [i[0] for i in train_y]\n",
        "print(f'number of classes in train data: {Counter(labels_train)}')"
      ],
      "metadata": {
        "colab": {
          "base_uri": "https://localhost:8080/"
        },
        "id": "DXShxeFgyUFl",
        "outputId": "87a061cf-e1fe-4ec5-f8b1-c3b2b3ed9597"
      },
      "execution_count": 3,
      "outputs": [
        {
          "output_type": "stream",
          "name": "stdout",
          "text": [
            "train data size: 50000\n",
            "number of classes in train data: Counter({6: 5000, 9: 5000, 4: 5000, 1: 5000, 2: 5000, 7: 5000, 8: 5000, 3: 5000, 5: 5000, 0: 5000})\n"
          ]
        }
      ]
    },
    {
      "cell_type": "markdown",
      "metadata": {
        "id": "ZUAE_ISN7v3N"
      },
      "source": [
        "* 請回報cifar10資料集中**test**共有幾筆資料，以其各類的數量"
      ]
    },
    {
      "cell_type": "code",
      "source": [
        "print(f'test data size: {len(test_x)}')\n",
        "\n",
        "labels_test = [i[0] for i in test_y]\n",
        "print(f'number of classes in test data: {Counter(labels_test)}')"
      ],
      "metadata": {
        "colab": {
          "base_uri": "https://localhost:8080/"
        },
        "id": "jRDJzufqyUqC",
        "outputId": "edff84a6-939f-43bd-f214-9d66809634a2"
      },
      "execution_count": 4,
      "outputs": [
        {
          "output_type": "stream",
          "name": "stdout",
          "text": [
            "test data size: 10000\n",
            "number of classes in test data: Counter({3: 1000, 8: 1000, 0: 1000, 6: 1000, 1: 1000, 9: 1000, 5: 1000, 7: 1000, 4: 1000, 2: 1000})\n"
          ]
        }
      ]
    },
    {
      "cell_type": "markdown",
      "metadata": {
        "id": "Ye6LJsY58NV8"
      },
      "source": [
        "* 請回報cifar10資料集中圖片的形狀(寬、高、通道)"
      ]
    },
    {
      "cell_type": "code",
      "source": [
        "size, length, height, channel = train_x.shape\n",
        "print(f'寬: {length}, 高: {height}, 通道: {channel}')"
      ],
      "metadata": {
        "colab": {
          "base_uri": "https://localhost:8080/"
        },
        "id": "IlK5Am8qyVFH",
        "outputId": "158d876e-f94c-45bf-decc-8ef73b5e04b6"
      },
      "execution_count": 5,
      "outputs": [
        {
          "output_type": "stream",
          "name": "stdout",
          "text": [
            "寬: 32, 高: 32, 通道: 3\n"
          ]
        }
      ]
    },
    {
      "cell_type": "markdown",
      "metadata": {
        "id": "dN8yGvNw_Cum"
      },
      "source": [
        "* 請將**train**與**test**中圖片數值進行標準化(將0-255 壓縮至 0-1之間)"
      ]
    },
    {
      "cell_type": "code",
      "source": [
        "train_x_standardized = train_x / 255\n",
        "test_x_standardized = test_x / 255"
      ],
      "metadata": {
        "id": "7Jwzh8f1yWXR"
      },
      "execution_count": 6,
      "outputs": []
    },
    {
      "cell_type": "markdown",
      "metadata": {
        "id": "25gI5Q7W_ycl"
      },
      "source": [
        "* 請將**train**與**test**中label進行one-hot encoding，並將**train**中第2021的數值(index=2020)轉換前後的值印出"
      ]
    },
    {
      "cell_type": "code",
      "source": [
        "from keras.utils import np_utils\n",
        "\n",
        "train_y_onehot = np_utils.to_categorical(train_y)\n",
        "test_y_onehot = np_utils.to_categorical(test_y)\n",
        "\n",
        "print('before onehot:', train_y[2020])\n",
        "print('after onehot:', train_y_onehot[2020])"
      ],
      "metadata": {
        "colab": {
          "base_uri": "https://localhost:8080/"
        },
        "id": "RaP_IF8ayXvp",
        "outputId": "9a0f5110-33c0-4243-dce4-2a7d60a77c65"
      },
      "execution_count": 7,
      "outputs": [
        {
          "output_type": "stream",
          "name": "stdout",
          "text": [
            "before onehot: [9]\n",
            "after onehot: [0. 0. 0. 0. 0. 0. 0. 0. 0. 1.]\n"
          ]
        }
      ]
    },
    {
      "cell_type": "markdown",
      "metadata": {
        "id": "GWGlucgDCf22"
      },
      "source": [
        "## 2.模型建構與測試(30%)\n",
        "* 請建構一個CNN分類器，並用`summary`印出模型架構，並將標準化過與one-hot編碼過的train資料丟入訓練(若之後的**test accuracy**未達70%以上，則本小題得一半分數)(6%)\n",
        "* 利用`matplotlib`繪製訓練過程中**accuracy**與**loss**的變化圖(6%)\n",
        "* 分別將**train**與**test**資料放入訓練好的CNN分類器進行評估並輸出**accuracy**(6%)\n",
        "* 請利用`predict`對**test**資料進行預測，輸出**test**中第667筆資料(index=666)的圖片，並利用`matplolib`中的長條圖輸出第667筆資料的各類別預測機率(6%)\n",
        "* 請繪製**confusion matrix**(呈現方式不拘)(6%)"
      ]
    },
    {
      "cell_type": "code",
      "source": [
        "from keras.models import Sequential\n",
        "from keras.layers import Conv2D, MaxPooling2D, Dropout, Flatten, Dense\n",
        "from keras.callbacks import EarlyStopping"
      ],
      "metadata": {
        "id": "Ury2oq-96jg3"
      },
      "execution_count": 8,
      "outputs": []
    },
    {
      "cell_type": "markdown",
      "metadata": {
        "id": "pn5piFqUC7OW"
      },
      "source": [
        "* 請建構一個CNN分類器，並用`summary`印出模型架構，並將標準化過與one-hot編碼過的train資料丟入訓練"
      ]
    },
    {
      "cell_type": "code",
      "source": [
        "model = Sequential()\n",
        "model.add(\n",
        "    Conv2D(input_shape=(length, height, channel), \n",
        "           filters=64, \n",
        "           kernel_size=(5, 5), \n",
        "           padding='same', \n",
        "           activation='relu'))\n",
        "model.add(\n",
        "    MaxPooling2D(pool_size=(2, 2))\n",
        ")\n",
        "model.add(\n",
        "    Conv2D(filters=64, \n",
        "           kernel_size=(5, 5), \n",
        "           strides=1, \n",
        "           padding='same', \n",
        "           activation='relu'))\n",
        "model.add(\n",
        "    MaxPooling2D(pool_size=(2, 2))\n",
        ")\n",
        "model.add(Dropout(0.25))\n",
        "model.add(Flatten())\n",
        "model.add(\n",
        "    Dense(units=10, \n",
        "          activation='softmax'))\n",
        "model.summary()"
      ],
      "metadata": {
        "colab": {
          "base_uri": "https://localhost:8080/"
        },
        "id": "93u8E0ZP6aAr",
        "outputId": "0af2cfe4-07be-40f2-988e-442469ab1184"
      },
      "execution_count": 9,
      "outputs": [
        {
          "output_type": "stream",
          "name": "stdout",
          "text": [
            "Model: \"sequential\"\n",
            "_________________________________________________________________\n",
            " Layer (type)                Output Shape              Param #   \n",
            "=================================================================\n",
            " conv2d (Conv2D)             (None, 32, 32, 64)        4864      \n",
            "                                                                 \n",
            " max_pooling2d (MaxPooling2D  (None, 16, 16, 64)       0         \n",
            " )                                                               \n",
            "                                                                 \n",
            " conv2d_1 (Conv2D)           (None, 16, 16, 64)        102464    \n",
            "                                                                 \n",
            " max_pooling2d_1 (MaxPooling  (None, 8, 8, 64)         0         \n",
            " 2D)                                                             \n",
            "                                                                 \n",
            " dropout (Dropout)           (None, 8, 8, 64)          0         \n",
            "                                                                 \n",
            " flatten (Flatten)           (None, 4096)              0         \n",
            "                                                                 \n",
            " dense (Dense)               (None, 10)                40970     \n",
            "                                                                 \n",
            "=================================================================\n",
            "Total params: 148,298\n",
            "Trainable params: 148,298\n",
            "Non-trainable params: 0\n",
            "_________________________________________________________________\n"
          ]
        }
      ]
    },
    {
      "cell_type": "code",
      "source": [
        "model.compile(\n",
        "    loss='categorical_crossentropy', \n",
        "    optimizer='adam', \n",
        "    metrics=['accuracy']\n",
        ")\n",
        "early = EarlyStopping(\n",
        "    monitor='accuracy', \n",
        "    min_delta=0.01, \n",
        "    patience=20, \n",
        "    verbose=1, \n",
        "    mode='auto'\n",
        ")"
      ],
      "metadata": {
        "id": "Zq11T58Z73S1"
      },
      "execution_count": 10,
      "outputs": []
    },
    {
      "cell_type": "code",
      "source": [
        "history = model.fit(\n",
        "    x=train_x_standardized, \n",
        "    y=train_y_onehot, \n",
        "    epochs=100, \n",
        "    callbacks=[early], \n",
        "    verbose=2\n",
        ")"
      ],
      "metadata": {
        "colab": {
          "base_uri": "https://localhost:8080/"
        },
        "id": "JTpPOOq39HSL",
        "outputId": "e99b019f-82c9-41e5-b006-1f1ce78429a6"
      },
      "execution_count": 11,
      "outputs": [
        {
          "output_type": "stream",
          "name": "stdout",
          "text": [
            "Epoch 1/100\n",
            "1563/1563 - 13s - loss: 1.4820 - accuracy: 0.4715 - 13s/epoch - 8ms/step\n",
            "Epoch 2/100\n",
            "1563/1563 - 11s - loss: 1.1363 - accuracy: 0.5990 - 11s/epoch - 7ms/step\n",
            "Epoch 3/100\n",
            "1563/1563 - 11s - loss: 1.0069 - accuracy: 0.6513 - 11s/epoch - 7ms/step\n",
            "Epoch 4/100\n",
            "1563/1563 - 11s - loss: 0.9318 - accuracy: 0.6764 - 11s/epoch - 7ms/step\n",
            "Epoch 5/100\n",
            "1563/1563 - 11s - loss: 0.8757 - accuracy: 0.6976 - 11s/epoch - 7ms/step\n",
            "Epoch 6/100\n",
            "1563/1563 - 11s - loss: 0.8331 - accuracy: 0.7116 - 11s/epoch - 7ms/step\n",
            "Epoch 7/100\n",
            "1563/1563 - 11s - loss: 0.7940 - accuracy: 0.7233 - 11s/epoch - 7ms/step\n",
            "Epoch 8/100\n",
            "1563/1563 - 11s - loss: 0.7633 - accuracy: 0.7358 - 11s/epoch - 7ms/step\n",
            "Epoch 9/100\n",
            "1563/1563 - 11s - loss: 0.7375 - accuracy: 0.7425 - 11s/epoch - 7ms/step\n",
            "Epoch 10/100\n",
            "1563/1563 - 11s - loss: 0.7160 - accuracy: 0.7504 - 11s/epoch - 7ms/step\n",
            "Epoch 11/100\n",
            "1563/1563 - 11s - loss: 0.6905 - accuracy: 0.7584 - 11s/epoch - 7ms/step\n",
            "Epoch 12/100\n",
            "1563/1563 - 11s - loss: 0.6729 - accuracy: 0.7658 - 11s/epoch - 7ms/step\n",
            "Epoch 13/100\n",
            "1563/1563 - 11s - loss: 0.6507 - accuracy: 0.7725 - 11s/epoch - 7ms/step\n",
            "Epoch 14/100\n",
            "1563/1563 - 11s - loss: 0.6247 - accuracy: 0.7801 - 11s/epoch - 7ms/step\n",
            "Epoch 15/100\n",
            "1563/1563 - 11s - loss: 0.6079 - accuracy: 0.7863 - 11s/epoch - 7ms/step\n",
            "Epoch 16/100\n",
            "1563/1563 - 11s - loss: 0.5893 - accuracy: 0.7896 - 11s/epoch - 7ms/step\n",
            "Epoch 17/100\n",
            "1563/1563 - 11s - loss: 0.5783 - accuracy: 0.7973 - 11s/epoch - 7ms/step\n",
            "Epoch 18/100\n",
            "1563/1563 - 11s - loss: 0.5652 - accuracy: 0.8020 - 11s/epoch - 7ms/step\n",
            "Epoch 19/100\n",
            "1563/1563 - 11s - loss: 0.5491 - accuracy: 0.8075 - 11s/epoch - 7ms/step\n",
            "Epoch 20/100\n",
            "1563/1563 - 11s - loss: 0.5333 - accuracy: 0.8122 - 11s/epoch - 7ms/step\n",
            "Epoch 21/100\n",
            "1563/1563 - 11s - loss: 0.5206 - accuracy: 0.8176 - 11s/epoch - 7ms/step\n",
            "Epoch 22/100\n",
            "1563/1563 - 11s - loss: 0.5074 - accuracy: 0.8215 - 11s/epoch - 7ms/step\n",
            "Epoch 23/100\n",
            "1563/1563 - 11s - loss: 0.4971 - accuracy: 0.8247 - 11s/epoch - 7ms/step\n",
            "Epoch 24/100\n",
            "1563/1563 - 11s - loss: 0.4830 - accuracy: 0.8307 - 11s/epoch - 7ms/step\n",
            "Epoch 25/100\n",
            "1563/1563 - 11s - loss: 0.4708 - accuracy: 0.8344 - 11s/epoch - 7ms/step\n",
            "Epoch 26/100\n",
            "1563/1563 - 11s - loss: 0.4638 - accuracy: 0.8360 - 11s/epoch - 7ms/step\n",
            "Epoch 27/100\n",
            "1563/1563 - 11s - loss: 0.4534 - accuracy: 0.8394 - 11s/epoch - 7ms/step\n",
            "Epoch 28/100\n",
            "1563/1563 - 11s - loss: 0.4459 - accuracy: 0.8418 - 11s/epoch - 7ms/step\n",
            "Epoch 29/100\n",
            "1563/1563 - 11s - loss: 0.4385 - accuracy: 0.8433 - 11s/epoch - 7ms/step\n",
            "Epoch 30/100\n",
            "1563/1563 - 11s - loss: 0.4269 - accuracy: 0.8468 - 11s/epoch - 7ms/step\n",
            "Epoch 31/100\n",
            "1563/1563 - 11s - loss: 0.4211 - accuracy: 0.8497 - 11s/epoch - 7ms/step\n",
            "Epoch 32/100\n",
            "1563/1563 - 11s - loss: 0.4115 - accuracy: 0.8528 - 11s/epoch - 7ms/step\n",
            "Epoch 33/100\n",
            "1563/1563 - 11s - loss: 0.4092 - accuracy: 0.8551 - 11s/epoch - 7ms/step\n",
            "Epoch 34/100\n",
            "1563/1563 - 11s - loss: 0.4007 - accuracy: 0.8567 - 11s/epoch - 7ms/step\n",
            "Epoch 35/100\n",
            "1563/1563 - 11s - loss: 0.3913 - accuracy: 0.8608 - 11s/epoch - 7ms/step\n",
            "Epoch 36/100\n",
            "1563/1563 - 11s - loss: 0.3868 - accuracy: 0.8602 - 11s/epoch - 7ms/step\n",
            "Epoch 37/100\n",
            "1563/1563 - 11s - loss: 0.3736 - accuracy: 0.8662 - 11s/epoch - 7ms/step\n",
            "Epoch 38/100\n",
            "1563/1563 - 11s - loss: 0.3709 - accuracy: 0.8672 - 11s/epoch - 7ms/step\n",
            "Epoch 39/100\n",
            "1563/1563 - 11s - loss: 0.3690 - accuracy: 0.8680 - 11s/epoch - 7ms/step\n",
            "Epoch 40/100\n",
            "1563/1563 - 11s - loss: 0.3635 - accuracy: 0.8705 - 11s/epoch - 7ms/step\n",
            "Epoch 41/100\n",
            "1563/1563 - 11s - loss: 0.3516 - accuracy: 0.8740 - 11s/epoch - 7ms/step\n",
            "Epoch 42/100\n",
            "1563/1563 - 11s - loss: 0.3552 - accuracy: 0.8735 - 11s/epoch - 7ms/step\n",
            "Epoch 43/100\n",
            "1563/1563 - 11s - loss: 0.3553 - accuracy: 0.8727 - 11s/epoch - 7ms/step\n",
            "Epoch 44/100\n",
            "1563/1563 - 11s - loss: 0.3416 - accuracy: 0.8789 - 11s/epoch - 7ms/step\n",
            "Epoch 45/100\n",
            "1563/1563 - 11s - loss: 0.3403 - accuracy: 0.8799 - 11s/epoch - 7ms/step\n",
            "Epoch 46/100\n",
            "1563/1563 - 11s - loss: 0.3318 - accuracy: 0.8809 - 11s/epoch - 7ms/step\n",
            "Epoch 47/100\n",
            "1563/1563 - 11s - loss: 0.3312 - accuracy: 0.8830 - 11s/epoch - 7ms/step\n",
            "Epoch 48/100\n",
            "1563/1563 - 11s - loss: 0.3256 - accuracy: 0.8843 - 11s/epoch - 7ms/step\n",
            "Epoch 49/100\n",
            "1563/1563 - 11s - loss: 0.3255 - accuracy: 0.8844 - 11s/epoch - 7ms/step\n",
            "Epoch 50/100\n",
            "1563/1563 - 11s - loss: 0.3209 - accuracy: 0.8879 - 11s/epoch - 7ms/step\n",
            "Epoch 51/100\n",
            "1563/1563 - 11s - loss: 0.3206 - accuracy: 0.8853 - 11s/epoch - 7ms/step\n",
            "Epoch 52/100\n",
            "1563/1563 - 11s - loss: 0.3133 - accuracy: 0.8891 - 11s/epoch - 7ms/step\n",
            "Epoch 53/100\n",
            "1563/1563 - 11s - loss: 0.3078 - accuracy: 0.8917 - 11s/epoch - 7ms/step\n",
            "Epoch 54/100\n",
            "1563/1563 - 11s - loss: 0.3142 - accuracy: 0.8901 - 11s/epoch - 7ms/step\n",
            "Epoch 55/100\n",
            "1563/1563 - 11s - loss: 0.3048 - accuracy: 0.8925 - 11s/epoch - 7ms/step\n",
            "Epoch 56/100\n",
            "1563/1563 - 11s - loss: 0.2999 - accuracy: 0.8952 - 11s/epoch - 7ms/step\n",
            "Epoch 57/100\n",
            "1563/1563 - 11s - loss: 0.2948 - accuracy: 0.8945 - 11s/epoch - 7ms/step\n",
            "Epoch 58/100\n",
            "1563/1563 - 11s - loss: 0.2970 - accuracy: 0.8936 - 11s/epoch - 7ms/step\n",
            "Epoch 59/100\n",
            "1563/1563 - 11s - loss: 0.2987 - accuracy: 0.8968 - 11s/epoch - 7ms/step\n",
            "Epoch 60/100\n",
            "1563/1563 - 11s - loss: 0.2928 - accuracy: 0.8970 - 11s/epoch - 7ms/step\n",
            "Epoch 61/100\n",
            "1563/1563 - 11s - loss: 0.2900 - accuracy: 0.8981 - 11s/epoch - 7ms/step\n",
            "Epoch 62/100\n",
            "1563/1563 - 11s - loss: 0.2869 - accuracy: 0.8982 - 11s/epoch - 7ms/step\n",
            "Epoch 63/100\n",
            "1563/1563 - 11s - loss: 0.2829 - accuracy: 0.9008 - 11s/epoch - 7ms/step\n",
            "Epoch 64/100\n",
            "1563/1563 - 11s - loss: 0.2814 - accuracy: 0.9010 - 11s/epoch - 7ms/step\n",
            "Epoch 65/100\n",
            "1563/1563 - 11s - loss: 0.2716 - accuracy: 0.9041 - 11s/epoch - 7ms/step\n",
            "Epoch 66/100\n",
            "1563/1563 - 11s - loss: 0.2779 - accuracy: 0.9031 - 11s/epoch - 7ms/step\n",
            "Epoch 67/100\n",
            "1563/1563 - 11s - loss: 0.2681 - accuracy: 0.9064 - 11s/epoch - 7ms/step\n",
            "Epoch 68/100\n",
            "1563/1563 - 11s - loss: 0.2740 - accuracy: 0.9051 - 11s/epoch - 7ms/step\n",
            "Epoch 69/100\n",
            "1563/1563 - 11s - loss: 0.2716 - accuracy: 0.9052 - 11s/epoch - 7ms/step\n",
            "Epoch 70/100\n",
            "1563/1563 - 11s - loss: 0.2741 - accuracy: 0.9060 - 11s/epoch - 7ms/step\n",
            "Epoch 71/100\n",
            "1563/1563 - 11s - loss: 0.2698 - accuracy: 0.9047 - 11s/epoch - 7ms/step\n",
            "Epoch 72/100\n",
            "1563/1563 - 11s - loss: 0.2704 - accuracy: 0.9063 - 11s/epoch - 7ms/step\n",
            "Epoch 73/100\n",
            "1563/1563 - 11s - loss: 0.2672 - accuracy: 0.9081 - 11s/epoch - 7ms/step\n",
            "Epoch 74/100\n",
            "1563/1563 - 11s - loss: 0.2582 - accuracy: 0.9102 - 11s/epoch - 7ms/step\n",
            "Epoch 75/100\n",
            "1563/1563 - 11s - loss: 0.2612 - accuracy: 0.9093 - 11s/epoch - 7ms/step\n",
            "Epoch 76/100\n",
            "1563/1563 - 11s - loss: 0.2614 - accuracy: 0.9100 - 11s/epoch - 7ms/step\n",
            "Epoch 77/100\n",
            "1563/1563 - 11s - loss: 0.2548 - accuracy: 0.9120 - 11s/epoch - 7ms/step\n",
            "Epoch 78/100\n",
            "1563/1563 - 11s - loss: 0.2522 - accuracy: 0.9130 - 11s/epoch - 7ms/step\n",
            "Epoch 79/100\n",
            "1563/1563 - 11s - loss: 0.2530 - accuracy: 0.9140 - 11s/epoch - 7ms/step\n",
            "Epoch 80/100\n",
            "1563/1563 - 11s - loss: 0.2592 - accuracy: 0.9115 - 11s/epoch - 7ms/step\n",
            "Epoch 81/100\n",
            "1563/1563 - 11s - loss: 0.2546 - accuracy: 0.9115 - 11s/epoch - 7ms/step\n",
            "Epoch 82/100\n",
            "1563/1563 - 11s - loss: 0.2549 - accuracy: 0.9119 - 11s/epoch - 7ms/step\n",
            "Epoch 83/100\n",
            "1563/1563 - 11s - loss: 0.2428 - accuracy: 0.9153 - 11s/epoch - 7ms/step\n",
            "Epoch 84/100\n",
            "1563/1563 - 11s - loss: 0.2534 - accuracy: 0.9128 - 11s/epoch - 7ms/step\n",
            "Epoch 85/100\n",
            "1563/1563 - 11s - loss: 0.2433 - accuracy: 0.9177 - 11s/epoch - 7ms/step\n",
            "Epoch 86/100\n",
            "1563/1563 - 11s - loss: 0.2478 - accuracy: 0.9162 - 11s/epoch - 7ms/step\n",
            "Epoch 87/100\n",
            "1563/1563 - 11s - loss: 0.2420 - accuracy: 0.9169 - 11s/epoch - 7ms/step\n",
            "Epoch 88/100\n",
            "1563/1563 - 11s - loss: 0.2395 - accuracy: 0.9181 - 11s/epoch - 7ms/step\n",
            "Epoch 89/100\n",
            "1563/1563 - 11s - loss: 0.2353 - accuracy: 0.9196 - 11s/epoch - 7ms/step\n",
            "Epoch 90/100\n",
            "1563/1563 - 11s - loss: 0.2482 - accuracy: 0.9164 - 11s/epoch - 7ms/step\n",
            "Epoch 91/100\n",
            "1563/1563 - 11s - loss: 0.2413 - accuracy: 0.9171 - 11s/epoch - 7ms/step\n",
            "Epoch 92/100\n",
            "1563/1563 - 11s - loss: 0.2335 - accuracy: 0.9211 - 11s/epoch - 7ms/step\n",
            "Epoch 93/100\n",
            "1563/1563 - 11s - loss: 0.2434 - accuracy: 0.9166 - 11s/epoch - 7ms/step\n",
            "Epoch 94/100\n",
            "1563/1563 - 11s - loss: 0.2322 - accuracy: 0.9213 - 11s/epoch - 7ms/step\n",
            "Epoch 95/100\n",
            "1563/1563 - 11s - loss: 0.2388 - accuracy: 0.9186 - 11s/epoch - 7ms/step\n",
            "Epoch 96/100\n",
            "1563/1563 - 11s - loss: 0.2291 - accuracy: 0.9215 - 11s/epoch - 7ms/step\n",
            "Epoch 97/100\n",
            "1563/1563 - 11s - loss: 0.2306 - accuracy: 0.9215 - 11s/epoch - 7ms/step\n",
            "Epoch 00097: early stopping\n"
          ]
        }
      ]
    },
    {
      "cell_type": "markdown",
      "metadata": {
        "id": "5hjjWGS-H6AW"
      },
      "source": [
        "* 利用`matplotlib`繪製訓練過程中**accuracy**與**loss**的變化圖"
      ]
    },
    {
      "cell_type": "code",
      "source": [
        "def show_train_history(train_history, train):\n",
        "    plt.plot(train_history.history[train])\n",
        "    plt.title('Train History')\n",
        "    plt.ylabel(train)\n",
        "    plt.xlabel('Epoch')\n",
        "    plt.legend(['train'], loc='center right')\n",
        "    plt.show()"
      ],
      "metadata": {
        "id": "zwRdAnq_6an8"
      },
      "execution_count": 12,
      "outputs": []
    },
    {
      "cell_type": "code",
      "source": [
        "show_train_history(history, 'accuracy')"
      ],
      "metadata": {
        "colab": {
          "base_uri": "https://localhost:8080/",
          "height": 295
        },
        "id": "dYmgJqCl96-1",
        "outputId": "a9cd32d4-fada-4655-acd3-89b78d0a29da"
      },
      "execution_count": 13,
      "outputs": [
        {
          "output_type": "display_data",
          "data": {
            "image/png": "[encoded data removed]",
            "text/plain": [
              "<Figure size 432x288 with 1 Axes>"
            ]
          },
          "metadata": {
            "needs_background": "light"
          }
        }
      ]
    },
    {
      "cell_type": "code",
      "source": [
        "show_train_history(history, 'loss')"
      ],
      "metadata": {
        "colab": {
          "base_uri": "https://localhost:8080/",
          "height": 295
        },
        "id": "maCKJe8t-Bq1",
        "outputId": "80f988c9-16c1-4abd-bcad-6581859310b6"
      },
      "execution_count": 14,
      "outputs": [
        {
          "output_type": "display_data",
          "data": {
            "image/png": "[encoded data removed]",
            "text/plain": [
              "<Figure size 432x288 with 1 Axes>"
            ]
          },
          "metadata": {
            "needs_background": "light"
          }
        }
      ]
    },
    {
      "cell_type": "markdown",
      "metadata": {
        "id": "gzacMgcnG8ju"
      },
      "source": [
        "* 分別將**train**與**test**資料放入訓練好的CNN分類器進行評估並輸出**accuracy**"
      ]
    },
    {
      "cell_type": "code",
      "source": [
        "scores = model.evaluate(train_x_standardized, train_y_onehot)\n",
        "print('on training data:')\n",
        "for name, score in zip(model.metrics_names, scores):\n",
        "    print(f'{name}: {score}')"
      ],
      "metadata": {
        "colab": {
          "base_uri": "https://localhost:8080/"
        },
        "id": "-rpd3FYL6bID",
        "outputId": "3f047c31-d826-4196-9cc3-5558dfc44505"
      },
      "execution_count": 15,
      "outputs": [
        {
          "output_type": "stream",
          "name": "stdout",
          "text": [
            "1563/1563 [==============================] - 9s 6ms/step - loss: 0.0549 - accuracy: 0.9830\n",
            "on training data:\n",
            "loss: 0.054890841245651245\n",
            "accuracy: 0.9830399751663208\n"
          ]
        }
      ]
    },
    {
      "cell_type": "code",
      "source": [
        "scores = model.evaluate(test_x_standardized, test_y_onehot)\n",
        "print('on test data:')\n",
        "for name, score in zip(model.metrics_names, scores):\n",
        "    print(f'{name}: {score}')"
      ],
      "metadata": {
        "colab": {
          "base_uri": "https://localhost:8080/"
        },
        "id": "bLpCtjyA_leN",
        "outputId": "b0c96b30-05a1-427e-9a07-1b83f194ad67"
      },
      "execution_count": 16,
      "outputs": [
        {
          "output_type": "stream",
          "name": "stdout",
          "text": [
            "313/313 [==============================] - 2s 6ms/step - loss: 1.6299 - accuracy: 0.7135\n",
            "on test data:\n",
            "loss: 1.6298733949661255\n",
            "accuracy: 0.7135000228881836\n"
          ]
        }
      ]
    },
    {
      "cell_type": "markdown",
      "metadata": {
        "id": "JmRTJEP0JPd-"
      },
      "source": [
        "* 請利用`predict`對**test**資料進行預測，輸出**test**中第667筆資料(index=666)的圖片，並利用`matplolib`中的長條圖輸出第667筆資料的各類別預測機率"
      ]
    },
    {
      "cell_type": "code",
      "source": [
        "plt.imshow(test_x[666])\n",
        "plt.show()"
      ],
      "metadata": {
        "colab": {
          "base_uri": "https://localhost:8080/",
          "height": 266
        },
        "id": "ZxWcOOaeEelY",
        "outputId": "065c81b0-b251-4b12-bdd9-2e8a0f247bb1"
      },
      "execution_count": 20,
      "outputs": [
        {
          "output_type": "display_data",
          "data": {
            "image/png": "[encoded data removed]",
            "text/plain": [
              "<Figure size 432x288 with 1 Axes>"
            ]
          },
          "metadata": {
            "needs_background": "light"
          }
        }
      ]
    },
    {
      "cell_type": "code",
      "source": [
        "prediction = model.predict(test_x_standardized)\n",
        "print(f'predict class: {np.argmax(prediction[666])}')\n",
        "\n",
        "plt.bar(x=[i for i in range(len(prediction[666]))], \n",
        "        height=prediction[666])\n",
        "plt.xlim([-1, 10])\n",
        "plt.show()"
      ],
      "metadata": {
        "colab": {
          "base_uri": "https://localhost:8080/",
          "height": 282
        },
        "id": "b-gG4QWd6bs3",
        "outputId": "e0ae64be-a758-46f5-cb66-49921b873cdd"
      },
      "execution_count": 38,
      "outputs": [
        {
          "output_type": "stream",
          "name": "stdout",
          "text": [
            "predict class: 9\n"
          ]
        },
        {
          "output_type": "display_data",
          "data": {
            "image/png": "[encoded data removed]",
            "text/plain": [
              "<Figure size 432x288 with 1 Axes>"
            ]
          },
          "metadata": {
            "needs_background": "light"
          }
        }
      ]
    },
    {
      "cell_type": "markdown",
      "metadata": {
        "id": "lC-sPO27Imlz"
      },
      "source": [
        "* 請繪製**confusion matrix**(呈現方式不拘)"
      ]
    },
    {
      "cell_type": "code",
      "source": [
        "from sklearn.metrics import confusion_matrix\n",
        "matrix = confusion_matrix(labels_test, [np.argmax(i) for i in prediction])\n",
        "df = pd.DataFrame(matrix, columns=list(range(10)))\n",
        "plt.figure(figsize=(10, 10))\n",
        "sns.heatmap(df, annot=True)\n",
        "plt.ylabel('True class'), plt.xlabel('Predicted class')\n",
        "plt.show()"
      ],
      "metadata": {
        "colab": {
          "base_uri": "https://localhost:8080/",
          "height": 606
        },
        "id": "hICkczu76cfW",
        "outputId": "5ce4233e-4f81-4b4e-ccc9-dd54fdaf99ef"
      },
      "execution_count": 53,
      "outputs": [
        {
          "output_type": "display_data",
          "data": {
            "image/png": "[encoded data removed]",
            "text/plain": [
              "<Figure size 720x720 with 2 Axes>"
            ]
          },
          "metadata": {
            "needs_background": "light"
          }
        }
      ]
    },
    {
      "cell_type": "code",
      "source": [
        ""
      ],
      "metadata": {
        "id": "q53PDrAeLT7n"
      },
      "execution_count": null,
      "outputs": []
    }
  ],
  "metadata": {
    "accelerator": "GPU",
    "colab": {
      "collapsed_sections": [],
      "name": "Final_exam_何子安_E44065020",
      "provenance": [],
      "toc_visible": true
    },
    "kernelspec": {
      "display_name": "Python 3",
      "name": "python3"
    }
  },
  "nbformat": 4,
  "nbformat_minor": 0
}