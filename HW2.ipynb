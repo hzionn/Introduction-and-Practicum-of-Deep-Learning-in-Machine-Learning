{
  "nbformat": 4,
  "nbformat_minor": 0,
  "metadata": {
    "colab": {
      "name": "HW2.ipynb",
      "provenance": [],
      "include_colab_link": true
    },
    "kernelspec": {
      "display_name": "Python 3 (ipykernel)",
      "language": "python",
      "name": "python3"
    },
    "language_info": {
      "codemirror_mode": {
        "name": "ipython",
        "version": 3
      },
      "file_extension": ".py",
      "mimetype": "text/x-python",
      "name": "python",
      "nbconvert_exporter": "python",
      "pygments_lexer": "ipython3",
      "version": "3.8.11"
    }
  },
  "cells": [
    {
      "cell_type": "markdown",
      "metadata": {
        "id": "view-in-github",
        "colab_type": "text"
      },
      "source": [
        "<a href=\"https://colab.research.google.com/github/onnnnn/INTRODUCTION-AND-PRACTICUM-OF-DEEP-LEARNING-IN-MACHINE-LEARNING/blob/main/HW2.ipynb\" target=\"_parent\"><img src=\"https://colab.research.google.com/assets/colab-badge.svg\" alt=\"Open In Colab\"/></a>"
      ]
    },
    {
      "cell_type": "markdown",
      "metadata": {
        "id": "edfd6U9gNYgY"
      },
      "source": [
        "# Homework 2 (Logistic Regression)\n",
        "\n",
        "\n",
        "\n",
        "*   Due Date: 03-11-2021, before the following lesson is proceeded.\n",
        "*   Format: in IPython Notebook form, submit in Moodle submission module, name the file as follow: HW1_(Your name)_(Student ID).\n",
        "*   Succinct Reasoning, Codes and Output Presentation are prerequisite, and the marks would be allocated in grades. \n",
        "*   Make sure the layout is nice and tidy for my and your own sake."
      ]
    },
    {
      "cell_type": "code",
      "metadata": {
        "id": "nYHMQe4EGDLE"
      },
      "source": [
        "import pandas as pd\n",
        "import numpy as np\n",
        "import matplotlib.pyplot as plt\n",
        "import os"
      ],
      "execution_count": null,
      "outputs": []
    },
    {
      "cell_type": "markdown",
      "metadata": {
        "id": "FbI_8xgTNobN"
      },
      "source": [
        "# Question 1: Data Visualization (TMDB 5000 Movie Dataset)\n",
        "https://www.kaggle.com/tmdb/tmdb-movie-metadata\n",
        "\n",
        "1.   Compile the codes below and briefly explain the function of the codes given.\n",
        "\n",
        "```\n",
        "from ast import literal_eval \n",
        "df[\"genres\"] = df[\"genres\"].apply(literal_eval)\n",
        "df[\"genres\"].head(n = 5)\n",
        "df[\"genres\"] = df[\"genres\"].apply(\n",
        "    lambda genres_list: [i[\"name\"] for i in genres_list])\n",
        "```\n",
        "\n",
        "```\n",
        "from sklearn.preprocessing import MultiLabelBinarizer\n",
        "mlb = MultiLabelBinarizer()\n",
        "genres_dummy = pd.DataFrame(mlb.fit_transform(df[\"genres\"]), \n",
        "                            columns = mlb.classes_, index=df.index)\n",
        "\n",
        "genres_dummy.head()\n",
        "```\n",
        "\n",
        "```\n",
        "df[\"genres\"].head()\n",
        "```\n",
        "\n",
        "2.   Plot a bar plot to tell the `average revenue` of the movies under each `genres`."
      ]
    },
    {
      "cell_type": "code",
      "metadata": {
        "id": "oGHMPkIsGDLG",
        "outputId": "a5fad109-f9bd-44e9-a7da-deb3845ebdef"
      },
      "source": [
        "current_path = os.getcwd()\n",
        "tmdb_path = f'{os.path.abspath(os.path.join(current_path, os.pardir))}/hw1/hw1_archive/tmdb_5000_movies.csv'\n",
        "df = pd.read_csv(tmdb_path)\n",
        "df['genres'][0]"
      ],
      "execution_count": null,
      "outputs": [
        {
          "data": {
            "text/plain": [
              "'[{\"id\": 28, \"name\": \"Action\"}, {\"id\": 12, \"name\": \"Adventure\"}, {\"id\": 14, \"name\": \"Fantasy\"}, {\"id\": 878, \"name\": \"Science Fiction\"}]'"
            ]
          },
          "execution_count": 22,
          "metadata": {},
          "output_type": "execute_result"
        }
      ]
    },
    {
      "cell_type": "markdown",
      "metadata": {
        "id": "2ogqwvYzGDLI"
      },
      "source": [
        "###### 1. Compile the codes below and briefly explain the function of the codes given."
      ]
    },
    {
      "cell_type": "code",
      "metadata": {
        "id": "zdBJ0ELuGDLI",
        "outputId": "6b3f9640-d2df-4f03-f617-9e31c30b97db"
      },
      "source": [
        "from ast import literal_eval \n",
        "df[\"genres\"] = df[\"genres\"].apply(literal_eval)\n",
        "df[\"genres\"][0]"
      ],
      "execution_count": null,
      "outputs": [
        {
          "data": {
            "text/plain": [
              "[{'id': 28, 'name': 'Action'},\n",
              " {'id': 12, 'name': 'Adventure'},\n",
              " {'id': 14, 'name': 'Fantasy'},\n",
              " {'id': 878, 'name': 'Science Fiction'}]"
            ]
          },
          "execution_count": 23,
          "metadata": {},
          "output_type": "execute_result"
        }
      ]
    },
    {
      "cell_type": "code",
      "metadata": {
        "id": "UzrxUykdGDLJ",
        "outputId": "ed3ee18d-7f6e-44e3-d274-765d870761de"
      },
      "source": [
        "df[\"genres\"] = df[\"genres\"].apply(\n",
        "    lambda genres_list: [i[\"name\"] for i in genres_list])\n",
        "df['genres'].head(2)"
      ],
      "execution_count": null,
      "outputs": [
        {
          "data": {
            "text/plain": [
              "0    [Action, Adventure, Fantasy, Science Fiction]\n",
              "1                     [Adventure, Fantasy, Action]\n",
              "Name: genres, dtype: object"
            ]
          },
          "execution_count": 21,
          "metadata": {},
          "output_type": "execute_result"
        }
      ]
    },
    {
      "cell_type": "code",
      "metadata": {
        "id": "PwulMk8yGDLK",
        "outputId": "1edda6ca-b334-4008-dc6b-e6aad72fd67e"
      },
      "source": [
        "from sklearn.preprocessing import MultiLabelBinarizer\n",
        "mlb = MultiLabelBinarizer()\n",
        "genres_dummy = pd.DataFrame(mlb.fit_transform(df[\"genres\"]), \n",
        "                            columns = mlb.classes_, index=df.index)\n",
        "\n",
        "genres_dummy.head()"
      ],
      "execution_count": null,
      "outputs": [
        {
          "data": {
            "text/html": [
              "<div>\n",
              "<style scoped>\n",
              "    .dataframe tbody tr th:only-of-type {\n",
              "        vertical-align: middle;\n",
              "    }\n",
              "\n",
              "    .dataframe tbody tr th {\n",
              "        vertical-align: top;\n",
              "    }\n",
              "\n",
              "    .dataframe thead th {\n",
              "        text-align: right;\n",
              "    }\n",
              "</style>\n",
              "<table border=\"1\" class=\"dataframe\">\n",
              "  <thead>\n",
              "    <tr style=\"text-align: right;\">\n",
              "      <th></th>\n",
              "      <th>Action</th>\n",
              "      <th>Adventure</th>\n",
              "      <th>Animation</th>\n",
              "      <th>Comedy</th>\n",
              "      <th>Crime</th>\n",
              "      <th>Documentary</th>\n",
              "      <th>Drama</th>\n",
              "      <th>Family</th>\n",
              "      <th>Fantasy</th>\n",
              "      <th>Foreign</th>\n",
              "      <th>History</th>\n",
              "      <th>Horror</th>\n",
              "      <th>Music</th>\n",
              "      <th>Mystery</th>\n",
              "      <th>Romance</th>\n",
              "      <th>Science Fiction</th>\n",
              "      <th>TV Movie</th>\n",
              "      <th>Thriller</th>\n",
              "      <th>War</th>\n",
              "      <th>Western</th>\n",
              "    </tr>\n",
              "  </thead>\n",
              "  <tbody>\n",
              "    <tr>\n",
              "      <th>0</th>\n",
              "      <td>1</td>\n",
              "      <td>1</td>\n",
              "      <td>0</td>\n",
              "      <td>0</td>\n",
              "      <td>0</td>\n",
              "      <td>0</td>\n",
              "      <td>0</td>\n",
              "      <td>0</td>\n",
              "      <td>1</td>\n",
              "      <td>0</td>\n",
              "      <td>0</td>\n",
              "      <td>0</td>\n",
              "      <td>0</td>\n",
              "      <td>0</td>\n",
              "      <td>0</td>\n",
              "      <td>1</td>\n",
              "      <td>0</td>\n",
              "      <td>0</td>\n",
              "      <td>0</td>\n",
              "      <td>0</td>\n",
              "    </tr>\n",
              "    <tr>\n",
              "      <th>1</th>\n",
              "      <td>1</td>\n",
              "      <td>1</td>\n",
              "      <td>0</td>\n",
              "      <td>0</td>\n",
              "      <td>0</td>\n",
              "      <td>0</td>\n",
              "      <td>0</td>\n",
              "      <td>0</td>\n",
              "      <td>1</td>\n",
              "      <td>0</td>\n",
              "      <td>0</td>\n",
              "      <td>0</td>\n",
              "      <td>0</td>\n",
              "      <td>0</td>\n",
              "      <td>0</td>\n",
              "      <td>0</td>\n",
              "      <td>0</td>\n",
              "      <td>0</td>\n",
              "      <td>0</td>\n",
              "      <td>0</td>\n",
              "    </tr>\n",
              "    <tr>\n",
              "      <th>2</th>\n",
              "      <td>1</td>\n",
              "      <td>1</td>\n",
              "      <td>0</td>\n",
              "      <td>0</td>\n",
              "      <td>1</td>\n",
              "      <td>0</td>\n",
              "      <td>0</td>\n",
              "      <td>0</td>\n",
              "      <td>0</td>\n",
              "      <td>0</td>\n",
              "      <td>0</td>\n",
              "      <td>0</td>\n",
              "      <td>0</td>\n",
              "      <td>0</td>\n",
              "      <td>0</td>\n",
              "      <td>0</td>\n",
              "      <td>0</td>\n",
              "      <td>0</td>\n",
              "      <td>0</td>\n",
              "      <td>0</td>\n",
              "    </tr>\n",
              "    <tr>\n",
              "      <th>3</th>\n",
              "      <td>1</td>\n",
              "      <td>0</td>\n",
              "      <td>0</td>\n",
              "      <td>0</td>\n",
              "      <td>1</td>\n",
              "      <td>0</td>\n",
              "      <td>1</td>\n",
              "      <td>0</td>\n",
              "      <td>0</td>\n",
              "      <td>0</td>\n",
              "      <td>0</td>\n",
              "      <td>0</td>\n",
              "      <td>0</td>\n",
              "      <td>0</td>\n",
              "      <td>0</td>\n",
              "      <td>0</td>\n",
              "      <td>0</td>\n",
              "      <td>1</td>\n",
              "      <td>0</td>\n",
              "      <td>0</td>\n",
              "    </tr>\n",
              "    <tr>\n",
              "      <th>4</th>\n",
              "      <td>1</td>\n",
              "      <td>1</td>\n",
              "      <td>0</td>\n",
              "      <td>0</td>\n",
              "      <td>0</td>\n",
              "      <td>0</td>\n",
              "      <td>0</td>\n",
              "      <td>0</td>\n",
              "      <td>0</td>\n",
              "      <td>0</td>\n",
              "      <td>0</td>\n",
              "      <td>0</td>\n",
              "      <td>0</td>\n",
              "      <td>0</td>\n",
              "      <td>0</td>\n",
              "      <td>1</td>\n",
              "      <td>0</td>\n",
              "      <td>0</td>\n",
              "      <td>0</td>\n",
              "      <td>0</td>\n",
              "    </tr>\n",
              "  </tbody>\n",
              "</table>\n",
              "</div>"
            ],
            "text/plain": [
              "   Action  Adventure  Animation  Comedy  Crime  Documentary  Drama  Family  \\\n",
              "0       1          1          0       0      0            0      0       0   \n",
              "1       1          1          0       0      0            0      0       0   \n",
              "2       1          1          0       0      1            0      0       0   \n",
              "3       1          0          0       0      1            0      1       0   \n",
              "4       1          1          0       0      0            0      0       0   \n",
              "\n",
              "   Fantasy  Foreign  History  Horror  Music  Mystery  Romance  \\\n",
              "0        1        0        0       0      0        0        0   \n",
              "1        1        0        0       0      0        0        0   \n",
              "2        0        0        0       0      0        0        0   \n",
              "3        0        0        0       0      0        0        0   \n",
              "4        0        0        0       0      0        0        0   \n",
              "\n",
              "   Science Fiction  TV Movie  Thriller  War  Western  \n",
              "0                1         0         0    0        0  \n",
              "1                0         0         0    0        0  \n",
              "2                0         0         0    0        0  \n",
              "3                0         0         1    0        0  \n",
              "4                1         0         0    0        0  "
            ]
          },
          "execution_count": 16,
          "metadata": {},
          "output_type": "execute_result"
        }
      ]
    },
    {
      "cell_type": "code",
      "metadata": {
        "id": "sTHzfEwYGDLL",
        "outputId": "16a0f3cb-4bec-412a-8176-ddb73f7526ed"
      },
      "source": [
        "df[\"genres\"].head()"
      ],
      "execution_count": null,
      "outputs": [
        {
          "data": {
            "text/plain": [
              "0    [Action, Adventure, Fantasy, Science Fiction]\n",
              "1                     [Adventure, Fantasy, Action]\n",
              "2                       [Action, Adventure, Crime]\n",
              "3                 [Action, Crime, Drama, Thriller]\n",
              "4             [Action, Adventure, Science Fiction]\n",
              "Name: genres, dtype: object"
            ]
          },
          "execution_count": 17,
          "metadata": {},
          "output_type": "execute_result"
        }
      ]
    },
    {
      "cell_type": "markdown",
      "metadata": {
        "id": "vbCUAxgOGDLL"
      },
      "source": [
        "###### 2. Plot a bar plot to tell the `average revenue` of the movies under each `genres`."
      ]
    },
    {
      "cell_type": "code",
      "metadata": {
        "id": "SXQbhoBMGDLM"
      },
      "source": [
        "# counting total revenue & average revenue by each genre\n",
        "genres_dict = {}\n",
        "for genres_list, revenue in zip(df.genres, df.revenue):\n",
        "    for genre in genres_list:\n",
        "        if genre not in genres_dict:\n",
        "            genres_dict[genre] = {'count': 1,\n",
        "                                  'total': revenue,\n",
        "                                  'avg_revenue': revenue}\n",
        "        elif genre in genres_dict:\n",
        "            genres_dict[genre]['count'] += 1\n",
        "            genres_dict[genre]['total'] += revenue\n",
        "            genres_dict[genre]['avg_revenue'] = genres_dict[genre]['total'] / genres_dict[genre]['count']"
      ],
      "execution_count": null,
      "outputs": []
    },
    {
      "cell_type": "code",
      "metadata": {
        "id": "OxfT2Dx-GDLM"
      },
      "source": [
        "# sort `genres_dict` by `avg_revenue`\n",
        "from operator import getitem\n",
        "genres_dict = {k: v for k, v in sorted(genres_dict.items(), \n",
        "                                       key=lambda x: getitem(x[1],'avg_revenue'), \n",
        "                                       reverse=True)}"
      ],
      "execution_count": null,
      "outputs": []
    },
    {
      "cell_type": "code",
      "metadata": {
        "id": "kPWqukBdGDLN",
        "outputId": "0c7d6d56-d14a-4e09-fac3-71efe49b3b64"
      },
      "source": [
        "plt.figure(figsize=(15,5))\n",
        "plt.xticks(rotation=60)\n",
        "plt.xlabel('genre')\n",
        "plt.ylabel('average_revenue')\n",
        "plt.yscale(value='log')\n",
        "plt.bar(list(genres_dict.keys()), [genres_dict[genre]['avg_revenue']\n",
        "                                   for genre in genres_dict.keys()])"
      ],
      "execution_count": null,
      "outputs": [
        {
          "data": {
            "text/plain": [
              "<BarContainer object of 20 artists>"
            ]
          },
          "execution_count": 9,
          "metadata": {},
          "output_type": "execute_result"
        },
        {
          "data": {
            "image/png": "[encoded data removed]",
            "text/plain": [
              "<Figure size 1080x360 with 1 Axes>"
            ]
          },
          "metadata": {
            "needs_background": "light"
          },
          "output_type": "display_data"
        }
      ]
    },
    {
      "cell_type": "markdown",
      "metadata": {
        "id": "9wOS3IdLVhHx"
      },
      "source": [
        "# Question 2: Linear Regression (Airline Passenger Satisfaction)\n",
        "\n",
        "https://www.kaggle.com/teejmahal20/airline-passenger-satisfaction\n",
        "\n",
        "There're 2 csv files within. `train.csv` is for fitting the model while `test.csv` is for validating.\n",
        "\n",
        "1.   Rename all the variables with the replacement of space( ) to underscore(_).\n",
        "2.   Convert the value in `satisfaction` as \n",
        "`{'neutral or dissatisfied':0, 'satisfied':1}`\n",
        "3.   Perform a **LASSO-Penalised Regression** with: **5-fold cross validate** your models and tell the **parameter C** for the Ridge Regulariser with the optimum performance. Show the **line chart** of the model accuracy with respect to the parameter C (with or without Log-transformation) to validate your optimum-C opted. \n",
        "```\n",
        "x = df.loc[:,'Flight_Distance':'Cleanliness']\n",
        "y = df['satisfaction']\n",
        "```\n",
        "4.   Evaluate your model with R-square and MSE.  Validate with 'test.csv' "
      ]
    },
    {
      "cell_type": "code",
      "metadata": {
        "id": "c9t3rN2GGDLO"
      },
      "source": [
        "train_path = f'{os.path.abspath(os.path.join(current_path, os.pardir))}/hw1/hw1_archive/train.csv'\n",
        "test_path = f'{os.path.abspath(os.path.join(current_path, os.pardir))}/hw1/hw1_archive/test.csv'\n",
        "train = pd.read_csv(train_path)\n",
        "test = pd.read_csv(test_path)"
      ],
      "execution_count": null,
      "outputs": []
    },
    {
      "cell_type": "markdown",
      "metadata": {
        "id": "_63ZLk-fGDLO"
      },
      "source": [
        "###### 1. Rename all the variables with the replacement of space( ) to underscore(_)."
      ]
    },
    {
      "cell_type": "code",
      "metadata": {
        "id": "NCx_V05hGDLP"
      },
      "source": [
        "from typing import TypeVar\n",
        "DataFrame = TypeVar('pd.core.frame.DataFrame')\n",
        "\n",
        "def transform_col_name(dataframe: DataFrame) -> dict:\n",
        "    transform_dict = {}\n",
        "    for col in dataframe.columns:\n",
        "        if ' ' in col:\n",
        "            transform_dict[col] = col.replace(' ', '_')\n",
        "    return transform_dict"
      ],
      "execution_count": null,
      "outputs": []
    },
    {
      "cell_type": "code",
      "metadata": {
        "id": "TvF4vvFBGDLP"
      },
      "source": [
        "train.rename(columns = transform_col_name(train), inplace = True)\n",
        "test.rename(columns = transform_col_name(test), inplace = True)"
      ],
      "execution_count": null,
      "outputs": []
    },
    {
      "cell_type": "markdown",
      "metadata": {
        "id": "mt3y0JwKGDLP"
      },
      "source": [
        "###### 2. Convert the value in `satisfaction` as `{'neutral or dissatisfied':0, 'satisfied':1}`"
      ]
    },
    {
      "cell_type": "code",
      "metadata": {
        "id": "nUcsY8IWGDLP"
      },
      "source": [
        "train['satisfaction'] = train['satisfaction'].replace({'neutral or dissatisfied':0,'satisfied':1})\n",
        "test['satisfaction'] = test['satisfaction'].replace({'neutral or dissatisfied':0,'satisfied':1})"
      ],
      "execution_count": null,
      "outputs": []
    },
    {
      "cell_type": "markdown",
      "metadata": {
        "id": "Fy1edfoVGDLQ"
      },
      "source": [
        "###### 3. Perform a **LASSO-Penalised Regression** with: **5-fold cross validate** your models and tell the **parameter C** for the Ridge Regulariser with the optimum performance. \n",
        "- Show the **line chart** of the model accuracy with respect to the parameter C (with or without Log-transformation) to validate your optimum-C opted. \n",
        "```\n",
        "x = df.loc[:,'Flight_Distance':'Cleanliness']\n",
        "y = df['satisfaction']\n",
        "```"
      ]
    },
    {
      "cell_type": "code",
      "metadata": {
        "id": "uaZ9cDWIGDLQ"
      },
      "source": [
        "x_train = train.loc[:, 'Flight_Distance': 'Cleanliness']\n",
        "y_train = train['satisfaction']"
      ],
      "execution_count": null,
      "outputs": []
    },
    {
      "cell_type": "code",
      "metadata": {
        "id": "vOr4xY87GDLQ",
        "outputId": "f8e2b759-b82a-4962-be42-90f8deccdc33"
      },
      "source": [
        "from sklearn import linear_model\n",
        "alphas_grid = np.logspace(-100, 0, num=100)\n",
        "lasso_cv = linear_model.LassoCV(alphas=alphas_grid, \n",
        "                                fit_intercept=True, \n",
        "                                normalize=True, \n",
        "                                max_iter=10000, \n",
        "                                tol=0.001, \n",
        "                                cv=5, \n",
        "                                random_state=48, \n",
        "                                n_jobs=-1)\n",
        "lasso_cv_fitted = lasso_cv.fit(x_train, y_train)"
      ],
      "execution_count": null,
      "outputs": [
        {
          "name": "stderr",
          "output_type": "stream",
          "text": [
            "/Users/zionn/opt/anaconda3/envs/myenv/lib/python3.8/site-packages/sklearn/linear_model/_coordinate_descent.py:631: ConvergenceWarning: Objective did not converge. You might want to increase the number of iterations. Duality gap: 3338.1835277612026, tolerance: 20.42275389779096\n",
            "  model = cd_fast.enet_coordinate_descent_gram(\n",
            "/Users/zionn/opt/anaconda3/envs/myenv/lib/python3.8/site-packages/sklearn/linear_model/_coordinate_descent.py:631: ConvergenceWarning: Objective did not converge. You might want to increase the number of iterations. Duality gap: 5516.335513761642, tolerance: 20.42275389779096\n",
            "  model = cd_fast.enet_coordinate_descent_gram(\n",
            "/Users/zionn/opt/anaconda3/envs/myenv/lib/python3.8/site-packages/sklearn/linear_model/_coordinate_descent.py:631: ConvergenceWarning: Objective did not converge. You might want to increase the number of iterations. Duality gap: 3315.373096143971, tolerance: 20.402061667649168\n",
            "  model = cd_fast.enet_coordinate_descent_gram(\n",
            "/Users/zionn/opt/anaconda3/envs/myenv/lib/python3.8/site-packages/sklearn/linear_model/_coordinate_descent.py:631: ConvergenceWarning: Objective did not converge. You might want to increase the number of iterations. Duality gap: 2294.4133515592766, tolerance: 20.428318588116326\n",
            "  model = cd_fast.enet_coordinate_descent_gram(\n",
            "/Users/zionn/opt/anaconda3/envs/myenv/lib/python3.8/site-packages/sklearn/linear_model/_coordinate_descent.py:631: ConvergenceWarning: Objective did not converge. You might want to increase the number of iterations. Duality gap: 5902.507013880955, tolerance: 20.42275389779096\n",
            "  model = cd_fast.enet_coordinate_descent_gram(\n",
            "/Users/zionn/opt/anaconda3/envs/myenv/lib/python3.8/site-packages/sklearn/linear_model/_coordinate_descent.py:631: ConvergenceWarning: Objective did not converge. You might want to increase the number of iterations. Duality gap: 2302.003080267423, tolerance: 20.397458008011956\n",
            "  model = cd_fast.enet_coordinate_descent_gram(\n",
            "/Users/zionn/opt/anaconda3/envs/myenv/lib/python3.8/site-packages/sklearn/linear_model/_coordinate_descent.py:631: ConvergenceWarning: Objective did not converge. You might want to increase the number of iterations. Duality gap: 3308.6670731984427, tolerance: 20.40569770099715\n",
            "  model = cd_fast.enet_coordinate_descent_gram(\n",
            "/Users/zionn/opt/anaconda3/envs/myenv/lib/python3.8/site-packages/sklearn/linear_model/_coordinate_descent.py:631: ConvergenceWarning: Objective did not converge. You might want to increase the number of iterations. Duality gap: 5478.602294296139, tolerance: 20.402061667649168\n",
            "  model = cd_fast.enet_coordinate_descent_gram(\n",
            "/Users/zionn/opt/anaconda3/envs/myenv/lib/python3.8/site-packages/sklearn/linear_model/_coordinate_descent.py:631: ConvergenceWarning: Objective did not converge. You might want to increase the number of iterations. Duality gap: 5467.473933816596, tolerance: 20.428318588116326\n",
            "  model = cd_fast.enet_coordinate_descent_gram(\n",
            "/Users/zionn/opt/anaconda3/envs/myenv/lib/python3.8/site-packages/sklearn/linear_model/_coordinate_descent.py:631: ConvergenceWarning: Objective did not converge. You might want to increase the number of iterations. Duality gap: 5485.559883259226, tolerance: 20.397458008011956\n",
            "  model = cd_fast.enet_coordinate_descent_gram(\n",
            "/Users/zionn/opt/anaconda3/envs/myenv/lib/python3.8/site-packages/sklearn/linear_model/_coordinate_descent.py:631: ConvergenceWarning: Objective did not converge. You might want to increase the number of iterations. Duality gap: 5940.936866058501, tolerance: 20.42275389779096\n",
            "  model = cd_fast.enet_coordinate_descent_gram(\n",
            "/Users/zionn/opt/anaconda3/envs/myenv/lib/python3.8/site-packages/sklearn/linear_model/_coordinate_descent.py:631: ConvergenceWarning: Objective did not converge. You might want to increase the number of iterations. Duality gap: 1302.6885820801026, tolerance: 20.40569770099715\n",
            "  model = cd_fast.enet_coordinate_descent_gram(\n",
            "/Users/zionn/opt/anaconda3/envs/myenv/lib/python3.8/site-packages/sklearn/linear_model/_coordinate_descent.py:631: ConvergenceWarning: Objective did not converge. You might want to increase the number of iterations. Duality gap: 5870.57655523661, tolerance: 20.402061667649168\n",
            "  model = cd_fast.enet_coordinate_descent_gram(\n",
            "/Users/zionn/opt/anaconda3/envs/myenv/lib/python3.8/site-packages/sklearn/linear_model/_coordinate_descent.py:631: ConvergenceWarning: Objective did not converge. You might want to increase the number of iterations. Duality gap: 5558.925962317809, tolerance: 20.428318588116326\n",
            "  model = cd_fast.enet_coordinate_descent_gram(\n",
            "/Users/zionn/opt/anaconda3/envs/myenv/lib/python3.8/site-packages/sklearn/linear_model/_coordinate_descent.py:631: ConvergenceWarning: Objective did not converge. You might want to increase the number of iterations. Duality gap: 5577.31442747133, tolerance: 20.397458008011956\n",
            "  model = cd_fast.enet_coordinate_descent_gram(\n",
            "/Users/zionn/opt/anaconda3/envs/myenv/lib/python3.8/site-packages/sklearn/linear_model/_coordinate_descent.py:631: ConvergenceWarning: Objective did not converge. You might want to increase the number of iterations. Duality gap: 5944.833968580962, tolerance: 20.42275389779096\n",
            "  model = cd_fast.enet_coordinate_descent_gram(\n",
            "/Users/zionn/opt/anaconda3/envs/myenv/lib/python3.8/site-packages/sklearn/linear_model/_coordinate_descent.py:631: ConvergenceWarning: Objective did not converge. You might want to increase the number of iterations. Duality gap: 5808.200840500695, tolerance: 20.40569770099715\n",
            "  model = cd_fast.enet_coordinate_descent_gram(\n",
            "/Users/zionn/opt/anaconda3/envs/myenv/lib/python3.8/site-packages/sklearn/linear_model/_coordinate_descent.py:631: ConvergenceWarning: Objective did not converge. You might want to increase the number of iterations. Duality gap: 5900.2938948787305, tolerance: 20.402061667649168\n",
            "  model = cd_fast.enet_coordinate_descent_gram(\n",
            "/Users/zionn/opt/anaconda3/envs/myenv/lib/python3.8/site-packages/sklearn/linear_model/_coordinate_descent.py:631: ConvergenceWarning: Objective did not converge. You might want to increase the number of iterations. Duality gap: 5888.3089772172925, tolerance: 20.428318588116326\n",
            "  model = cd_fast.enet_coordinate_descent_gram(\n",
            "/Users/zionn/opt/anaconda3/envs/myenv/lib/python3.8/site-packages/sklearn/linear_model/_coordinate_descent.py:631: ConvergenceWarning: Objective did not converge. You might want to increase the number of iterations. Duality gap: 5845.781098206057, tolerance: 20.397458008011956\n",
            "  model = cd_fast.enet_coordinate_descent_gram(\n",
            "/Users/zionn/opt/anaconda3/envs/myenv/lib/python3.8/site-packages/sklearn/linear_model/_coordinate_descent.py:631: ConvergenceWarning: Objective did not converge. You might want to increase the number of iterations. Duality gap: 5945.065736298103, tolerance: 20.42275389779096\n",
            "  model = cd_fast.enet_coordinate_descent_gram(\n",
            "/Users/zionn/opt/anaconda3/envs/myenv/lib/python3.8/site-packages/sklearn/linear_model/_coordinate_descent.py:631: ConvergenceWarning: Objective did not converge. You might want to increase the number of iterations. Duality gap: 5890.425020887695, tolerance: 20.40569770099715\n",
            "  model = cd_fast.enet_coordinate_descent_gram(\n",
            "/Users/zionn/opt/anaconda3/envs/myenv/lib/python3.8/site-packages/sklearn/linear_model/_coordinate_descent.py:631: ConvergenceWarning: Objective did not converge. You might want to increase the number of iterations. Duality gap: 5902.815854893732, tolerance: 20.402061667649168\n",
            "  model = cd_fast.enet_coordinate_descent_gram(\n",
            "/Users/zionn/opt/anaconda3/envs/myenv/lib/python3.8/site-packages/sklearn/linear_model/_coordinate_descent.py:631: ConvergenceWarning: Objective did not converge. You might want to increase the number of iterations. Duality gap: 5889.211181980304, tolerance: 20.428318588116326\n",
            "  model = cd_fast.enet_coordinate_descent_gram(\n",
            "/Users/zionn/opt/anaconda3/envs/myenv/lib/python3.8/site-packages/sklearn/linear_model/_coordinate_descent.py:631: ConvergenceWarning: Objective did not converge. You might want to increase the number of iterations. Duality gap: 5860.196244267921, tolerance: 20.397458008011956\n",
            "  model = cd_fast.enet_coordinate_descent_gram(\n",
            "/Users/zionn/opt/anaconda3/envs/myenv/lib/python3.8/site-packages/sklearn/linear_model/_coordinate_descent.py:631: ConvergenceWarning: Objective did not converge. You might want to increase the number of iterations. Duality gap: 5945.097758385585, tolerance: 20.42275389779096\n",
            "  model = cd_fast.enet_coordinate_descent_gram(\n",
            "/Users/zionn/opt/anaconda3/envs/myenv/lib/python3.8/site-packages/sklearn/linear_model/_coordinate_descent.py:631: ConvergenceWarning: Objective did not converge. You might want to increase the number of iterations. Duality gap: 5892.289194708107, tolerance: 20.40569770099715\n",
            "  model = cd_fast.enet_coordinate_descent_gram(\n",
            "/Users/zionn/opt/anaconda3/envs/myenv/lib/python3.8/site-packages/sklearn/linear_model/_coordinate_descent.py:631: ConvergenceWarning: Objective did not converge. You might want to increase the number of iterations. Duality gap: 5892.401222533674, tolerance: 20.428318588116326\n",
            "  model = cd_fast.enet_coordinate_descent_gram(\n",
            "/Users/zionn/opt/anaconda3/envs/myenv/lib/python3.8/site-packages/sklearn/linear_model/_coordinate_descent.py:631: ConvergenceWarning: Objective did not converge. You might want to increase the number of iterations. Duality gap: 5911.911750333054, tolerance: 20.397458008011956\n",
            "  model = cd_fast.enet_coordinate_descent_gram(\n",
            "/Users/zionn/opt/anaconda3/envs/myenv/lib/python3.8/site-packages/sklearn/linear_model/_coordinate_descent.py:631: ConvergenceWarning: Objective did not converge. You might want to increase the number of iterations. Duality gap: 5904.414232498583, tolerance: 20.402061667649168\n",
            "  model = cd_fast.enet_coordinate_descent_gram(\n",
            "/Users/zionn/opt/anaconda3/envs/myenv/lib/python3.8/site-packages/sklearn/linear_model/_coordinate_descent.py:631: ConvergenceWarning: Objective did not converge. You might want to increase the number of iterations. Duality gap: 5945.105028642505, tolerance: 20.42275389779096\n",
            "  model = cd_fast.enet_coordinate_descent_gram(\n",
            "/Users/zionn/opt/anaconda3/envs/myenv/lib/python3.8/site-packages/sklearn/linear_model/_coordinate_descent.py:631: ConvergenceWarning: Objective did not converge. You might want to increase the number of iterations. Duality gap: 5892.451619087759, tolerance: 20.40569770099715\n",
            "  model = cd_fast.enet_coordinate_descent_gram(\n",
            "/Users/zionn/opt/anaconda3/envs/myenv/lib/python3.8/site-packages/sklearn/linear_model/_coordinate_descent.py:631: ConvergenceWarning: Objective did not converge. You might want to increase the number of iterations. Duality gap: 5945.105498059443, tolerance: 20.42275389779096\n",
            "  model = cd_fast.enet_coordinate_descent_gram(\n",
            "/Users/zionn/opt/anaconda3/envs/myenv/lib/python3.8/site-packages/sklearn/linear_model/_coordinate_descent.py:631: ConvergenceWarning: Objective did not converge. You might want to increase the number of iterations. Duality gap: 5892.432960570978, tolerance: 20.428318588116326\n",
            "  model = cd_fast.enet_coordinate_descent_gram(\n",
            "/Users/zionn/opt/anaconda3/envs/myenv/lib/python3.8/site-packages/sklearn/linear_model/_coordinate_descent.py:631: ConvergenceWarning: Objective did not converge. You might want to increase the number of iterations. Duality gap: 5904.430133832547, tolerance: 20.402061667649168\n",
            "  model = cd_fast.enet_coordinate_descent_gram(\n",
            "/Users/zionn/opt/anaconda3/envs/myenv/lib/python3.8/site-packages/sklearn/linear_model/_coordinate_descent.py:631: ConvergenceWarning: Objective did not converge. You might want to increase the number of iterations. Duality gap: 5911.929350258398, tolerance: 20.397458008011956\n",
            "  model = cd_fast.enet_coordinate_descent_gram(\n",
            "/Users/zionn/opt/anaconda3/envs/myenv/lib/python3.8/site-packages/sklearn/linear_model/_coordinate_descent.py:631: ConvergenceWarning: Objective did not converge. You might want to increase the number of iterations. Duality gap: 5892.487211332243, tolerance: 20.40569770099715\n",
            "  model = cd_fast.enet_coordinate_descent_gram(\n",
            "/Users/zionn/opt/anaconda3/envs/myenv/lib/python3.8/site-packages/sklearn/linear_model/_coordinate_descent.py:631: ConvergenceWarning: Objective did not converge. You might want to increase the number of iterations. Duality gap: 5892.437656135582, tolerance: 20.428318588116326\n",
            "  model = cd_fast.enet_coordinate_descent_gram(\n",
            "/Users/zionn/opt/anaconda3/envs/myenv/lib/python3.8/site-packages/sklearn/linear_model/_coordinate_descent.py:631: ConvergenceWarning: Objective did not converge. You might want to increase the number of iterations. Duality gap: 5945.105531549863, tolerance: 20.42275389779096\n",
            "  model = cd_fast.enet_coordinate_descent_gram(\n",
            "/Users/zionn/opt/anaconda3/envs/myenv/lib/python3.8/site-packages/sklearn/linear_model/_coordinate_descent.py:631: ConvergenceWarning: Objective did not converge. You might want to increase the number of iterations. Duality gap: 5911.932077192293, tolerance: 20.397458008011956\n",
            "  model = cd_fast.enet_coordinate_descent_gram(\n",
            "/Users/zionn/opt/anaconda3/envs/myenv/lib/python3.8/site-packages/sklearn/linear_model/_coordinate_descent.py:631: ConvergenceWarning: Objective did not converge. You might want to increase the number of iterations. Duality gap: 5904.432486394022, tolerance: 20.402061667649168\n",
            "  model = cd_fast.enet_coordinate_descent_gram(\n",
            "/Users/zionn/opt/anaconda3/envs/myenv/lib/python3.8/site-packages/sklearn/linear_model/_coordinate_descent.py:631: ConvergenceWarning: Objective did not converge. You might want to increase the number of iterations. Duality gap: 5892.490312202141, tolerance: 20.40569770099715\n",
            "  model = cd_fast.enet_coordinate_descent_gram(\n",
            "/Users/zionn/opt/anaconda3/envs/myenv/lib/python3.8/site-packages/sklearn/linear_model/_coordinate_descent.py:631: ConvergenceWarning: Objective did not converge. You might want to increase the number of iterations. Duality gap: 5892.440079779603, tolerance: 20.428318588116326\n",
            "  model = cd_fast.enet_coordinate_descent_gram(\n",
            "/Users/zionn/opt/anaconda3/envs/myenv/lib/python3.8/site-packages/sklearn/linear_model/_coordinate_descent.py:631: ConvergenceWarning: Objective did not converge. You might want to increase the number of iterations. Duality gap: 5945.105534821968, tolerance: 20.42275389779096\n",
            "  model = cd_fast.enet_coordinate_descent_gram(\n",
            "/Users/zionn/opt/anaconda3/envs/myenv/lib/python3.8/site-packages/sklearn/linear_model/_coordinate_descent.py:631: ConvergenceWarning: Objective did not converge. You might want to increase the number of iterations. Duality gap: 5911.932343616477, tolerance: 20.397458008011956\n",
            "  model = cd_fast.enet_coordinate_descent_gram(\n",
            "/Users/zionn/opt/anaconda3/envs/myenv/lib/python3.8/site-packages/sklearn/linear_model/_coordinate_descent.py:631: ConvergenceWarning: Objective did not converge. You might want to increase the number of iterations. Duality gap: 5904.433958718522, tolerance: 20.402061667649168\n",
            "  model = cd_fast.enet_coordinate_descent_gram(\n",
            "/Users/zionn/opt/anaconda3/envs/myenv/lib/python3.8/site-packages/sklearn/linear_model/_coordinate_descent.py:631: ConvergenceWarning: Objective did not converge. You might want to increase the number of iterations. Duality gap: 5892.491046875449, tolerance: 20.40569770099715\n",
            "  model = cd_fast.enet_coordinate_descent_gram(\n",
            "/Users/zionn/opt/anaconda3/envs/myenv/lib/python3.8/site-packages/sklearn/linear_model/_coordinate_descent.py:631: ConvergenceWarning: Objective did not converge. You might want to increase the number of iterations. Duality gap: 5892.44061087116, tolerance: 20.428318588116326\n",
            "  model = cd_fast.enet_coordinate_descent_gram(\n",
            "/Users/zionn/opt/anaconda3/envs/myenv/lib/python3.8/site-packages/sklearn/linear_model/_coordinate_descent.py:631: ConvergenceWarning: Objective did not converge. You might want to increase the number of iterations. Duality gap: 5945.105535152989, tolerance: 20.42275389779096\n",
            "  model = cd_fast.enet_coordinate_descent_gram(\n",
            "/Users/zionn/opt/anaconda3/envs/myenv/lib/python3.8/site-packages/sklearn/linear_model/_coordinate_descent.py:631: ConvergenceWarning: Objective did not converge. You might want to increase the number of iterations. Duality gap: 5911.93236964638, tolerance: 20.397458008011956\n",
            "  model = cd_fast.enet_coordinate_descent_gram(\n",
            "/Users/zionn/opt/anaconda3/envs/myenv/lib/python3.8/site-packages/sklearn/linear_model/_coordinate_descent.py:631: ConvergenceWarning: Objective did not converge. You might want to increase the number of iterations. Duality gap: 5904.43398117486, tolerance: 20.402061667649168\n",
            "  model = cd_fast.enet_coordinate_descent_gram(\n",
            "/Users/zionn/opt/anaconda3/envs/myenv/lib/python3.8/site-packages/sklearn/linear_model/_coordinate_descent.py:631: ConvergenceWarning: Objective did not converge. You might want to increase the number of iterations. Duality gap: 5892.491058080867, tolerance: 20.40569770099715\n",
            "  model = cd_fast.enet_coordinate_descent_gram(\n",
            "/Users/zionn/opt/anaconda3/envs/myenv/lib/python3.8/site-packages/sklearn/linear_model/_coordinate_descent.py:631: ConvergenceWarning: Objective did not converge. You might want to increase the number of iterations. Duality gap: 5892.440666504994, tolerance: 20.428318588116326\n",
            "  model = cd_fast.enet_coordinate_descent_gram(\n",
            "/Users/zionn/opt/anaconda3/envs/myenv/lib/python3.8/site-packages/sklearn/linear_model/_coordinate_descent.py:631: ConvergenceWarning: Objective did not converge. You might want to increase the number of iterations. Duality gap: 5911.932372189541, tolerance: 20.397458008011956\n",
            "  model = cd_fast.enet_coordinate_descent_gram(\n",
            "/Users/zionn/opt/anaconda3/envs/myenv/lib/python3.8/site-packages/sklearn/linear_model/_coordinate_descent.py:631: ConvergenceWarning: Objective did not converge. You might want to increase the number of iterations. Duality gap: 5945.105535172675, tolerance: 20.42275389779096\n",
            "  model = cd_fast.enet_coordinate_descent_gram(\n",
            "/Users/zionn/opt/anaconda3/envs/myenv/lib/python3.8/site-packages/sklearn/linear_model/_coordinate_descent.py:631: ConvergenceWarning: Objective did not converge. You might want to increase the number of iterations. Duality gap: 5904.433994173295, tolerance: 20.402061667649168\n",
            "  model = cd_fast.enet_coordinate_descent_gram(\n",
            "/Users/zionn/opt/anaconda3/envs/myenv/lib/python3.8/site-packages/sklearn/linear_model/_coordinate_descent.py:631: ConvergenceWarning: Objective did not converge. You might want to increase the number of iterations. Duality gap: 5892.491065093696, tolerance: 20.40569770099715\n",
            "  model = cd_fast.enet_coordinate_descent_gram(\n",
            "/Users/zionn/opt/anaconda3/envs/myenv/lib/python3.8/site-packages/sklearn/linear_model/_coordinate_descent.py:631: ConvergenceWarning: Objective did not converge. You might want to increase the number of iterations. Duality gap: 5892.440668194855, tolerance: 20.428318588116326\n",
            "  model = cd_fast.enet_coordinate_descent_gram(\n",
            "/Users/zionn/opt/anaconda3/envs/myenv/lib/python3.8/site-packages/sklearn/linear_model/_coordinate_descent.py:631: ConvergenceWarning: Objective did not converge. You might want to increase the number of iterations. Duality gap: 5911.932372437998, tolerance: 20.397458008011956\n",
            "  model = cd_fast.enet_coordinate_descent_gram(\n",
            "/Users/zionn/opt/anaconda3/envs/myenv/lib/python3.8/site-packages/sklearn/linear_model/_coordinate_descent.py:631: ConvergenceWarning: Objective did not converge. You might want to increase the number of iterations. Duality gap: 5945.105535175792, tolerance: 20.42275389779096\n",
            "  model = cd_fast.enet_coordinate_descent_gram(\n",
            "/Users/zionn/opt/anaconda3/envs/myenv/lib/python3.8/site-packages/sklearn/linear_model/_coordinate_descent.py:631: ConvergenceWarning: Objective did not converge. You might want to increase the number of iterations. Duality gap: 5904.433995443246, tolerance: 20.402061667649168\n",
            "  model = cd_fast.enet_coordinate_descent_gram(\n",
            "/Users/zionn/opt/anaconda3/envs/myenv/lib/python3.8/site-packages/sklearn/linear_model/_coordinate_descent.py:631: ConvergenceWarning: Objective did not converge. You might want to increase the number of iterations. Duality gap: 5892.49106523503, tolerance: 20.40569770099715\n",
            "  model = cd_fast.enet_coordinate_descent_gram(\n",
            "/Users/zionn/opt/anaconda3/envs/myenv/lib/python3.8/site-packages/sklearn/linear_model/_coordinate_descent.py:631: ConvergenceWarning: Objective did not converge. You might want to increase the number of iterations. Duality gap: 5892.4406683744755, tolerance: 20.428318588116326\n",
            "  model = cd_fast.enet_coordinate_descent_gram(\n",
            "/Users/zionn/opt/anaconda3/envs/myenv/lib/python3.8/site-packages/sklearn/linear_model/_coordinate_descent.py:631: ConvergenceWarning: Objective did not converge. You might want to increase the number of iterations. Duality gap: 5911.932372462277, tolerance: 20.397458008011956\n",
            "  model = cd_fast.enet_coordinate_descent_gram(\n",
            "/Users/zionn/opt/anaconda3/envs/myenv/lib/python3.8/site-packages/sklearn/linear_model/_coordinate_descent.py:631: ConvergenceWarning: Objective did not converge. You might want to increase the number of iterations. Duality gap: 5945.105535176111, tolerance: 20.42275389779096\n",
            "  model = cd_fast.enet_coordinate_descent_gram(\n",
            "/Users/zionn/opt/anaconda3/envs/myenv/lib/python3.8/site-packages/sklearn/linear_model/_coordinate_descent.py:631: ConvergenceWarning: Objective did not converge. You might want to increase the number of iterations. Duality gap: 5892.491065264807, tolerance: 20.40569770099715\n",
            "  model = cd_fast.enet_coordinate_descent_gram(\n",
            "/Users/zionn/opt/anaconda3/envs/myenv/lib/python3.8/site-packages/sklearn/linear_model/_coordinate_descent.py:631: ConvergenceWarning: Objective did not converge. You might want to increase the number of iterations. Duality gap: 5904.4339955673295, tolerance: 20.402061667649168\n",
            "  model = cd_fast.enet_coordinate_descent_gram(\n",
            "/Users/zionn/opt/anaconda3/envs/myenv/lib/python3.8/site-packages/sklearn/linear_model/_coordinate_descent.py:631: ConvergenceWarning: Objective did not converge. You might want to increase the number of iterations. Duality gap: 5892.440668377503, tolerance: 20.428318588116326\n",
            "  model = cd_fast.enet_coordinate_descent_gram(\n",
            "/Users/zionn/opt/anaconda3/envs/myenv/lib/python3.8/site-packages/sklearn/linear_model/_coordinate_descent.py:631: ConvergenceWarning: Objective did not converge. You might want to increase the number of iterations. Duality gap: 5911.932372456684, tolerance: 20.397458008011956\n",
            "  model = cd_fast.enet_coordinate_descent_gram(\n",
            "/Users/zionn/opt/anaconda3/envs/myenv/lib/python3.8/site-packages/sklearn/linear_model/_coordinate_descent.py:631: ConvergenceWarning: Objective did not converge. You might want to increase the number of iterations. Duality gap: 5945.105535176115, tolerance: 20.42275389779096\n",
            "  model = cd_fast.enet_coordinate_descent_gram(\n",
            "/Users/zionn/opt/anaconda3/envs/myenv/lib/python3.8/site-packages/sklearn/linear_model/_coordinate_descent.py:631: ConvergenceWarning: Objective did not converge. You might want to increase the number of iterations. Duality gap: 5892.491065268956, tolerance: 20.40569770099715\n",
            "  model = cd_fast.enet_coordinate_descent_gram(\n",
            "/Users/zionn/opt/anaconda3/envs/myenv/lib/python3.8/site-packages/sklearn/linear_model/_coordinate_descent.py:631: ConvergenceWarning: Objective did not converge. You might want to increase the number of iterations. Duality gap: 5904.433995579459, tolerance: 20.402061667649168\n",
            "  model = cd_fast.enet_coordinate_descent_gram(\n",
            "/Users/zionn/opt/anaconda3/envs/myenv/lib/python3.8/site-packages/sklearn/linear_model/_coordinate_descent.py:631: ConvergenceWarning: Objective did not converge. You might want to increase the number of iterations. Duality gap: 5892.4406683775605, tolerance: 20.428318588116326\n",
            "  model = cd_fast.enet_coordinate_descent_gram(\n",
            "/Users/zionn/opt/anaconda3/envs/myenv/lib/python3.8/site-packages/sklearn/linear_model/_coordinate_descent.py:631: ConvergenceWarning: Objective did not converge. You might want to increase the number of iterations. Duality gap: 5911.9323724648875, tolerance: 20.397458008011956\n",
            "  model = cd_fast.enet_coordinate_descent_gram(\n",
            "/Users/zionn/opt/anaconda3/envs/myenv/lib/python3.8/site-packages/sklearn/linear_model/_coordinate_descent.py:631: ConvergenceWarning: Objective did not converge. You might want to increase the number of iterations. Duality gap: 5945.105535176122, tolerance: 20.42275389779096\n",
            "  model = cd_fast.enet_coordinate_descent_gram(\n",
            "/Users/zionn/opt/anaconda3/envs/myenv/lib/python3.8/site-packages/sklearn/linear_model/_coordinate_descent.py:631: ConvergenceWarning: Objective did not converge. You might want to increase the number of iterations. Duality gap: 5892.491065269306, tolerance: 20.40569770099715\n",
            "  model = cd_fast.enet_coordinate_descent_gram(\n",
            "/Users/zionn/opt/anaconda3/envs/myenv/lib/python3.8/site-packages/sklearn/linear_model/_coordinate_descent.py:631: ConvergenceWarning: Objective did not converge. You might want to increase the number of iterations. Duality gap: 5904.433995580629, tolerance: 20.402061667649168\n",
            "  model = cd_fast.enet_coordinate_descent_gram(\n",
            "/Users/zionn/opt/anaconda3/envs/myenv/lib/python3.8/site-packages/sklearn/linear_model/_coordinate_descent.py:631: ConvergenceWarning: Objective did not converge. You might want to increase the number of iterations. Duality gap: 5892.4406683777925, tolerance: 20.428318588116326\n",
            "  model = cd_fast.enet_coordinate_descent_gram(\n"
          ]
        },
        {
          "name": "stderr",
          "output_type": "stream",
          "text": [
            "/Users/zionn/opt/anaconda3/envs/myenv/lib/python3.8/site-packages/sklearn/linear_model/_coordinate_descent.py:631: ConvergenceWarning: Objective did not converge. You might want to increase the number of iterations. Duality gap: 5911.932372464917, tolerance: 20.397458008011956\n",
            "  model = cd_fast.enet_coordinate_descent_gram(\n",
            "/Users/zionn/opt/anaconda3/envs/myenv/lib/python3.8/site-packages/sklearn/linear_model/_coordinate_descent.py:631: ConvergenceWarning: Objective did not converge. You might want to increase the number of iterations. Duality gap: 5892.491065269248, tolerance: 20.40569770099715\n",
            "  model = cd_fast.enet_coordinate_descent_gram(\n",
            "/Users/zionn/opt/anaconda3/envs/myenv/lib/python3.8/site-packages/sklearn/linear_model/_coordinate_descent.py:631: ConvergenceWarning: Objective did not converge. You might want to increase the number of iterations. Duality gap: 5945.105535176144, tolerance: 20.42275389779096\n",
            "  model = cd_fast.enet_coordinate_descent_gram(\n",
            "/Users/zionn/opt/anaconda3/envs/myenv/lib/python3.8/site-packages/sklearn/linear_model/_coordinate_descent.py:631: ConvergenceWarning: Objective did not converge. You might want to increase the number of iterations. Duality gap: 5904.433995580777, tolerance: 20.402061667649168\n",
            "  model = cd_fast.enet_coordinate_descent_gram(\n",
            "/Users/zionn/opt/anaconda3/envs/myenv/lib/python3.8/site-packages/sklearn/linear_model/_coordinate_descent.py:631: ConvergenceWarning: Objective did not converge. You might want to increase the number of iterations. Duality gap: 5911.932372464913, tolerance: 20.397458008011956\n",
            "  model = cd_fast.enet_coordinate_descent_gram(\n",
            "/Users/zionn/opt/anaconda3/envs/myenv/lib/python3.8/site-packages/sklearn/linear_model/_coordinate_descent.py:631: ConvergenceWarning: Objective did not converge. You might want to increase the number of iterations. Duality gap: 5892.440668377794, tolerance: 20.428318588116326\n",
            "  model = cd_fast.enet_coordinate_descent_gram(\n",
            "/Users/zionn/opt/anaconda3/envs/myenv/lib/python3.8/site-packages/sklearn/linear_model/_coordinate_descent.py:631: ConvergenceWarning: Objective did not converge. You might want to increase the number of iterations. Duality gap: 5892.491065269276, tolerance: 20.40569770099715\n",
            "  model = cd_fast.enet_coordinate_descent_gram(\n",
            "/Users/zionn/opt/anaconda3/envs/myenv/lib/python3.8/site-packages/sklearn/linear_model/_coordinate_descent.py:631: ConvergenceWarning: Objective did not converge. You might want to increase the number of iterations. Duality gap: 5945.105535176084, tolerance: 20.42275389779096\n",
            "  model = cd_fast.enet_coordinate_descent_gram(\n",
            "/Users/zionn/opt/anaconda3/envs/myenv/lib/python3.8/site-packages/sklearn/linear_model/_coordinate_descent.py:631: ConvergenceWarning: Objective did not converge. You might want to increase the number of iterations. Duality gap: 5904.433995580738, tolerance: 20.402061667649168\n",
            "  model = cd_fast.enet_coordinate_descent_gram(\n",
            "/Users/zionn/opt/anaconda3/envs/myenv/lib/python3.8/site-packages/sklearn/linear_model/_coordinate_descent.py:631: ConvergenceWarning: Objective did not converge. You might want to increase the number of iterations. Duality gap: 5892.440668377843, tolerance: 20.428318588116326\n",
            "  model = cd_fast.enet_coordinate_descent_gram(\n",
            "/Users/zionn/opt/anaconda3/envs/myenv/lib/python3.8/site-packages/sklearn/linear_model/_coordinate_descent.py:631: ConvergenceWarning: Objective did not converge. You might want to increase the number of iterations. Duality gap: 5911.932372464911, tolerance: 20.397458008011956\n",
            "  model = cd_fast.enet_coordinate_descent_gram(\n",
            "/Users/zionn/opt/anaconda3/envs/myenv/lib/python3.8/site-packages/sklearn/linear_model/_coordinate_descent.py:631: ConvergenceWarning: Objective did not converge. You might want to increase the number of iterations. Duality gap: 5892.491065269287, tolerance: 20.40569770099715\n",
            "  model = cd_fast.enet_coordinate_descent_gram(\n",
            "/Users/zionn/opt/anaconda3/envs/myenv/lib/python3.8/site-packages/sklearn/linear_model/_coordinate_descent.py:631: ConvergenceWarning: Objective did not converge. You might want to increase the number of iterations. Duality gap: 5945.105535176082, tolerance: 20.42275389779096\n",
            "  model = cd_fast.enet_coordinate_descent_gram(\n",
            "/Users/zionn/opt/anaconda3/envs/myenv/lib/python3.8/site-packages/sklearn/linear_model/_coordinate_descent.py:631: ConvergenceWarning: Objective did not converge. You might want to increase the number of iterations. Duality gap: 5904.433995580777, tolerance: 20.402061667649168\n",
            "  model = cd_fast.enet_coordinate_descent_gram(\n",
            "/Users/zionn/opt/anaconda3/envs/myenv/lib/python3.8/site-packages/sklearn/linear_model/_coordinate_descent.py:631: ConvergenceWarning: Objective did not converge. You might want to increase the number of iterations. Duality gap: 5892.4910652693015, tolerance: 20.40569770099715\n",
            "  model = cd_fast.enet_coordinate_descent_gram(\n",
            "/Users/zionn/opt/anaconda3/envs/myenv/lib/python3.8/site-packages/sklearn/linear_model/_coordinate_descent.py:631: ConvergenceWarning: Objective did not converge. You might want to increase the number of iterations. Duality gap: 5911.932372464909, tolerance: 20.397458008011956\n",
            "  model = cd_fast.enet_coordinate_descent_gram(\n",
            "/Users/zionn/opt/anaconda3/envs/myenv/lib/python3.8/site-packages/sklearn/linear_model/_coordinate_descent.py:631: ConvergenceWarning: Objective did not converge. You might want to increase the number of iterations. Duality gap: 5892.440668377791, tolerance: 20.428318588116326\n",
            "  model = cd_fast.enet_coordinate_descent_gram(\n",
            "/Users/zionn/opt/anaconda3/envs/myenv/lib/python3.8/site-packages/sklearn/linear_model/_coordinate_descent.py:631: ConvergenceWarning: Objective did not converge. You might want to increase the number of iterations. Duality gap: 5945.105535176157, tolerance: 20.42275389779096\n",
            "  model = cd_fast.enet_coordinate_descent_gram(\n",
            "/Users/zionn/opt/anaconda3/envs/myenv/lib/python3.8/site-packages/sklearn/linear_model/_coordinate_descent.py:631: ConvergenceWarning: Objective did not converge. You might want to increase the number of iterations. Duality gap: 5904.433995580772, tolerance: 20.402061667649168\n",
            "  model = cd_fast.enet_coordinate_descent_gram(\n",
            "/Users/zionn/opt/anaconda3/envs/myenv/lib/python3.8/site-packages/sklearn/linear_model/_coordinate_descent.py:631: ConvergenceWarning: Objective did not converge. You might want to increase the number of iterations. Duality gap: 5911.932372464909, tolerance: 20.397458008011956\n",
            "  model = cd_fast.enet_coordinate_descent_gram(\n",
            "/Users/zionn/opt/anaconda3/envs/myenv/lib/python3.8/site-packages/sklearn/linear_model/_coordinate_descent.py:631: ConvergenceWarning: Objective did not converge. You might want to increase the number of iterations. Duality gap: 5892.440668377798, tolerance: 20.428318588116326\n",
            "  model = cd_fast.enet_coordinate_descent_gram(\n",
            "/Users/zionn/opt/anaconda3/envs/myenv/lib/python3.8/site-packages/sklearn/linear_model/_coordinate_descent.py:631: ConvergenceWarning: Objective did not converge. You might want to increase the number of iterations. Duality gap: 5892.4910652692615, tolerance: 20.40569770099715\n",
            "  model = cd_fast.enet_coordinate_descent_gram(\n",
            "/Users/zionn/opt/anaconda3/envs/myenv/lib/python3.8/site-packages/sklearn/linear_model/_coordinate_descent.py:631: ConvergenceWarning: Objective did not converge. You might want to increase the number of iterations. Duality gap: 5945.105535176139, tolerance: 20.42275389779096\n",
            "  model = cd_fast.enet_coordinate_descent_gram(\n",
            "/Users/zionn/opt/anaconda3/envs/myenv/lib/python3.8/site-packages/sklearn/linear_model/_coordinate_descent.py:631: ConvergenceWarning: Objective did not converge. You might want to increase the number of iterations. Duality gap: 5904.433995580746, tolerance: 20.402061667649168\n",
            "  model = cd_fast.enet_coordinate_descent_gram(\n",
            "/Users/zionn/opt/anaconda3/envs/myenv/lib/python3.8/site-packages/sklearn/linear_model/_coordinate_descent.py:631: ConvergenceWarning: Objective did not converge. You might want to increase the number of iterations. Duality gap: 5892.44066837774, tolerance: 20.428318588116326\n",
            "  model = cd_fast.enet_coordinate_descent_gram(\n",
            "/Users/zionn/opt/anaconda3/envs/myenv/lib/python3.8/site-packages/sklearn/linear_model/_coordinate_descent.py:631: ConvergenceWarning: Objective did not converge. You might want to increase the number of iterations. Duality gap: 5892.491065269363, tolerance: 20.40569770099715\n",
            "  model = cd_fast.enet_coordinate_descent_gram(\n",
            "/Users/zionn/opt/anaconda3/envs/myenv/lib/python3.8/site-packages/sklearn/linear_model/_coordinate_descent.py:631: ConvergenceWarning: Objective did not converge. You might want to increase the number of iterations. Duality gap: 5911.932372464913, tolerance: 20.397458008011956\n",
            "  model = cd_fast.enet_coordinate_descent_gram(\n",
            "/Users/zionn/opt/anaconda3/envs/myenv/lib/python3.8/site-packages/sklearn/linear_model/_coordinate_descent.py:631: ConvergenceWarning: Objective did not converge. You might want to increase the number of iterations. Duality gap: 5945.1055351761315, tolerance: 20.42275389779096\n",
            "  model = cd_fast.enet_coordinate_descent_gram(\n",
            "/Users/zionn/opt/anaconda3/envs/myenv/lib/python3.8/site-packages/sklearn/linear_model/_coordinate_descent.py:631: ConvergenceWarning: Objective did not converge. You might want to increase the number of iterations. Duality gap: 5904.433995580774, tolerance: 20.402061667649168\n",
            "  model = cd_fast.enet_coordinate_descent_gram(\n",
            "/Users/zionn/opt/anaconda3/envs/myenv/lib/python3.8/site-packages/sklearn/linear_model/_coordinate_descent.py:631: ConvergenceWarning: Objective did not converge. You might want to increase the number of iterations. Duality gap: 5892.491065269307, tolerance: 20.40569770099715\n",
            "  model = cd_fast.enet_coordinate_descent_gram(\n",
            "/Users/zionn/opt/anaconda3/envs/myenv/lib/python3.8/site-packages/sklearn/linear_model/_coordinate_descent.py:631: ConvergenceWarning: Objective did not converge. You might want to increase the number of iterations. Duality gap: 5892.4406683778125, tolerance: 20.428318588116326\n",
            "  model = cd_fast.enet_coordinate_descent_gram(\n",
            "/Users/zionn/opt/anaconda3/envs/myenv/lib/python3.8/site-packages/sklearn/linear_model/_coordinate_descent.py:631: ConvergenceWarning: Objective did not converge. You might want to increase the number of iterations. Duality gap: 5911.932372464911, tolerance: 20.397458008011956\n",
            "  model = cd_fast.enet_coordinate_descent_gram(\n",
            "/Users/zionn/opt/anaconda3/envs/myenv/lib/python3.8/site-packages/sklearn/linear_model/_coordinate_descent.py:631: ConvergenceWarning: Objective did not converge. You might want to increase the number of iterations. Duality gap: 5945.105535176068, tolerance: 20.42275389779096\n",
            "  model = cd_fast.enet_coordinate_descent_gram(\n",
            "/Users/zionn/opt/anaconda3/envs/myenv/lib/python3.8/site-packages/sklearn/linear_model/_coordinate_descent.py:631: ConvergenceWarning: Objective did not converge. You might want to increase the number of iterations. Duality gap: 5892.491065269305, tolerance: 20.40569770099715\n",
            "  model = cd_fast.enet_coordinate_descent_gram(\n",
            "/Users/zionn/opt/anaconda3/envs/myenv/lib/python3.8/site-packages/sklearn/linear_model/_coordinate_descent.py:631: ConvergenceWarning: Objective did not converge. You might want to increase the number of iterations. Duality gap: 5892.440668377849, tolerance: 20.428318588116326\n",
            "  model = cd_fast.enet_coordinate_descent_gram(\n",
            "/Users/zionn/opt/anaconda3/envs/myenv/lib/python3.8/site-packages/sklearn/linear_model/_coordinate_descent.py:631: ConvergenceWarning: Objective did not converge. You might want to increase the number of iterations. Duality gap: 5904.433995580801, tolerance: 20.402061667649168\n",
            "  model = cd_fast.enet_coordinate_descent_gram(\n",
            "/Users/zionn/opt/anaconda3/envs/myenv/lib/python3.8/site-packages/sklearn/linear_model/_coordinate_descent.py:631: ConvergenceWarning: Objective did not converge. You might want to increase the number of iterations. Duality gap: 5911.932372464926, tolerance: 20.397458008011956\n",
            "  model = cd_fast.enet_coordinate_descent_gram(\n",
            "/Users/zionn/opt/anaconda3/envs/myenv/lib/python3.8/site-packages/sklearn/linear_model/_coordinate_descent.py:631: ConvergenceWarning: Objective did not converge. You might want to increase the number of iterations. Duality gap: 5945.105535176119, tolerance: 20.42275389779096\n",
            "  model = cd_fast.enet_coordinate_descent_gram(\n",
            "/Users/zionn/opt/anaconda3/envs/myenv/lib/python3.8/site-packages/sklearn/linear_model/_coordinate_descent.py:631: ConvergenceWarning: Objective did not converge. You might want to increase the number of iterations. Duality gap: 5892.491065269311, tolerance: 20.40569770099715\n",
            "  model = cd_fast.enet_coordinate_descent_gram(\n",
            "/Users/zionn/opt/anaconda3/envs/myenv/lib/python3.8/site-packages/sklearn/linear_model/_coordinate_descent.py:631: ConvergenceWarning: Objective did not converge. You might want to increase the number of iterations. Duality gap: 5892.440668377816, tolerance: 20.428318588116326\n",
            "  model = cd_fast.enet_coordinate_descent_gram(\n",
            "/Users/zionn/opt/anaconda3/envs/myenv/lib/python3.8/site-packages/sklearn/linear_model/_coordinate_descent.py:631: ConvergenceWarning: Objective did not converge. You might want to increase the number of iterations. Duality gap: 5904.433995580759, tolerance: 20.402061667649168\n",
            "  model = cd_fast.enet_coordinate_descent_gram(\n",
            "/Users/zionn/opt/anaconda3/envs/myenv/lib/python3.8/site-packages/sklearn/linear_model/_coordinate_descent.py:631: ConvergenceWarning: Objective did not converge. You might want to increase the number of iterations. Duality gap: 5911.932372464918, tolerance: 20.397458008011956\n",
            "  model = cd_fast.enet_coordinate_descent_gram(\n",
            "/Users/zionn/opt/anaconda3/envs/myenv/lib/python3.8/site-packages/sklearn/linear_model/_coordinate_descent.py:631: ConvergenceWarning: Objective did not converge. You might want to increase the number of iterations. Duality gap: 5945.105535176119, tolerance: 20.42275389779096\n",
            "  model = cd_fast.enet_coordinate_descent_gram(\n",
            "/Users/zionn/opt/anaconda3/envs/myenv/lib/python3.8/site-packages/sklearn/linear_model/_coordinate_descent.py:631: ConvergenceWarning: Objective did not converge. You might want to increase the number of iterations. Duality gap: 5892.491065269287, tolerance: 20.40569770099715\n",
            "  model = cd_fast.enet_coordinate_descent_gram(\n",
            "/Users/zionn/opt/anaconda3/envs/myenv/lib/python3.8/site-packages/sklearn/linear_model/_coordinate_descent.py:631: ConvergenceWarning: Objective did not converge. You might want to increase the number of iterations. Duality gap: 5911.932372464904, tolerance: 20.397458008011956\n",
            "  model = cd_fast.enet_coordinate_descent_gram(\n",
            "/Users/zionn/opt/anaconda3/envs/myenv/lib/python3.8/site-packages/sklearn/linear_model/_coordinate_descent.py:631: ConvergenceWarning: Objective did not converge. You might want to increase the number of iterations. Duality gap: 5892.440668377818, tolerance: 20.428318588116326\n",
            "  model = cd_fast.enet_coordinate_descent_gram(\n",
            "/Users/zionn/opt/anaconda3/envs/myenv/lib/python3.8/site-packages/sklearn/linear_model/_coordinate_descent.py:631: ConvergenceWarning: Objective did not converge. You might want to increase the number of iterations. Duality gap: 5904.4339955808155, tolerance: 20.402061667649168\n",
            "  model = cd_fast.enet_coordinate_descent_gram(\n",
            "/Users/zionn/opt/anaconda3/envs/myenv/lib/python3.8/site-packages/sklearn/linear_model/_coordinate_descent.py:631: ConvergenceWarning: Objective did not converge. You might want to increase the number of iterations. Duality gap: 5945.105535176117, tolerance: 20.42275389779096\n",
            "  model = cd_fast.enet_coordinate_descent_gram(\n",
            "/Users/zionn/opt/anaconda3/envs/myenv/lib/python3.8/site-packages/sklearn/linear_model/_coordinate_descent.py:631: ConvergenceWarning: Objective did not converge. You might want to increase the number of iterations. Duality gap: 5892.4910652693525, tolerance: 20.40569770099715\n",
            "  model = cd_fast.enet_coordinate_descent_gram(\n",
            "/Users/zionn/opt/anaconda3/envs/myenv/lib/python3.8/site-packages/sklearn/linear_model/_coordinate_descent.py:631: ConvergenceWarning: Objective did not converge. You might want to increase the number of iterations. Duality gap: 5892.440668377796, tolerance: 20.428318588116326\n",
            "  model = cd_fast.enet_coordinate_descent_gram(\n",
            "/Users/zionn/opt/anaconda3/envs/myenv/lib/python3.8/site-packages/sklearn/linear_model/_coordinate_descent.py:631: ConvergenceWarning: Objective did not converge. You might want to increase the number of iterations. Duality gap: 5911.932372464922, tolerance: 20.397458008011956\n",
            "  model = cd_fast.enet_coordinate_descent_gram(\n",
            "/Users/zionn/opt/anaconda3/envs/myenv/lib/python3.8/site-packages/sklearn/linear_model/_coordinate_descent.py:631: ConvergenceWarning: Objective did not converge. You might want to increase the number of iterations. Duality gap: 5904.43399558075, tolerance: 20.402061667649168\n",
            "  model = cd_fast.enet_coordinate_descent_gram(\n",
            "/Users/zionn/opt/anaconda3/envs/myenv/lib/python3.8/site-packages/sklearn/linear_model/_coordinate_descent.py:631: ConvergenceWarning: Objective did not converge. You might want to increase the number of iterations. Duality gap: 5945.105535176093, tolerance: 20.42275389779096\n",
            "  model = cd_fast.enet_coordinate_descent_gram(\n",
            "/Users/zionn/opt/anaconda3/envs/myenv/lib/python3.8/site-packages/sklearn/linear_model/_coordinate_descent.py:631: ConvergenceWarning: Objective did not converge. You might want to increase the number of iterations. Duality gap: 5892.4910652693, tolerance: 20.40569770099715\n",
            "  model = cd_fast.enet_coordinate_descent_gram(\n",
            "/Users/zionn/opt/anaconda3/envs/myenv/lib/python3.8/site-packages/sklearn/linear_model/_coordinate_descent.py:631: ConvergenceWarning: Objective did not converge. You might want to increase the number of iterations. Duality gap: 5892.440668377802, tolerance: 20.428318588116326\n",
            "  model = cd_fast.enet_coordinate_descent_gram(\n",
            "/Users/zionn/opt/anaconda3/envs/myenv/lib/python3.8/site-packages/sklearn/linear_model/_coordinate_descent.py:631: ConvergenceWarning: Objective did not converge. You might want to increase the number of iterations. Duality gap: 5911.932372464909, tolerance: 20.397458008011956\n",
            "  model = cd_fast.enet_coordinate_descent_gram(\n",
            "/Users/zionn/opt/anaconda3/envs/myenv/lib/python3.8/site-packages/sklearn/linear_model/_coordinate_descent.py:631: ConvergenceWarning: Objective did not converge. You might want to increase the number of iterations. Duality gap: 5904.43399558075, tolerance: 20.402061667649168\n",
            "  model = cd_fast.enet_coordinate_descent_gram(\n",
            "/Users/zionn/opt/anaconda3/envs/myenv/lib/python3.8/site-packages/sklearn/linear_model/_coordinate_descent.py:631: ConvergenceWarning: Objective did not converge. You might want to increase the number of iterations. Duality gap: 5945.105535176082, tolerance: 20.42275389779096\n",
            "  model = cd_fast.enet_coordinate_descent_gram(\n",
            "/Users/zionn/opt/anaconda3/envs/myenv/lib/python3.8/site-packages/sklearn/linear_model/_coordinate_descent.py:631: ConvergenceWarning: Objective did not converge. You might want to increase the number of iterations. Duality gap: 5892.491065269291, tolerance: 20.40569770099715\n",
            "  model = cd_fast.enet_coordinate_descent_gram(\n",
            "/Users/zionn/opt/anaconda3/envs/myenv/lib/python3.8/site-packages/sklearn/linear_model/_coordinate_descent.py:631: ConvergenceWarning: Objective did not converge. You might want to increase the number of iterations. Duality gap: 5892.440668377834, tolerance: 20.428318588116326\n",
            "  model = cd_fast.enet_coordinate_descent_gram(\n",
            "/Users/zionn/opt/anaconda3/envs/myenv/lib/python3.8/site-packages/sklearn/linear_model/_coordinate_descent.py:631: ConvergenceWarning: Objective did not converge. You might want to increase the number of iterations. Duality gap: 5911.932372464895, tolerance: 20.397458008011956\n",
            "  model = cd_fast.enet_coordinate_descent_gram(\n",
            "/Users/zionn/opt/anaconda3/envs/myenv/lib/python3.8/site-packages/sklearn/linear_model/_coordinate_descent.py:631: ConvergenceWarning: Objective did not converge. You might want to increase the number of iterations. Duality gap: 5945.1055351761515, tolerance: 20.42275389779096\n",
            "  model = cd_fast.enet_coordinate_descent_gram(\n",
            "/Users/zionn/opt/anaconda3/envs/myenv/lib/python3.8/site-packages/sklearn/linear_model/_coordinate_descent.py:631: ConvergenceWarning: Objective did not converge. You might want to increase the number of iterations. Duality gap: 5904.433995580757, tolerance: 20.402061667649168\n",
            "  model = cd_fast.enet_coordinate_descent_gram(\n",
            "/Users/zionn/opt/anaconda3/envs/myenv/lib/python3.8/site-packages/sklearn/linear_model/_coordinate_descent.py:631: ConvergenceWarning: Objective did not converge. You might want to increase the number of iterations. Duality gap: 5892.491065269225, tolerance: 20.40569770099715\n",
            "  model = cd_fast.enet_coordinate_descent_gram(\n",
            "/Users/zionn/opt/anaconda3/envs/myenv/lib/python3.8/site-packages/sklearn/linear_model/_coordinate_descent.py:631: ConvergenceWarning: Objective did not converge. You might want to increase the number of iterations. Duality gap: 5892.440668377827, tolerance: 20.428318588116326\n",
            "  model = cd_fast.enet_coordinate_descent_gram(\n",
            "/Users/zionn/opt/anaconda3/envs/myenv/lib/python3.8/site-packages/sklearn/linear_model/_coordinate_descent.py:631: ConvergenceWarning: Objective did not converge. You might want to increase the number of iterations. Duality gap: 5911.932372464902, tolerance: 20.397458008011956\n",
            "  model = cd_fast.enet_coordinate_descent_gram(\n",
            "/Users/zionn/opt/anaconda3/envs/myenv/lib/python3.8/site-packages/sklearn/linear_model/_coordinate_descent.py:631: ConvergenceWarning: Objective did not converge. You might want to increase the number of iterations. Duality gap: 5945.105535176106, tolerance: 20.42275389779096\n",
            "  model = cd_fast.enet_coordinate_descent_gram(\n",
            "/Users/zionn/opt/anaconda3/envs/myenv/lib/python3.8/site-packages/sklearn/linear_model/_coordinate_descent.py:631: ConvergenceWarning: Objective did not converge. You might want to increase the number of iterations. Duality gap: 5904.43399558075, tolerance: 20.402061667649168\n",
            "  model = cd_fast.enet_coordinate_descent_gram(\n",
            "/Users/zionn/opt/anaconda3/envs/myenv/lib/python3.8/site-packages/sklearn/linear_model/_coordinate_descent.py:631: ConvergenceWarning: Objective did not converge. You might want to increase the number of iterations. Duality gap: 5892.440668377809, tolerance: 20.428318588116326\n",
            "  model = cd_fast.enet_coordinate_descent_gram(\n",
            "/Users/zionn/opt/anaconda3/envs/myenv/lib/python3.8/site-packages/sklearn/linear_model/_coordinate_descent.py:631: ConvergenceWarning: Objective did not converge. You might want to increase the number of iterations. Duality gap: 5892.491065269322, tolerance: 20.40569770099715\n",
            "  model = cd_fast.enet_coordinate_descent_gram(\n",
            "/Users/zionn/opt/anaconda3/envs/myenv/lib/python3.8/site-packages/sklearn/linear_model/_coordinate_descent.py:631: ConvergenceWarning: Objective did not converge. You might want to increase the number of iterations. Duality gap: 5911.932372464909, tolerance: 20.397458008011956\n",
            "  model = cd_fast.enet_coordinate_descent_gram(\n",
            "/Users/zionn/opt/anaconda3/envs/myenv/lib/python3.8/site-packages/sklearn/linear_model/_coordinate_descent.py:631: ConvergenceWarning: Objective did not converge. You might want to increase the number of iterations. Duality gap: 5945.1055351761515, tolerance: 20.42275389779096\n",
            "  model = cd_fast.enet_coordinate_descent_gram(\n",
            "/Users/zionn/opt/anaconda3/envs/myenv/lib/python3.8/site-packages/sklearn/linear_model/_coordinate_descent.py:631: ConvergenceWarning: Objective did not converge. You might want to increase the number of iterations. Duality gap: 5904.433995580763, tolerance: 20.402061667649168\n",
            "  model = cd_fast.enet_coordinate_descent_gram(\n",
            "/Users/zionn/opt/anaconda3/envs/myenv/lib/python3.8/site-packages/sklearn/linear_model/_coordinate_descent.py:631: ConvergenceWarning: Objective did not converge. You might want to increase the number of iterations. Duality gap: 5892.440668377809, tolerance: 20.428318588116326\n",
            "  model = cd_fast.enet_coordinate_descent_gram(\n",
            "/Users/zionn/opt/anaconda3/envs/myenv/lib/python3.8/site-packages/sklearn/linear_model/_coordinate_descent.py:631: ConvergenceWarning: Objective did not converge. You might want to increase the number of iterations. Duality gap: 5892.491065269356, tolerance: 20.40569770099715\n",
            "  model = cd_fast.enet_coordinate_descent_gram(\n",
            "/Users/zionn/opt/anaconda3/envs/myenv/lib/python3.8/site-packages/sklearn/linear_model/_coordinate_descent.py:631: ConvergenceWarning: Objective did not converge. You might want to increase the number of iterations. Duality gap: 5911.932372464906, tolerance: 20.397458008011956\n",
            "  model = cd_fast.enet_coordinate_descent_gram(\n",
            "/Users/zionn/opt/anaconda3/envs/myenv/lib/python3.8/site-packages/sklearn/linear_model/_coordinate_descent.py:631: ConvergenceWarning: Objective did not converge. You might want to increase the number of iterations. Duality gap: 5945.105535176101, tolerance: 20.42275389779096\n",
            "  model = cd_fast.enet_coordinate_descent_gram(\n",
            "/Users/zionn/opt/anaconda3/envs/myenv/lib/python3.8/site-packages/sklearn/linear_model/_coordinate_descent.py:631: ConvergenceWarning: Objective did not converge. You might want to increase the number of iterations. Duality gap: 5904.433995580779, tolerance: 20.402061667649168\n",
            "  model = cd_fast.enet_coordinate_descent_gram(\n"
          ]
        },
        {
          "name": "stderr",
          "output_type": "stream",
          "text": [
            "/Users/zionn/opt/anaconda3/envs/myenv/lib/python3.8/site-packages/sklearn/linear_model/_coordinate_descent.py:631: ConvergenceWarning: Objective did not converge. You might want to increase the number of iterations. Duality gap: 5892.491065269298, tolerance: 20.40569770099715\n",
            "  model = cd_fast.enet_coordinate_descent_gram(\n",
            "/Users/zionn/opt/anaconda3/envs/myenv/lib/python3.8/site-packages/sklearn/linear_model/_coordinate_descent.py:631: ConvergenceWarning: Objective did not converge. You might want to increase the number of iterations. Duality gap: 5911.932372464902, tolerance: 20.397458008011956\n",
            "  model = cd_fast.enet_coordinate_descent_gram(\n",
            "/Users/zionn/opt/anaconda3/envs/myenv/lib/python3.8/site-packages/sklearn/linear_model/_coordinate_descent.py:631: ConvergenceWarning: Objective did not converge. You might want to increase the number of iterations. Duality gap: 5892.440668377843, tolerance: 20.428318588116326\n",
            "  model = cd_fast.enet_coordinate_descent_gram(\n",
            "/Users/zionn/opt/anaconda3/envs/myenv/lib/python3.8/site-packages/sklearn/linear_model/_coordinate_descent.py:631: ConvergenceWarning: Objective did not converge. You might want to increase the number of iterations. Duality gap: 5945.10553517609, tolerance: 20.42275389779096\n",
            "  model = cd_fast.enet_coordinate_descent_gram(\n",
            "/Users/zionn/opt/anaconda3/envs/myenv/lib/python3.8/site-packages/sklearn/linear_model/_coordinate_descent.py:631: ConvergenceWarning: Objective did not converge. You might want to increase the number of iterations. Duality gap: 5904.433995580746, tolerance: 20.402061667649168\n",
            "  model = cd_fast.enet_coordinate_descent_gram(\n",
            "/Users/zionn/opt/anaconda3/envs/myenv/lib/python3.8/site-packages/sklearn/linear_model/_coordinate_descent.py:631: ConvergenceWarning: Objective did not converge. You might want to increase the number of iterations. Duality gap: 5892.4406683778125, tolerance: 20.428318588116326\n",
            "  model = cd_fast.enet_coordinate_descent_gram(\n",
            "/Users/zionn/opt/anaconda3/envs/myenv/lib/python3.8/site-packages/sklearn/linear_model/_coordinate_descent.py:631: ConvergenceWarning: Objective did not converge. You might want to increase the number of iterations. Duality gap: 5892.4910652693015, tolerance: 20.40569770099715\n",
            "  model = cd_fast.enet_coordinate_descent_gram(\n",
            "/Users/zionn/opt/anaconda3/envs/myenv/lib/python3.8/site-packages/sklearn/linear_model/_coordinate_descent.py:631: ConvergenceWarning: Objective did not converge. You might want to increase the number of iterations. Duality gap: 5911.932372464909, tolerance: 20.397458008011956\n",
            "  model = cd_fast.enet_coordinate_descent_gram(\n",
            "/Users/zionn/opt/anaconda3/envs/myenv/lib/python3.8/site-packages/sklearn/linear_model/_coordinate_descent.py:631: ConvergenceWarning: Objective did not converge. You might want to increase the number of iterations. Duality gap: 5945.105535176133, tolerance: 20.42275389779096\n",
            "  model = cd_fast.enet_coordinate_descent_gram(\n",
            "/Users/zionn/opt/anaconda3/envs/myenv/lib/python3.8/site-packages/sklearn/linear_model/_coordinate_descent.py:631: ConvergenceWarning: Objective did not converge. You might want to increase the number of iterations. Duality gap: 5904.433995580834, tolerance: 20.402061667649168\n",
            "  model = cd_fast.enet_coordinate_descent_gram(\n",
            "/Users/zionn/opt/anaconda3/envs/myenv/lib/python3.8/site-packages/sklearn/linear_model/_coordinate_descent.py:631: ConvergenceWarning: Objective did not converge. You might want to increase the number of iterations. Duality gap: 5892.440668377809, tolerance: 20.428318588116326\n",
            "  model = cd_fast.enet_coordinate_descent_gram(\n",
            "/Users/zionn/opt/anaconda3/envs/myenv/lib/python3.8/site-packages/sklearn/linear_model/_coordinate_descent.py:631: ConvergenceWarning: Objective did not converge. You might want to increase the number of iterations. Duality gap: 5892.491065269287, tolerance: 20.40569770099715\n",
            "  model = cd_fast.enet_coordinate_descent_gram(\n",
            "/Users/zionn/opt/anaconda3/envs/myenv/lib/python3.8/site-packages/sklearn/linear_model/_coordinate_descent.py:631: ConvergenceWarning: Objective did not converge. You might want to increase the number of iterations. Duality gap: 5911.9323724649075, tolerance: 20.397458008011956\n",
            "  model = cd_fast.enet_coordinate_descent_gram(\n",
            "/Users/zionn/opt/anaconda3/envs/myenv/lib/python3.8/site-packages/sklearn/linear_model/_coordinate_descent.py:631: ConvergenceWarning: Objective did not converge. You might want to increase the number of iterations. Duality gap: 5945.105535176137, tolerance: 20.42275389779096\n",
            "  model = cd_fast.enet_coordinate_descent_gram(\n",
            "/Users/zionn/opt/anaconda3/envs/myenv/lib/python3.8/site-packages/sklearn/linear_model/_coordinate_descent.py:631: ConvergenceWarning: Objective did not converge. You might want to increase the number of iterations. Duality gap: 5904.433995580735, tolerance: 20.402061667649168\n",
            "  model = cd_fast.enet_coordinate_descent_gram(\n",
            "/Users/zionn/opt/anaconda3/envs/myenv/lib/python3.8/site-packages/sklearn/linear_model/_coordinate_descent.py:631: ConvergenceWarning: Objective did not converge. You might want to increase the number of iterations. Duality gap: 5892.440668377838, tolerance: 20.428318588116326\n",
            "  model = cd_fast.enet_coordinate_descent_gram(\n",
            "/Users/zionn/opt/anaconda3/envs/myenv/lib/python3.8/site-packages/sklearn/linear_model/_coordinate_descent.py:631: ConvergenceWarning: Objective did not converge. You might want to increase the number of iterations. Duality gap: 5892.491065269351, tolerance: 20.40569770099715\n",
            "  model = cd_fast.enet_coordinate_descent_gram(\n",
            "/Users/zionn/opt/anaconda3/envs/myenv/lib/python3.8/site-packages/sklearn/linear_model/_coordinate_descent.py:631: ConvergenceWarning: Objective did not converge. You might want to increase the number of iterations. Duality gap: 5911.932372464915, tolerance: 20.397458008011956\n",
            "  model = cd_fast.enet_coordinate_descent_gram(\n",
            "/Users/zionn/opt/anaconda3/envs/myenv/lib/python3.8/site-packages/sklearn/linear_model/_coordinate_descent.py:631: ConvergenceWarning: Objective did not converge. You might want to increase the number of iterations. Duality gap: 5945.105535176184, tolerance: 20.42275389779096\n",
            "  model = cd_fast.enet_coordinate_descent_gram(\n",
            "/Users/zionn/opt/anaconda3/envs/myenv/lib/python3.8/site-packages/sklearn/linear_model/_coordinate_descent.py:631: ConvergenceWarning: Objective did not converge. You might want to increase the number of iterations. Duality gap: 5904.433995580754, tolerance: 20.402061667649168\n",
            "  model = cd_fast.enet_coordinate_descent_gram(\n",
            "/Users/zionn/opt/anaconda3/envs/myenv/lib/python3.8/site-packages/sklearn/linear_model/_coordinate_descent.py:631: ConvergenceWarning: Objective did not converge. You might want to increase the number of iterations. Duality gap: 5892.4406683777925, tolerance: 20.428318588116326\n",
            "  model = cd_fast.enet_coordinate_descent_gram(\n",
            "/Users/zionn/opt/anaconda3/envs/myenv/lib/python3.8/site-packages/sklearn/linear_model/_coordinate_descent.py:631: ConvergenceWarning: Objective did not converge. You might want to increase the number of iterations. Duality gap: 5892.49106526932, tolerance: 20.40569770099715\n",
            "  model = cd_fast.enet_coordinate_descent_gram(\n",
            "/Users/zionn/opt/anaconda3/envs/myenv/lib/python3.8/site-packages/sklearn/linear_model/_coordinate_descent.py:631: ConvergenceWarning: Objective did not converge. You might want to increase the number of iterations. Duality gap: 5911.932372464906, tolerance: 20.397458008011956\n",
            "  model = cd_fast.enet_coordinate_descent_gram(\n",
            "/Users/zionn/opt/anaconda3/envs/myenv/lib/python3.8/site-packages/sklearn/linear_model/_coordinate_descent.py:631: ConvergenceWarning: Objective did not converge. You might want to increase the number of iterations. Duality gap: 5945.105535176204, tolerance: 20.42275389779096\n",
            "  model = cd_fast.enet_coordinate_descent_gram(\n",
            "/Users/zionn/opt/anaconda3/envs/myenv/lib/python3.8/site-packages/sklearn/linear_model/_coordinate_descent.py:631: ConvergenceWarning: Objective did not converge. You might want to increase the number of iterations. Duality gap: 5892.440668377807, tolerance: 20.428318588116326\n",
            "  model = cd_fast.enet_coordinate_descent_gram(\n",
            "/Users/zionn/opt/anaconda3/envs/myenv/lib/python3.8/site-packages/sklearn/linear_model/_coordinate_descent.py:631: ConvergenceWarning: Objective did not converge. You might want to increase the number of iterations. Duality gap: 5904.433995580763, tolerance: 20.402061667649168\n",
            "  model = cd_fast.enet_coordinate_descent_gram(\n",
            "/Users/zionn/opt/anaconda3/envs/myenv/lib/python3.8/site-packages/sklearn/linear_model/_coordinate_descent.py:631: ConvergenceWarning: Objective did not converge. You might want to increase the number of iterations. Duality gap: 5911.9323724649275, tolerance: 20.397458008011956\n",
            "  model = cd_fast.enet_coordinate_descent_gram(\n",
            "/Users/zionn/opt/anaconda3/envs/myenv/lib/python3.8/site-packages/sklearn/linear_model/_coordinate_descent.py:631: ConvergenceWarning: Objective did not converge. You might want to increase the number of iterations. Duality gap: 5892.491065269276, tolerance: 20.40569770099715\n",
            "  model = cd_fast.enet_coordinate_descent_gram(\n",
            "/Users/zionn/opt/anaconda3/envs/myenv/lib/python3.8/site-packages/sklearn/linear_model/_coordinate_descent.py:631: ConvergenceWarning: Objective did not converge. You might want to increase the number of iterations. Duality gap: 5945.10553517613, tolerance: 20.42275389779096\n",
            "  model = cd_fast.enet_coordinate_descent_gram(\n",
            "/Users/zionn/opt/anaconda3/envs/myenv/lib/python3.8/site-packages/sklearn/linear_model/_coordinate_descent.py:631: ConvergenceWarning: Objective did not converge. You might want to increase the number of iterations. Duality gap: 5892.440668377803, tolerance: 20.428318588116326\n",
            "  model = cd_fast.enet_coordinate_descent_gram(\n",
            "/Users/zionn/opt/anaconda3/envs/myenv/lib/python3.8/site-packages/sklearn/linear_model/_coordinate_descent.py:631: ConvergenceWarning: Objective did not converge. You might want to increase the number of iterations. Duality gap: 5904.433995580817, tolerance: 20.402061667649168\n",
            "  model = cd_fast.enet_coordinate_descent_gram(\n",
            "/Users/zionn/opt/anaconda3/envs/myenv/lib/python3.8/site-packages/sklearn/linear_model/_coordinate_descent.py:631: ConvergenceWarning: Objective did not converge. You might want to increase the number of iterations. Duality gap: 5892.491065269351, tolerance: 20.40569770099715\n",
            "  model = cd_fast.enet_coordinate_descent_gram(\n",
            "/Users/zionn/opt/anaconda3/envs/myenv/lib/python3.8/site-packages/sklearn/linear_model/_coordinate_descent.py:631: ConvergenceWarning: Objective did not converge. You might want to increase the number of iterations. Duality gap: 5911.932372464906, tolerance: 20.397458008011956\n",
            "  model = cd_fast.enet_coordinate_descent_gram(\n",
            "/Users/zionn/opt/anaconda3/envs/myenv/lib/python3.8/site-packages/sklearn/linear_model/_coordinate_descent.py:631: ConvergenceWarning: Objective did not converge. You might want to increase the number of iterations. Duality gap: 5945.105535176193, tolerance: 20.42275389779096\n",
            "  model = cd_fast.enet_coordinate_descent_gram(\n",
            "/Users/zionn/opt/anaconda3/envs/myenv/lib/python3.8/site-packages/sklearn/linear_model/_coordinate_descent.py:631: ConvergenceWarning: Objective did not converge. You might want to increase the number of iterations. Duality gap: 5892.440668377805, tolerance: 20.428318588116326\n",
            "  model = cd_fast.enet_coordinate_descent_gram(\n",
            "/Users/zionn/opt/anaconda3/envs/myenv/lib/python3.8/site-packages/sklearn/linear_model/_coordinate_descent.py:631: ConvergenceWarning: Objective did not converge. You might want to increase the number of iterations. Duality gap: 5904.43399558079, tolerance: 20.402061667649168\n",
            "  model = cd_fast.enet_coordinate_descent_gram(\n",
            "/Users/zionn/opt/anaconda3/envs/myenv/lib/python3.8/site-packages/sklearn/linear_model/_coordinate_descent.py:631: ConvergenceWarning: Objective did not converge. You might want to increase the number of iterations. Duality gap: 5892.491065269274, tolerance: 20.40569770099715\n",
            "  model = cd_fast.enet_coordinate_descent_gram(\n",
            "/Users/zionn/opt/anaconda3/envs/myenv/lib/python3.8/site-packages/sklearn/linear_model/_coordinate_descent.py:631: ConvergenceWarning: Objective did not converge. You might want to increase the number of iterations. Duality gap: 5911.932372464906, tolerance: 20.397458008011956\n",
            "  model = cd_fast.enet_coordinate_descent_gram(\n",
            "/Users/zionn/opt/anaconda3/envs/myenv/lib/python3.8/site-packages/sklearn/linear_model/_coordinate_descent.py:631: ConvergenceWarning: Objective did not converge. You might want to increase the number of iterations. Duality gap: 5945.105535176121, tolerance: 20.42275389779096\n",
            "  model = cd_fast.enet_coordinate_descent_gram(\n",
            "/Users/zionn/opt/anaconda3/envs/myenv/lib/python3.8/site-packages/sklearn/linear_model/_coordinate_descent.py:631: ConvergenceWarning: Objective did not converge. You might want to increase the number of iterations. Duality gap: 5892.440668377827, tolerance: 20.428318588116326\n",
            "  model = cd_fast.enet_coordinate_descent_gram(\n",
            "/Users/zionn/opt/anaconda3/envs/myenv/lib/python3.8/site-packages/sklearn/linear_model/_coordinate_descent.py:631: ConvergenceWarning: Objective did not converge. You might want to increase the number of iterations. Duality gap: 5904.433995580797, tolerance: 20.402061667649168\n",
            "  model = cd_fast.enet_coordinate_descent_gram(\n",
            "/Users/zionn/opt/anaconda3/envs/myenv/lib/python3.8/site-packages/sklearn/linear_model/_coordinate_descent.py:631: ConvergenceWarning: Objective did not converge. You might want to increase the number of iterations. Duality gap: 5892.491065269303, tolerance: 20.40569770099715\n",
            "  model = cd_fast.enet_coordinate_descent_gram(\n",
            "/Users/zionn/opt/anaconda3/envs/myenv/lib/python3.8/site-packages/sklearn/linear_model/_coordinate_descent.py:631: ConvergenceWarning: Objective did not converge. You might want to increase the number of iterations. Duality gap: 5911.9323724649275, tolerance: 20.397458008011956\n",
            "  model = cd_fast.enet_coordinate_descent_gram(\n",
            "/Users/zionn/opt/anaconda3/envs/myenv/lib/python3.8/site-packages/sklearn/linear_model/_coordinate_descent.py:631: ConvergenceWarning: Objective did not converge. You might want to increase the number of iterations. Duality gap: 5945.105535176121, tolerance: 20.42275389779096\n",
            "  model = cd_fast.enet_coordinate_descent_gram(\n",
            "/Users/zionn/opt/anaconda3/envs/myenv/lib/python3.8/site-packages/sklearn/linear_model/_coordinate_descent.py:631: ConvergenceWarning: Objective did not converge. You might want to increase the number of iterations. Duality gap: 5892.440668377816, tolerance: 20.428318588116326\n",
            "  model = cd_fast.enet_coordinate_descent_gram(\n",
            "/Users/zionn/opt/anaconda3/envs/myenv/lib/python3.8/site-packages/sklearn/linear_model/_coordinate_descent.py:631: ConvergenceWarning: Objective did not converge. You might want to increase the number of iterations. Duality gap: 5904.433995580754, tolerance: 20.402061667649168\n",
            "  model = cd_fast.enet_coordinate_descent_gram(\n",
            "/Users/zionn/opt/anaconda3/envs/myenv/lib/python3.8/site-packages/sklearn/linear_model/_coordinate_descent.py:631: ConvergenceWarning: Objective did not converge. You might want to increase the number of iterations. Duality gap: 5892.491065269278, tolerance: 20.40569770099715\n",
            "  model = cd_fast.enet_coordinate_descent_gram(\n",
            "/Users/zionn/opt/anaconda3/envs/myenv/lib/python3.8/site-packages/sklearn/linear_model/_coordinate_descent.py:631: ConvergenceWarning: Objective did not converge. You might want to increase the number of iterations. Duality gap: 5911.932372464898, tolerance: 20.397458008011956\n",
            "  model = cd_fast.enet_coordinate_descent_gram(\n",
            "/Users/zionn/opt/anaconda3/envs/myenv/lib/python3.8/site-packages/sklearn/linear_model/_coordinate_descent.py:631: ConvergenceWarning: Objective did not converge. You might want to increase the number of iterations. Duality gap: 5945.105535176119, tolerance: 20.42275389779096\n",
            "  model = cd_fast.enet_coordinate_descent_gram(\n",
            "/Users/zionn/opt/anaconda3/envs/myenv/lib/python3.8/site-packages/sklearn/linear_model/_coordinate_descent.py:631: ConvergenceWarning: Objective did not converge. You might want to increase the number of iterations. Duality gap: 5892.440668377798, tolerance: 20.428318588116326\n",
            "  model = cd_fast.enet_coordinate_descent_gram(\n",
            "/Users/zionn/opt/anaconda3/envs/myenv/lib/python3.8/site-packages/sklearn/linear_model/_coordinate_descent.py:631: ConvergenceWarning: Objective did not converge. You might want to increase the number of iterations. Duality gap: 5904.43399558079, tolerance: 20.402061667649168\n",
            "  model = cd_fast.enet_coordinate_descent_gram(\n",
            "/Users/zionn/opt/anaconda3/envs/myenv/lib/python3.8/site-packages/sklearn/linear_model/_coordinate_descent.py:631: ConvergenceWarning: Objective did not converge. You might want to increase the number of iterations. Duality gap: 5892.49106526932, tolerance: 20.40569770099715\n",
            "  model = cd_fast.enet_coordinate_descent_gram(\n",
            "/Users/zionn/opt/anaconda3/envs/myenv/lib/python3.8/site-packages/sklearn/linear_model/_coordinate_descent.py:631: ConvergenceWarning: Objective did not converge. You might want to increase the number of iterations. Duality gap: 5911.932372464904, tolerance: 20.397458008011956\n",
            "  model = cd_fast.enet_coordinate_descent_gram(\n",
            "/Users/zionn/opt/anaconda3/envs/myenv/lib/python3.8/site-packages/sklearn/linear_model/_coordinate_descent.py:631: ConvergenceWarning: Objective did not converge. You might want to increase the number of iterations. Duality gap: 5945.105535176108, tolerance: 20.42275389779096\n",
            "  model = cd_fast.enet_coordinate_descent_gram(\n",
            "/Users/zionn/opt/anaconda3/envs/myenv/lib/python3.8/site-packages/sklearn/linear_model/_coordinate_descent.py:631: ConvergenceWarning: Objective did not converge. You might want to increase the number of iterations. Duality gap: 5892.440668377845, tolerance: 20.428318588116326\n",
            "  model = cd_fast.enet_coordinate_descent_gram(\n",
            "/Users/zionn/opt/anaconda3/envs/myenv/lib/python3.8/site-packages/sklearn/linear_model/_coordinate_descent.py:631: ConvergenceWarning: Objective did not converge. You might want to increase the number of iterations. Duality gap: 5904.4339955807445, tolerance: 20.402061667649168\n",
            "  model = cd_fast.enet_coordinate_descent_gram(\n",
            "/Users/zionn/opt/anaconda3/envs/myenv/lib/python3.8/site-packages/sklearn/linear_model/_coordinate_descent.py:631: ConvergenceWarning: Objective did not converge. You might want to increase the number of iterations. Duality gap: 5892.4910652693015, tolerance: 20.40569770099715\n",
            "  model = cd_fast.enet_coordinate_descent_gram(\n",
            "/Users/zionn/opt/anaconda3/envs/myenv/lib/python3.8/site-packages/sklearn/linear_model/_coordinate_descent.py:631: ConvergenceWarning: Objective did not converge. You might want to increase the number of iterations. Duality gap: 5911.932372464909, tolerance: 20.397458008011956\n",
            "  model = cd_fast.enet_coordinate_descent_gram(\n",
            "/Users/zionn/opt/anaconda3/envs/myenv/lib/python3.8/site-packages/sklearn/linear_model/_coordinate_descent.py:631: ConvergenceWarning: Objective did not converge. You might want to increase the number of iterations. Duality gap: 5945.10553517613, tolerance: 20.42275389779096\n",
            "  model = cd_fast.enet_coordinate_descent_gram(\n",
            "/Users/zionn/opt/anaconda3/envs/myenv/lib/python3.8/site-packages/sklearn/linear_model/_coordinate_descent.py:631: ConvergenceWarning: Objective did not converge. You might want to increase the number of iterations. Duality gap: 5892.440668377791, tolerance: 20.428318588116326\n",
            "  model = cd_fast.enet_coordinate_descent_gram(\n",
            "/Users/zionn/opt/anaconda3/envs/myenv/lib/python3.8/site-packages/sklearn/linear_model/_coordinate_descent.py:631: ConvergenceWarning: Objective did not converge. You might want to increase the number of iterations. Duality gap: 5892.491065269252, tolerance: 20.40569770099715\n",
            "  model = cd_fast.enet_coordinate_descent_gram(\n",
            "/Users/zionn/opt/anaconda3/envs/myenv/lib/python3.8/site-packages/sklearn/linear_model/_coordinate_descent.py:631: ConvergenceWarning: Objective did not converge. You might want to increase the number of iterations. Duality gap: 5904.433995580775, tolerance: 20.402061667649168\n",
            "  model = cd_fast.enet_coordinate_descent_gram(\n",
            "/Users/zionn/opt/anaconda3/envs/myenv/lib/python3.8/site-packages/sklearn/linear_model/_coordinate_descent.py:631: ConvergenceWarning: Objective did not converge. You might want to increase the number of iterations. Duality gap: 5911.9323724649075, tolerance: 20.397458008011956\n",
            "  model = cd_fast.enet_coordinate_descent_gram(\n",
            "/Users/zionn/opt/anaconda3/envs/myenv/lib/python3.8/site-packages/sklearn/linear_model/_coordinate_descent.py:631: ConvergenceWarning: Objective did not converge. You might want to increase the number of iterations. Duality gap: 5945.105535176075, tolerance: 20.42275389779096\n",
            "  model = cd_fast.enet_coordinate_descent_gram(\n",
            "/Users/zionn/opt/anaconda3/envs/myenv/lib/python3.8/site-packages/sklearn/linear_model/_coordinate_descent.py:631: ConvergenceWarning: Objective did not converge. You might want to increase the number of iterations. Duality gap: 5892.440668377816, tolerance: 20.428318588116326\n",
            "  model = cd_fast.enet_coordinate_descent_gram(\n",
            "/Users/zionn/opt/anaconda3/envs/myenv/lib/python3.8/site-packages/sklearn/linear_model/_coordinate_descent.py:631: ConvergenceWarning: Objective did not converge. You might want to increase the number of iterations. Duality gap: 5892.4910652693, tolerance: 20.40569770099715\n",
            "  model = cd_fast.enet_coordinate_descent_gram(\n",
            "/Users/zionn/opt/anaconda3/envs/myenv/lib/python3.8/site-packages/sklearn/linear_model/_coordinate_descent.py:631: ConvergenceWarning: Objective did not converge. You might want to increase the number of iterations. Duality gap: 5904.433995580799, tolerance: 20.402061667649168\n",
            "  model = cd_fast.enet_coordinate_descent_gram(\n",
            "/Users/zionn/opt/anaconda3/envs/myenv/lib/python3.8/site-packages/sklearn/linear_model/_coordinate_descent.py:631: ConvergenceWarning: Objective did not converge. You might want to increase the number of iterations. Duality gap: 5911.932372464909, tolerance: 20.397458008011956\n",
            "  model = cd_fast.enet_coordinate_descent_gram(\n",
            "/Users/zionn/opt/anaconda3/envs/myenv/lib/python3.8/site-packages/sklearn/linear_model/_coordinate_descent.py:631: ConvergenceWarning: Objective did not converge. You might want to increase the number of iterations. Duality gap: 5945.105535176095, tolerance: 20.42275389779096\n",
            "  model = cd_fast.enet_coordinate_descent_gram(\n",
            "/Users/zionn/opt/anaconda3/envs/myenv/lib/python3.8/site-packages/sklearn/linear_model/_coordinate_descent.py:631: ConvergenceWarning: Objective did not converge. You might want to increase the number of iterations. Duality gap: 5892.440668377831, tolerance: 20.428318588116326\n",
            "  model = cd_fast.enet_coordinate_descent_gram(\n",
            "/Users/zionn/opt/anaconda3/envs/myenv/lib/python3.8/site-packages/sklearn/linear_model/_coordinate_descent.py:631: ConvergenceWarning: Objective did not converge. You might want to increase the number of iterations. Duality gap: 5892.491065269307, tolerance: 20.40569770099715\n",
            "  model = cd_fast.enet_coordinate_descent_gram(\n",
            "/Users/zionn/opt/anaconda3/envs/myenv/lib/python3.8/site-packages/sklearn/linear_model/_coordinate_descent.py:631: ConvergenceWarning: Objective did not converge. You might want to increase the number of iterations. Duality gap: 5904.433995580757, tolerance: 20.402061667649168\n",
            "  model = cd_fast.enet_coordinate_descent_gram(\n",
            "/Users/zionn/opt/anaconda3/envs/myenv/lib/python3.8/site-packages/sklearn/linear_model/_coordinate_descent.py:631: ConvergenceWarning: Objective did not converge. You might want to increase the number of iterations. Duality gap: 5911.932372464915, tolerance: 20.397458008011956\n",
            "  model = cd_fast.enet_coordinate_descent_gram(\n",
            "/Users/zionn/opt/anaconda3/envs/myenv/lib/python3.8/site-packages/sklearn/linear_model/_coordinate_descent.py:631: ConvergenceWarning: Objective did not converge. You might want to increase the number of iterations. Duality gap: 5945.1055351761715, tolerance: 20.42275389779096\n",
            "  model = cd_fast.enet_coordinate_descent_gram(\n",
            "/Users/zionn/opt/anaconda3/envs/myenv/lib/python3.8/site-packages/sklearn/linear_model/_coordinate_descent.py:631: ConvergenceWarning: Objective did not converge. You might want to increase the number of iterations. Duality gap: 5892.440668377827, tolerance: 20.428318588116326\n",
            "  model = cd_fast.enet_coordinate_descent_gram(\n",
            "/Users/zionn/opt/anaconda3/envs/myenv/lib/python3.8/site-packages/sklearn/linear_model/_coordinate_descent.py:631: ConvergenceWarning: Objective did not converge. You might want to increase the number of iterations. Duality gap: 5892.49106526936, tolerance: 20.40569770099715\n",
            "  model = cd_fast.enet_coordinate_descent_gram(\n",
            "/Users/zionn/opt/anaconda3/envs/myenv/lib/python3.8/site-packages/sklearn/linear_model/_coordinate_descent.py:631: ConvergenceWarning: Objective did not converge. You might want to increase the number of iterations. Duality gap: 5904.433995580748, tolerance: 20.402061667649168\n",
            "  model = cd_fast.enet_coordinate_descent_gram(\n",
            "/Users/zionn/opt/anaconda3/envs/myenv/lib/python3.8/site-packages/sklearn/linear_model/_coordinate_descent.py:631: ConvergenceWarning: Objective did not converge. You might want to increase the number of iterations. Duality gap: 5911.932372464898, tolerance: 20.397458008011956\n",
            "  model = cd_fast.enet_coordinate_descent_gram(\n",
            "/Users/zionn/opt/anaconda3/envs/myenv/lib/python3.8/site-packages/sklearn/linear_model/_coordinate_descent.py:631: ConvergenceWarning: Objective did not converge. You might want to increase the number of iterations. Duality gap: 5892.440668377805, tolerance: 20.428318588116326\n",
            "  model = cd_fast.enet_coordinate_descent_gram(\n",
            "/Users/zionn/opt/anaconda3/envs/myenv/lib/python3.8/site-packages/sklearn/linear_model/_coordinate_descent.py:631: ConvergenceWarning: Objective did not converge. You might want to increase the number of iterations. Duality gap: 5945.105535176212, tolerance: 20.42275389779096\n",
            "  model = cd_fast.enet_coordinate_descent_gram(\n"
          ]
        },
        {
          "name": "stderr",
          "output_type": "stream",
          "text": [
            "/Users/zionn/opt/anaconda3/envs/myenv/lib/python3.8/site-packages/sklearn/linear_model/_coordinate_descent.py:631: ConvergenceWarning: Objective did not converge. You might want to increase the number of iterations. Duality gap: 5892.491065269283, tolerance: 20.40569770099715\n",
            "  model = cd_fast.enet_coordinate_descent_gram(\n",
            "/Users/zionn/opt/anaconda3/envs/myenv/lib/python3.8/site-packages/sklearn/linear_model/_coordinate_descent.py:631: ConvergenceWarning: Objective did not converge. You might want to increase the number of iterations. Duality gap: 5904.433995580761, tolerance: 20.402061667649168\n",
            "  model = cd_fast.enet_coordinate_descent_gram(\n",
            "/Users/zionn/opt/anaconda3/envs/myenv/lib/python3.8/site-packages/sklearn/linear_model/_coordinate_descent.py:631: ConvergenceWarning: Objective did not converge. You might want to increase the number of iterations. Duality gap: 5911.932372464931, tolerance: 20.397458008011956\n",
            "  model = cd_fast.enet_coordinate_descent_gram(\n",
            "/Users/zionn/opt/anaconda3/envs/myenv/lib/python3.8/site-packages/sklearn/linear_model/_coordinate_descent.py:631: ConvergenceWarning: Objective did not converge. You might want to increase the number of iterations. Duality gap: 5892.44066837786, tolerance: 20.428318588116326\n",
            "  model = cd_fast.enet_coordinate_descent_gram(\n",
            "/Users/zionn/opt/anaconda3/envs/myenv/lib/python3.8/site-packages/sklearn/linear_model/_coordinate_descent.py:631: ConvergenceWarning: Objective did not converge. You might want to increase the number of iterations. Duality gap: 5892.49106526932, tolerance: 20.40569770099715\n",
            "  model = cd_fast.enet_coordinate_descent_gram(\n",
            "/Users/zionn/opt/anaconda3/envs/myenv/lib/python3.8/site-packages/sklearn/linear_model/_coordinate_descent.py:631: ConvergenceWarning: Objective did not converge. You might want to increase the number of iterations. Duality gap: 5945.105535176044, tolerance: 20.42275389779096\n",
            "  model = cd_fast.enet_coordinate_descent_gram(\n",
            "/Users/zionn/opt/anaconda3/envs/myenv/lib/python3.8/site-packages/sklearn/linear_model/_coordinate_descent.py:631: ConvergenceWarning: Objective did not converge. You might want to increase the number of iterations. Duality gap: 5904.433995580761, tolerance: 20.402061667649168\n",
            "  model = cd_fast.enet_coordinate_descent_gram(\n",
            "/Users/zionn/opt/anaconda3/envs/myenv/lib/python3.8/site-packages/sklearn/linear_model/_coordinate_descent.py:631: ConvergenceWarning: Objective did not converge. You might want to increase the number of iterations. Duality gap: 5911.932372464917, tolerance: 20.397458008011956\n",
            "  model = cd_fast.enet_coordinate_descent_gram(\n",
            "/Users/zionn/opt/anaconda3/envs/myenv/lib/python3.8/site-packages/sklearn/linear_model/_coordinate_descent.py:631: ConvergenceWarning: Objective did not converge. You might want to increase the number of iterations. Duality gap: 5892.440668377845, tolerance: 20.428318588116326\n",
            "  model = cd_fast.enet_coordinate_descent_gram(\n",
            "/Users/zionn/opt/anaconda3/envs/myenv/lib/python3.8/site-packages/sklearn/linear_model/_coordinate_descent.py:631: ConvergenceWarning: Objective did not converge. You might want to increase the number of iterations. Duality gap: 5945.105535176108, tolerance: 20.42275389779096\n",
            "  model = cd_fast.enet_coordinate_descent_gram(\n",
            "/Users/zionn/opt/anaconda3/envs/myenv/lib/python3.8/site-packages/sklearn/linear_model/_coordinate_descent.py:631: ConvergenceWarning: Objective did not converge. You might want to increase the number of iterations. Duality gap: 5892.491065269276, tolerance: 20.40569770099715\n",
            "  model = cd_fast.enet_coordinate_descent_gram(\n",
            "/Users/zionn/opt/anaconda3/envs/myenv/lib/python3.8/site-packages/sklearn/linear_model/_coordinate_descent.py:631: ConvergenceWarning: Objective did not converge. You might want to increase the number of iterations. Duality gap: 5904.433995580779, tolerance: 20.402061667649168\n",
            "  model = cd_fast.enet_coordinate_descent_gram(\n",
            "/Users/zionn/opt/anaconda3/envs/myenv/lib/python3.8/site-packages/sklearn/linear_model/_coordinate_descent.py:631: ConvergenceWarning: Objective did not converge. You might want to increase the number of iterations. Duality gap: 5911.932372464909, tolerance: 20.397458008011956\n",
            "  model = cd_fast.enet_coordinate_descent_gram(\n",
            "/Users/zionn/opt/anaconda3/envs/myenv/lib/python3.8/site-packages/sklearn/linear_model/_coordinate_descent.py:631: ConvergenceWarning: Objective did not converge. You might want to increase the number of iterations. Duality gap: 5892.44066837784, tolerance: 20.428318588116326\n",
            "  model = cd_fast.enet_coordinate_descent_gram(\n",
            "/Users/zionn/opt/anaconda3/envs/myenv/lib/python3.8/site-packages/sklearn/linear_model/_coordinate_descent.py:631: ConvergenceWarning: Objective did not converge. You might want to increase the number of iterations. Duality gap: 5945.105535176126, tolerance: 20.42275389779096\n",
            "  model = cd_fast.enet_coordinate_descent_gram(\n",
            "/Users/zionn/opt/anaconda3/envs/myenv/lib/python3.8/site-packages/sklearn/linear_model/_coordinate_descent.py:631: ConvergenceWarning: Objective did not converge. You might want to increase the number of iterations. Duality gap: 5892.491065269322, tolerance: 20.40569770099715\n",
            "  model = cd_fast.enet_coordinate_descent_gram(\n",
            "/Users/zionn/opt/anaconda3/envs/myenv/lib/python3.8/site-packages/sklearn/linear_model/_coordinate_descent.py:631: ConvergenceWarning: Objective did not converge. You might want to increase the number of iterations. Duality gap: 5911.932372464913, tolerance: 20.397458008011956\n",
            "  model = cd_fast.enet_coordinate_descent_gram(\n",
            "/Users/zionn/opt/anaconda3/envs/myenv/lib/python3.8/site-packages/sklearn/linear_model/_coordinate_descent.py:631: ConvergenceWarning: Objective did not converge. You might want to increase the number of iterations. Duality gap: 5904.433995580766, tolerance: 20.402061667649168\n",
            "  model = cd_fast.enet_coordinate_descent_gram(\n",
            "/Users/zionn/opt/anaconda3/envs/myenv/lib/python3.8/site-packages/sklearn/linear_model/_coordinate_descent.py:631: ConvergenceWarning: Objective did not converge. You might want to increase the number of iterations. Duality gap: 5892.44066837776, tolerance: 20.428318588116326\n",
            "  model = cd_fast.enet_coordinate_descent_gram(\n",
            "/Users/zionn/opt/anaconda3/envs/myenv/lib/python3.8/site-packages/sklearn/linear_model/_coordinate_descent.py:631: ConvergenceWarning: Objective did not converge. You might want to increase the number of iterations. Duality gap: 5945.105535176144, tolerance: 20.42275389779096\n",
            "  model = cd_fast.enet_coordinate_descent_gram(\n",
            "/Users/zionn/opt/anaconda3/envs/myenv/lib/python3.8/site-packages/sklearn/linear_model/_coordinate_descent.py:631: ConvergenceWarning: Objective did not converge. You might want to increase the number of iterations. Duality gap: 5892.491065269249, tolerance: 20.40569770099715\n",
            "  model = cd_fast.enet_coordinate_descent_gram(\n",
            "/Users/zionn/opt/anaconda3/envs/myenv/lib/python3.8/site-packages/sklearn/linear_model/_coordinate_descent.py:631: ConvergenceWarning: Objective did not converge. You might want to increase the number of iterations. Duality gap: 5911.932372464922, tolerance: 20.397458008011956\n",
            "  model = cd_fast.enet_coordinate_descent_gram(\n",
            "/Users/zionn/opt/anaconda3/envs/myenv/lib/python3.8/site-packages/sklearn/linear_model/_coordinate_descent.py:631: ConvergenceWarning: Objective did not converge. You might want to increase the number of iterations. Duality gap: 5904.433995580754, tolerance: 20.402061667649168\n",
            "  model = cd_fast.enet_coordinate_descent_gram(\n",
            "/Users/zionn/opt/anaconda3/envs/myenv/lib/python3.8/site-packages/sklearn/linear_model/_coordinate_descent.py:631: ConvergenceWarning: Objective did not converge. You might want to increase the number of iterations. Duality gap: 5892.440668377798, tolerance: 20.428318588116326\n",
            "  model = cd_fast.enet_coordinate_descent_gram(\n",
            "/Users/zionn/opt/anaconda3/envs/myenv/lib/python3.8/site-packages/sklearn/linear_model/_coordinate_descent.py:631: ConvergenceWarning: Objective did not converge. You might want to increase the number of iterations. Duality gap: 5892.491065269307, tolerance: 20.40569770099715\n",
            "  model = cd_fast.enet_coordinate_descent_gram(\n",
            "/Users/zionn/opt/anaconda3/envs/myenv/lib/python3.8/site-packages/sklearn/linear_model/_coordinate_descent.py:631: ConvergenceWarning: Objective did not converge. You might want to increase the number of iterations. Duality gap: 5945.105535176144, tolerance: 20.42275389779096\n",
            "  model = cd_fast.enet_coordinate_descent_gram(\n",
            "/Users/zionn/opt/anaconda3/envs/myenv/lib/python3.8/site-packages/sklearn/linear_model/_coordinate_descent.py:631: ConvergenceWarning: Objective did not converge. You might want to increase the number of iterations. Duality gap: 5904.433995580775, tolerance: 20.402061667649168\n",
            "  model = cd_fast.enet_coordinate_descent_gram(\n",
            "/Users/zionn/opt/anaconda3/envs/myenv/lib/python3.8/site-packages/sklearn/linear_model/_coordinate_descent.py:631: ConvergenceWarning: Objective did not converge. You might want to increase the number of iterations. Duality gap: 5911.932372464909, tolerance: 20.397458008011956\n",
            "  model = cd_fast.enet_coordinate_descent_gram(\n",
            "/Users/zionn/opt/anaconda3/envs/myenv/lib/python3.8/site-packages/sklearn/linear_model/_coordinate_descent.py:631: ConvergenceWarning: Objective did not converge. You might want to increase the number of iterations. Duality gap: 5892.440668377831, tolerance: 20.428318588116326\n",
            "  model = cd_fast.enet_coordinate_descent_gram(\n",
            "/Users/zionn/opt/anaconda3/envs/myenv/lib/python3.8/site-packages/sklearn/linear_model/_coordinate_descent.py:631: ConvergenceWarning: Objective did not converge. You might want to increase the number of iterations. Duality gap: 5892.491065269267, tolerance: 20.40569770099715\n",
            "  model = cd_fast.enet_coordinate_descent_gram(\n",
            "/Users/zionn/opt/anaconda3/envs/myenv/lib/python3.8/site-packages/sklearn/linear_model/_coordinate_descent.py:631: ConvergenceWarning: Objective did not converge. You might want to increase the number of iterations. Duality gap: 5945.105535176141, tolerance: 20.42275389779096\n",
            "  model = cd_fast.enet_coordinate_descent_gram(\n",
            "/Users/zionn/opt/anaconda3/envs/myenv/lib/python3.8/site-packages/sklearn/linear_model/_coordinate_descent.py:631: ConvergenceWarning: Objective did not converge. You might want to increase the number of iterations. Duality gap: 5904.433995580781, tolerance: 20.402061667649168\n",
            "  model = cd_fast.enet_coordinate_descent_gram(\n",
            "/Users/zionn/opt/anaconda3/envs/myenv/lib/python3.8/site-packages/sklearn/linear_model/_coordinate_descent.py:631: ConvergenceWarning: Objective did not converge. You might want to increase the number of iterations. Duality gap: 5911.932372464913, tolerance: 20.397458008011956\n",
            "  model = cd_fast.enet_coordinate_descent_gram(\n",
            "/Users/zionn/opt/anaconda3/envs/myenv/lib/python3.8/site-packages/sklearn/linear_model/_coordinate_descent.py:631: ConvergenceWarning: Objective did not converge. You might want to increase the number of iterations. Duality gap: 5892.440668377805, tolerance: 20.428318588116326\n",
            "  model = cd_fast.enet_coordinate_descent_gram(\n",
            "/Users/zionn/opt/anaconda3/envs/myenv/lib/python3.8/site-packages/sklearn/linear_model/_coordinate_descent.py:631: ConvergenceWarning: Objective did not converge. You might want to increase the number of iterations. Duality gap: 5892.491065269287, tolerance: 20.40569770099715\n",
            "  model = cd_fast.enet_coordinate_descent_gram(\n",
            "/Users/zionn/opt/anaconda3/envs/myenv/lib/python3.8/site-packages/sklearn/linear_model/_coordinate_descent.py:631: ConvergenceWarning: Objective did not converge. You might want to increase the number of iterations. Duality gap: 5911.932372464922, tolerance: 20.397458008011956\n",
            "  model = cd_fast.enet_coordinate_descent_gram(\n",
            "/Users/zionn/opt/anaconda3/envs/myenv/lib/python3.8/site-packages/sklearn/linear_model/_coordinate_descent.py:631: ConvergenceWarning: Objective did not converge. You might want to increase the number of iterations. Duality gap: 5945.105535176086, tolerance: 20.42275389779096\n",
            "  model = cd_fast.enet_coordinate_descent_gram(\n",
            "/Users/zionn/opt/anaconda3/envs/myenv/lib/python3.8/site-packages/sklearn/linear_model/_coordinate_descent.py:631: ConvergenceWarning: Objective did not converge. You might want to increase the number of iterations. Duality gap: 5904.43399558075, tolerance: 20.402061667649168\n",
            "  model = cd_fast.enet_coordinate_descent_gram(\n",
            "/Users/zionn/opt/anaconda3/envs/myenv/lib/python3.8/site-packages/sklearn/linear_model/_coordinate_descent.py:631: ConvergenceWarning: Objective did not converge. You might want to increase the number of iterations. Duality gap: 5892.44066837782, tolerance: 20.428318588116326\n",
            "  model = cd_fast.enet_coordinate_descent_gram(\n",
            "/Users/zionn/opt/anaconda3/envs/myenv/lib/python3.8/site-packages/sklearn/linear_model/_coordinate_descent.py:631: ConvergenceWarning: Objective did not converge. You might want to increase the number of iterations. Duality gap: 5892.491065269292, tolerance: 20.40569770099715\n",
            "  model = cd_fast.enet_coordinate_descent_gram(\n",
            "/Users/zionn/opt/anaconda3/envs/myenv/lib/python3.8/site-packages/sklearn/linear_model/_coordinate_descent.py:631: ConvergenceWarning: Objective did not converge. You might want to increase the number of iterations. Duality gap: 5911.932372464913, tolerance: 20.397458008011956\n",
            "  model = cd_fast.enet_coordinate_descent_gram(\n",
            "/Users/zionn/opt/anaconda3/envs/myenv/lib/python3.8/site-packages/sklearn/linear_model/_coordinate_descent.py:631: ConvergenceWarning: Objective did not converge. You might want to increase the number of iterations. Duality gap: 5945.105535176221, tolerance: 20.42275389779096\n",
            "  model = cd_fast.enet_coordinate_descent_gram(\n",
            "/Users/zionn/opt/anaconda3/envs/myenv/lib/python3.8/site-packages/sklearn/linear_model/_coordinate_descent.py:631: ConvergenceWarning: Objective did not converge. You might want to increase the number of iterations. Duality gap: 5904.433995580781, tolerance: 20.402061667649168\n",
            "  model = cd_fast.enet_coordinate_descent_gram(\n",
            "/Users/zionn/opt/anaconda3/envs/myenv/lib/python3.8/site-packages/sklearn/linear_model/_coordinate_descent.py:631: ConvergenceWarning: Objective did not converge. You might want to increase the number of iterations. Duality gap: 5892.440668377809, tolerance: 20.428318588116326\n",
            "  model = cd_fast.enet_coordinate_descent_gram(\n",
            "/Users/zionn/opt/anaconda3/envs/myenv/lib/python3.8/site-packages/sklearn/linear_model/_coordinate_descent.py:631: ConvergenceWarning: Objective did not converge. You might want to increase the number of iterations. Duality gap: 5892.491065269343, tolerance: 20.40569770099715\n",
            "  model = cd_fast.enet_coordinate_descent_gram(\n",
            "/Users/zionn/opt/anaconda3/envs/myenv/lib/python3.8/site-packages/sklearn/linear_model/_coordinate_descent.py:631: ConvergenceWarning: Objective did not converge. You might want to increase the number of iterations. Duality gap: 5945.105535176101, tolerance: 20.42275389779096\n",
            "  model = cd_fast.enet_coordinate_descent_gram(\n",
            "/Users/zionn/opt/anaconda3/envs/myenv/lib/python3.8/site-packages/sklearn/linear_model/_coordinate_descent.py:631: ConvergenceWarning: Objective did not converge. You might want to increase the number of iterations. Duality gap: 5911.9323724649075, tolerance: 20.397458008011956\n",
            "  model = cd_fast.enet_coordinate_descent_gram(\n",
            "/Users/zionn/opt/anaconda3/envs/myenv/lib/python3.8/site-packages/sklearn/linear_model/_coordinate_descent.py:631: ConvergenceWarning: Objective did not converge. You might want to increase the number of iterations. Duality gap: 5904.433995580768, tolerance: 20.402061667649168\n",
            "  model = cd_fast.enet_coordinate_descent_gram(\n",
            "/Users/zionn/opt/anaconda3/envs/myenv/lib/python3.8/site-packages/sklearn/linear_model/_coordinate_descent.py:631: ConvergenceWarning: Objective did not converge. You might want to increase the number of iterations. Duality gap: 5892.440668377767, tolerance: 20.428318588116326\n",
            "  model = cd_fast.enet_coordinate_descent_gram(\n",
            "/Users/zionn/opt/anaconda3/envs/myenv/lib/python3.8/site-packages/sklearn/linear_model/_coordinate_descent.py:631: ConvergenceWarning: Objective did not converge. You might want to increase the number of iterations. Duality gap: 5892.491065269307, tolerance: 20.40569770099715\n",
            "  model = cd_fast.enet_coordinate_descent_gram(\n",
            "/Users/zionn/opt/anaconda3/envs/myenv/lib/python3.8/site-packages/sklearn/linear_model/_coordinate_descent.py:631: ConvergenceWarning: Objective did not converge. You might want to increase the number of iterations. Duality gap: 5911.932372464909, tolerance: 20.397458008011956\n",
            "  model = cd_fast.enet_coordinate_descent_gram(\n",
            "/Users/zionn/opt/anaconda3/envs/myenv/lib/python3.8/site-packages/sklearn/linear_model/_coordinate_descent.py:631: ConvergenceWarning: Objective did not converge. You might want to increase the number of iterations. Duality gap: 5945.105535176122, tolerance: 20.42275389779096\n",
            "  model = cd_fast.enet_coordinate_descent_gram(\n",
            "/Users/zionn/opt/anaconda3/envs/myenv/lib/python3.8/site-packages/sklearn/linear_model/_coordinate_descent.py:631: ConvergenceWarning: Objective did not converge. You might want to increase the number of iterations. Duality gap: 5904.433995580754, tolerance: 20.402061667649168\n",
            "  model = cd_fast.enet_coordinate_descent_gram(\n",
            "/Users/zionn/opt/anaconda3/envs/myenv/lib/python3.8/site-packages/sklearn/linear_model/_coordinate_descent.py:631: ConvergenceWarning: Objective did not converge. You might want to increase the number of iterations. Duality gap: 5892.440668377834, tolerance: 20.428318588116326\n",
            "  model = cd_fast.enet_coordinate_descent_gram(\n",
            "/Users/zionn/opt/anaconda3/envs/myenv/lib/python3.8/site-packages/sklearn/linear_model/_coordinate_descent.py:631: ConvergenceWarning: Objective did not converge. You might want to increase the number of iterations. Duality gap: 5892.491065269294, tolerance: 20.40569770099715\n",
            "  model = cd_fast.enet_coordinate_descent_gram(\n",
            "/Users/zionn/opt/anaconda3/envs/myenv/lib/python3.8/site-packages/sklearn/linear_model/_coordinate_descent.py:631: ConvergenceWarning: Objective did not converge. You might want to increase the number of iterations. Duality gap: 5911.932372464924, tolerance: 20.397458008011956\n",
            "  model = cd_fast.enet_coordinate_descent_gram(\n",
            "/Users/zionn/opt/anaconda3/envs/myenv/lib/python3.8/site-packages/sklearn/linear_model/_coordinate_descent.py:631: ConvergenceWarning: Objective did not converge. You might want to increase the number of iterations. Duality gap: 5945.105535176141, tolerance: 20.42275389779096\n",
            "  model = cd_fast.enet_coordinate_descent_gram(\n",
            "/Users/zionn/opt/anaconda3/envs/myenv/lib/python3.8/site-packages/sklearn/linear_model/_coordinate_descent.py:631: ConvergenceWarning: Objective did not converge. You might want to increase the number of iterations. Duality gap: 5904.433995580777, tolerance: 20.402061667649168\n",
            "  model = cd_fast.enet_coordinate_descent_gram(\n",
            "/Users/zionn/opt/anaconda3/envs/myenv/lib/python3.8/site-packages/sklearn/linear_model/_coordinate_descent.py:631: ConvergenceWarning: Objective did not converge. You might want to increase the number of iterations. Duality gap: 5892.440668377796, tolerance: 20.428318588116326\n",
            "  model = cd_fast.enet_coordinate_descent_gram(\n",
            "/Users/zionn/opt/anaconda3/envs/myenv/lib/python3.8/site-packages/sklearn/linear_model/_coordinate_descent.py:631: ConvergenceWarning: Objective did not converge. You might want to increase the number of iterations. Duality gap: 5892.491065269287, tolerance: 20.40569770099715\n",
            "  model = cd_fast.enet_coordinate_descent_gram(\n",
            "/Users/zionn/opt/anaconda3/envs/myenv/lib/python3.8/site-packages/sklearn/linear_model/_coordinate_descent.py:631: ConvergenceWarning: Objective did not converge. You might want to increase the number of iterations. Duality gap: 5911.932372464924, tolerance: 20.397458008011956\n",
            "  model = cd_fast.enet_coordinate_descent_gram(\n",
            "/Users/zionn/opt/anaconda3/envs/myenv/lib/python3.8/site-packages/sklearn/linear_model/_coordinate_descent.py:631: ConvergenceWarning: Objective did not converge. You might want to increase the number of iterations. Duality gap: 5945.105535176141, tolerance: 20.42275389779096\n",
            "  model = cd_fast.enet_coordinate_descent_gram(\n",
            "/Users/zionn/opt/anaconda3/envs/myenv/lib/python3.8/site-packages/sklearn/linear_model/_coordinate_descent.py:631: ConvergenceWarning: Objective did not converge. You might want to increase the number of iterations. Duality gap: 5904.433995580739, tolerance: 20.402061667649168\n",
            "  model = cd_fast.enet_coordinate_descent_gram(\n",
            "/Users/zionn/opt/anaconda3/envs/myenv/lib/python3.8/site-packages/sklearn/linear_model/_coordinate_descent.py:631: ConvergenceWarning: Objective did not converge. You might want to increase the number of iterations. Duality gap: 5892.440668377845, tolerance: 20.428318588116326\n",
            "  model = cd_fast.enet_coordinate_descent_gram(\n",
            "/Users/zionn/opt/anaconda3/envs/myenv/lib/python3.8/site-packages/sklearn/linear_model/_coordinate_descent.py:631: ConvergenceWarning: Objective did not converge. You might want to increase the number of iterations. Duality gap: 5892.491065269289, tolerance: 20.40569770099715\n",
            "  model = cd_fast.enet_coordinate_descent_gram(\n",
            "/Users/zionn/opt/anaconda3/envs/myenv/lib/python3.8/site-packages/sklearn/linear_model/_coordinate_descent.py:631: ConvergenceWarning: Objective did not converge. You might want to increase the number of iterations. Duality gap: 5911.932372464917, tolerance: 20.397458008011956\n",
            "  model = cd_fast.enet_coordinate_descent_gram(\n",
            "/Users/zionn/opt/anaconda3/envs/myenv/lib/python3.8/site-packages/sklearn/linear_model/_coordinate_descent.py:631: ConvergenceWarning: Objective did not converge. You might want to increase the number of iterations. Duality gap: 5945.105535176177, tolerance: 20.42275389779096\n",
            "  model = cd_fast.enet_coordinate_descent_gram(\n",
            "/Users/zionn/opt/anaconda3/envs/myenv/lib/python3.8/site-packages/sklearn/linear_model/_coordinate_descent.py:631: ConvergenceWarning: Objective did not converge. You might want to increase the number of iterations. Duality gap: 5904.43399558079, tolerance: 20.402061667649168\n",
            "  model = cd_fast.enet_coordinate_descent_gram(\n",
            "/Users/zionn/opt/anaconda3/envs/myenv/lib/python3.8/site-packages/sklearn/linear_model/_coordinate_descent.py:631: ConvergenceWarning: Objective did not converge. You might want to increase the number of iterations. Duality gap: 5892.440668377809, tolerance: 20.428318588116326\n",
            "  model = cd_fast.enet_coordinate_descent_gram(\n",
            "/Users/zionn/opt/anaconda3/envs/myenv/lib/python3.8/site-packages/sklearn/linear_model/_coordinate_descent.py:631: ConvergenceWarning: Objective did not converge. You might want to increase the number of iterations. Duality gap: 5892.491065269291, tolerance: 20.40569770099715\n",
            "  model = cd_fast.enet_coordinate_descent_gram(\n",
            "/Users/zionn/opt/anaconda3/envs/myenv/lib/python3.8/site-packages/sklearn/linear_model/_coordinate_descent.py:631: ConvergenceWarning: Objective did not converge. You might want to increase the number of iterations. Duality gap: 5911.932372464924, tolerance: 20.397458008011956\n",
            "  model = cd_fast.enet_coordinate_descent_gram(\n",
            "/Users/zionn/opt/anaconda3/envs/myenv/lib/python3.8/site-packages/sklearn/linear_model/_coordinate_descent.py:631: ConvergenceWarning: Objective did not converge. You might want to increase the number of iterations. Duality gap: 5945.105535176088, tolerance: 20.42275389779096\n",
            "  model = cd_fast.enet_coordinate_descent_gram(\n",
            "/Users/zionn/opt/anaconda3/envs/myenv/lib/python3.8/site-packages/sklearn/linear_model/_coordinate_descent.py:631: ConvergenceWarning: Objective did not converge. You might want to increase the number of iterations. Duality gap: 5904.433995580732, tolerance: 20.402061667649168\n",
            "  model = cd_fast.enet_coordinate_descent_gram(\n",
            "/Users/zionn/opt/anaconda3/envs/myenv/lib/python3.8/site-packages/sklearn/linear_model/_coordinate_descent.py:631: ConvergenceWarning: Objective did not converge. You might want to increase the number of iterations. Duality gap: 5892.440668377818, tolerance: 20.428318588116326\n",
            "  model = cd_fast.enet_coordinate_descent_gram(\n",
            "/Users/zionn/opt/anaconda3/envs/myenv/lib/python3.8/site-packages/sklearn/linear_model/_coordinate_descent.py:631: ConvergenceWarning: Objective did not converge. You might want to increase the number of iterations. Duality gap: 5892.4910652693, tolerance: 20.40569770099715\n",
            "  model = cd_fast.enet_coordinate_descent_gram(\n",
            "/Users/zionn/opt/anaconda3/envs/myenv/lib/python3.8/site-packages/sklearn/linear_model/_coordinate_descent.py:631: ConvergenceWarning: Objective did not converge. You might want to increase the number of iterations. Duality gap: 5911.932372464909, tolerance: 20.397458008011956\n",
            "  model = cd_fast.enet_coordinate_descent_gram(\n",
            "/Users/zionn/opt/anaconda3/envs/myenv/lib/python3.8/site-packages/sklearn/linear_model/_coordinate_descent.py:631: ConvergenceWarning: Objective did not converge. You might want to increase the number of iterations. Duality gap: 5945.1055351761515, tolerance: 20.42275389779096\n",
            "  model = cd_fast.enet_coordinate_descent_gram(\n",
            "/Users/zionn/opt/anaconda3/envs/myenv/lib/python3.8/site-packages/sklearn/linear_model/_coordinate_descent.py:631: ConvergenceWarning: Objective did not converge. You might want to increase the number of iterations. Duality gap: 5904.433995580772, tolerance: 20.402061667649168\n",
            "  model = cd_fast.enet_coordinate_descent_gram(\n",
            "/Users/zionn/opt/anaconda3/envs/myenv/lib/python3.8/site-packages/sklearn/linear_model/_coordinate_descent.py:631: ConvergenceWarning: Objective did not converge. You might want to increase the number of iterations. Duality gap: 5892.440668377785, tolerance: 20.428318588116326\n",
            "  model = cd_fast.enet_coordinate_descent_gram(\n",
            "/Users/zionn/opt/anaconda3/envs/myenv/lib/python3.8/site-packages/sklearn/linear_model/_coordinate_descent.py:631: ConvergenceWarning: Objective did not converge. You might want to increase the number of iterations. Duality gap: 5892.4910652693, tolerance: 20.40569770099715\n",
            "  model = cd_fast.enet_coordinate_descent_gram(\n"
          ]
        },
        {
          "name": "stderr",
          "output_type": "stream",
          "text": [
            "/Users/zionn/opt/anaconda3/envs/myenv/lib/python3.8/site-packages/sklearn/linear_model/_coordinate_descent.py:631: ConvergenceWarning: Objective did not converge. You might want to increase the number of iterations. Duality gap: 5911.932372464924, tolerance: 20.397458008011956\n",
            "  model = cd_fast.enet_coordinate_descent_gram(\n",
            "/Users/zionn/opt/anaconda3/envs/myenv/lib/python3.8/site-packages/sklearn/linear_model/_coordinate_descent.py:631: ConvergenceWarning: Objective did not converge. You might want to increase the number of iterations. Duality gap: 5945.105535176124, tolerance: 20.42275389779096\n",
            "  model = cd_fast.enet_coordinate_descent_gram(\n",
            "/Users/zionn/opt/anaconda3/envs/myenv/lib/python3.8/site-packages/sklearn/linear_model/_coordinate_descent.py:631: ConvergenceWarning: Objective did not converge. You might want to increase the number of iterations. Duality gap: 5892.440668377827, tolerance: 20.428318588116326\n",
            "  model = cd_fast.enet_coordinate_descent_gram(\n",
            "/Users/zionn/opt/anaconda3/envs/myenv/lib/python3.8/site-packages/sklearn/linear_model/_coordinate_descent.py:631: ConvergenceWarning: Objective did not converge. You might want to increase the number of iterations. Duality gap: 5904.433995580795, tolerance: 20.402061667649168\n",
            "  model = cd_fast.enet_coordinate_descent_gram(\n",
            "/Users/zionn/opt/anaconda3/envs/myenv/lib/python3.8/site-packages/sklearn/linear_model/_coordinate_descent.py:631: ConvergenceWarning: Objective did not converge. You might want to increase the number of iterations. Duality gap: 5892.4910652692615, tolerance: 20.40569770099715\n",
            "  model = cd_fast.enet_coordinate_descent_gram(\n",
            "/Users/zionn/opt/anaconda3/envs/myenv/lib/python3.8/site-packages/sklearn/linear_model/_coordinate_descent.py:631: ConvergenceWarning: Objective did not converge. You might want to increase the number of iterations. Duality gap: 5911.932372464918, tolerance: 20.397458008011956\n",
            "  model = cd_fast.enet_coordinate_descent_gram(\n",
            "/Users/zionn/opt/anaconda3/envs/myenv/lib/python3.8/site-packages/sklearn/linear_model/_coordinate_descent.py:631: ConvergenceWarning: Objective did not converge. You might want to increase the number of iterations. Duality gap: 5945.105535176106, tolerance: 20.42275389779096\n",
            "  model = cd_fast.enet_coordinate_descent_gram(\n",
            "/Users/zionn/opt/anaconda3/envs/myenv/lib/python3.8/site-packages/sklearn/linear_model/_coordinate_descent.py:631: ConvergenceWarning: Objective did not converge. You might want to increase the number of iterations. Duality gap: 5892.440668377836, tolerance: 20.428318588116326\n",
            "  model = cd_fast.enet_coordinate_descent_gram(\n",
            "/Users/zionn/opt/anaconda3/envs/myenv/lib/python3.8/site-packages/sklearn/linear_model/_coordinate_descent.py:631: ConvergenceWarning: Objective did not converge. You might want to increase the number of iterations. Duality gap: 5904.4339955807645, tolerance: 20.402061667649168\n",
            "  model = cd_fast.enet_coordinate_descent_gram(\n",
            "/Users/zionn/opt/anaconda3/envs/myenv/lib/python3.8/site-packages/sklearn/linear_model/_coordinate_descent.py:631: ConvergenceWarning: Objective did not converge. You might want to increase the number of iterations. Duality gap: 5892.491065269298, tolerance: 20.40569770099715\n",
            "  model = cd_fast.enet_coordinate_descent_gram(\n",
            "/Users/zionn/opt/anaconda3/envs/myenv/lib/python3.8/site-packages/sklearn/linear_model/_coordinate_descent.py:631: ConvergenceWarning: Objective did not converge. You might want to increase the number of iterations. Duality gap: 5911.932372464913, tolerance: 20.397458008011956\n",
            "  model = cd_fast.enet_coordinate_descent_gram(\n",
            "/Users/zionn/opt/anaconda3/envs/myenv/lib/python3.8/site-packages/sklearn/linear_model/_coordinate_descent.py:631: ConvergenceWarning: Objective did not converge. You might want to increase the number of iterations. Duality gap: 5892.440668377818, tolerance: 20.428318588116326\n",
            "  model = cd_fast.enet_coordinate_descent_gram(\n",
            "/Users/zionn/opt/anaconda3/envs/myenv/lib/python3.8/site-packages/sklearn/linear_model/_coordinate_descent.py:631: ConvergenceWarning: Objective did not converge. You might want to increase the number of iterations. Duality gap: 5945.105535176084, tolerance: 20.42275389779096\n",
            "  model = cd_fast.enet_coordinate_descent_gram(\n",
            "/Users/zionn/opt/anaconda3/envs/myenv/lib/python3.8/site-packages/sklearn/linear_model/_coordinate_descent.py:631: ConvergenceWarning: Objective did not converge. You might want to increase the number of iterations. Duality gap: 5892.49106526928, tolerance: 20.40569770099715\n",
            "  model = cd_fast.enet_coordinate_descent_gram(\n",
            "/Users/zionn/opt/anaconda3/envs/myenv/lib/python3.8/site-packages/sklearn/linear_model/_coordinate_descent.py:631: ConvergenceWarning: Objective did not converge. You might want to increase the number of iterations. Duality gap: 5904.43399558073, tolerance: 20.402061667649168\n",
            "  model = cd_fast.enet_coordinate_descent_gram(\n",
            "/Users/zionn/opt/anaconda3/envs/myenv/lib/python3.8/site-packages/sklearn/linear_model/_coordinate_descent.py:631: ConvergenceWarning: Objective did not converge. You might want to increase the number of iterations. Duality gap: 5911.932372464911, tolerance: 20.397458008011956\n",
            "  model = cd_fast.enet_coordinate_descent_gram(\n",
            "/Users/zionn/opt/anaconda3/envs/myenv/lib/python3.8/site-packages/sklearn/linear_model/_coordinate_descent.py:631: ConvergenceWarning: Objective did not converge. You might want to increase the number of iterations. Duality gap: 5892.44066837782, tolerance: 20.428318588116326\n",
            "  model = cd_fast.enet_coordinate_descent_gram(\n",
            "/Users/zionn/opt/anaconda3/envs/myenv/lib/python3.8/site-packages/sklearn/linear_model/_coordinate_descent.py:631: ConvergenceWarning: Objective did not converge. You might want to increase the number of iterations. Duality gap: 5945.105535176124, tolerance: 20.42275389779096\n",
            "  model = cd_fast.enet_coordinate_descent_gram(\n",
            "/Users/zionn/opt/anaconda3/envs/myenv/lib/python3.8/site-packages/sklearn/linear_model/_coordinate_descent.py:631: ConvergenceWarning: Objective did not converge. You might want to increase the number of iterations. Duality gap: 5892.4910652692815, tolerance: 20.40569770099715\n",
            "  model = cd_fast.enet_coordinate_descent_gram(\n",
            "/Users/zionn/opt/anaconda3/envs/myenv/lib/python3.8/site-packages/sklearn/linear_model/_coordinate_descent.py:631: ConvergenceWarning: Objective did not converge. You might want to increase the number of iterations. Duality gap: 5904.433995580754, tolerance: 20.402061667649168\n",
            "  model = cd_fast.enet_coordinate_descent_gram(\n",
            "/Users/zionn/opt/anaconda3/envs/myenv/lib/python3.8/site-packages/sklearn/linear_model/_coordinate_descent.py:631: ConvergenceWarning: Objective did not converge. You might want to increase the number of iterations. Duality gap: 5911.932372464913, tolerance: 20.397458008011956\n",
            "  model = cd_fast.enet_coordinate_descent_gram(\n",
            "/Users/zionn/opt/anaconda3/envs/myenv/lib/python3.8/site-packages/sklearn/linear_model/_coordinate_descent.py:631: ConvergenceWarning: Objective did not converge. You might want to increase the number of iterations. Duality gap: 5892.440668377809, tolerance: 20.428318588116326\n",
            "  model = cd_fast.enet_coordinate_descent_gram(\n",
            "/Users/zionn/opt/anaconda3/envs/myenv/lib/python3.8/site-packages/sklearn/linear_model/_coordinate_descent.py:631: ConvergenceWarning: Objective did not converge. You might want to increase the number of iterations. Duality gap: 5945.105535176053, tolerance: 20.42275389779096\n",
            "  model = cd_fast.enet_coordinate_descent_gram(\n",
            "/Users/zionn/opt/anaconda3/envs/myenv/lib/python3.8/site-packages/sklearn/linear_model/_coordinate_descent.py:631: ConvergenceWarning: Objective did not converge. You might want to increase the number of iterations. Duality gap: 5892.491065269271, tolerance: 20.40569770099715\n",
            "  model = cd_fast.enet_coordinate_descent_gram(\n",
            "/Users/zionn/opt/anaconda3/envs/myenv/lib/python3.8/site-packages/sklearn/linear_model/_coordinate_descent.py:631: ConvergenceWarning: Objective did not converge. You might want to increase the number of iterations. Duality gap: 5904.433995580806, tolerance: 20.402061667649168\n",
            "  model = cd_fast.enet_coordinate_descent_gram(\n",
            "/Users/zionn/opt/anaconda3/envs/myenv/lib/python3.8/site-packages/sklearn/linear_model/_coordinate_descent.py:631: ConvergenceWarning: Objective did not converge. You might want to increase the number of iterations. Duality gap: 5911.932372464911, tolerance: 20.397458008011956\n",
            "  model = cd_fast.enet_coordinate_descent_gram(\n",
            "/Users/zionn/opt/anaconda3/envs/myenv/lib/python3.8/site-packages/sklearn/linear_model/_coordinate_descent.py:631: ConvergenceWarning: Objective did not converge. You might want to increase the number of iterations. Duality gap: 5892.440668377787, tolerance: 20.428318588116326\n",
            "  model = cd_fast.enet_coordinate_descent_gram(\n",
            "/Users/zionn/opt/anaconda3/envs/myenv/lib/python3.8/site-packages/sklearn/linear_model/_coordinate_descent.py:631: ConvergenceWarning: Objective did not converge. You might want to increase the number of iterations. Duality gap: 5945.1055351761715, tolerance: 20.42275389779096\n",
            "  model = cd_fast.enet_coordinate_descent_gram(\n",
            "/Users/zionn/opt/anaconda3/envs/myenv/lib/python3.8/site-packages/sklearn/linear_model/_coordinate_descent.py:631: ConvergenceWarning: Objective did not converge. You might want to increase the number of iterations. Duality gap: 5892.491065269298, tolerance: 20.40569770099715\n",
            "  model = cd_fast.enet_coordinate_descent_gram(\n",
            "/Users/zionn/opt/anaconda3/envs/myenv/lib/python3.8/site-packages/sklearn/linear_model/_coordinate_descent.py:631: ConvergenceWarning: Objective did not converge. You might want to increase the number of iterations. Duality gap: 5904.43399558075, tolerance: 20.402061667649168\n",
            "  model = cd_fast.enet_coordinate_descent_gram(\n",
            "/Users/zionn/opt/anaconda3/envs/myenv/lib/python3.8/site-packages/sklearn/linear_model/_coordinate_descent.py:631: ConvergenceWarning: Objective did not converge. You might want to increase the number of iterations. Duality gap: 5911.932372464898, tolerance: 20.397458008011956\n",
            "  model = cd_fast.enet_coordinate_descent_gram(\n",
            "/Users/zionn/opt/anaconda3/envs/myenv/lib/python3.8/site-packages/sklearn/linear_model/_coordinate_descent.py:631: ConvergenceWarning: Objective did not converge. You might want to increase the number of iterations. Duality gap: 5892.440668377871, tolerance: 20.428318588116326\n",
            "  model = cd_fast.enet_coordinate_descent_gram(\n",
            "/Users/zionn/opt/anaconda3/envs/myenv/lib/python3.8/site-packages/sklearn/linear_model/_coordinate_descent.py:631: ConvergenceWarning: Objective did not converge. You might want to increase the number of iterations. Duality gap: 5945.105535176101, tolerance: 20.42275389779096\n",
            "  model = cd_fast.enet_coordinate_descent_gram(\n",
            "/Users/zionn/opt/anaconda3/envs/myenv/lib/python3.8/site-packages/sklearn/linear_model/_coordinate_descent.py:631: ConvergenceWarning: Objective did not converge. You might want to increase the number of iterations. Duality gap: 5892.491065269278, tolerance: 20.40569770099715\n",
            "  model = cd_fast.enet_coordinate_descent_gram(\n",
            "/Users/zionn/opt/anaconda3/envs/myenv/lib/python3.8/site-packages/sklearn/linear_model/_coordinate_descent.py:631: ConvergenceWarning: Objective did not converge. You might want to increase the number of iterations. Duality gap: 5904.433995580792, tolerance: 20.402061667649168\n",
            "  model = cd_fast.enet_coordinate_descent_gram(\n",
            "/Users/zionn/opt/anaconda3/envs/myenv/lib/python3.8/site-packages/sklearn/linear_model/_coordinate_descent.py:631: ConvergenceWarning: Objective did not converge. You might want to increase the number of iterations. Duality gap: 5911.932372464913, tolerance: 20.397458008011956\n",
            "  model = cd_fast.enet_coordinate_descent_gram(\n",
            "/Users/zionn/opt/anaconda3/envs/myenv/lib/python3.8/site-packages/sklearn/linear_model/_coordinate_descent.py:631: ConvergenceWarning: Objective did not converge. You might want to increase the number of iterations. Duality gap: 5892.440668377751, tolerance: 20.428318588116326\n",
            "  model = cd_fast.enet_coordinate_descent_gram(\n",
            "/Users/zionn/opt/anaconda3/envs/myenv/lib/python3.8/site-packages/sklearn/linear_model/_coordinate_descent.py:631: ConvergenceWarning: Objective did not converge. You might want to increase the number of iterations. Duality gap: 5945.105535176121, tolerance: 20.42275389779096\n",
            "  model = cd_fast.enet_coordinate_descent_gram(\n",
            "/Users/zionn/opt/anaconda3/envs/myenv/lib/python3.8/site-packages/sklearn/linear_model/_coordinate_descent.py:631: ConvergenceWarning: Objective did not converge. You might want to increase the number of iterations. Duality gap: 5892.49106526928, tolerance: 20.40569770099715\n",
            "  model = cd_fast.enet_coordinate_descent_gram(\n",
            "/Users/zionn/opt/anaconda3/envs/myenv/lib/python3.8/site-packages/sklearn/linear_model/_coordinate_descent.py:631: ConvergenceWarning: Objective did not converge. You might want to increase the number of iterations. Duality gap: 5904.433995580828, tolerance: 20.402061667649168\n",
            "  model = cd_fast.enet_coordinate_descent_gram(\n",
            "/Users/zionn/opt/anaconda3/envs/myenv/lib/python3.8/site-packages/sklearn/linear_model/_coordinate_descent.py:631: ConvergenceWarning: Objective did not converge. You might want to increase the number of iterations. Duality gap: 5911.932372464926, tolerance: 20.397458008011956\n",
            "  model = cd_fast.enet_coordinate_descent_gram(\n",
            "/Users/zionn/opt/anaconda3/envs/myenv/lib/python3.8/site-packages/sklearn/linear_model/_coordinate_descent.py:631: ConvergenceWarning: Objective did not converge. You might want to increase the number of iterations. Duality gap: 5892.440668377816, tolerance: 20.428318588116326\n",
            "  model = cd_fast.enet_coordinate_descent_gram(\n",
            "/Users/zionn/opt/anaconda3/envs/myenv/lib/python3.8/site-packages/sklearn/linear_model/_coordinate_descent.py:631: ConvergenceWarning: Objective did not converge. You might want to increase the number of iterations. Duality gap: 5892.491065269307, tolerance: 20.40569770099715\n",
            "  model = cd_fast.enet_coordinate_descent_gram(\n",
            "/Users/zionn/opt/anaconda3/envs/myenv/lib/python3.8/site-packages/sklearn/linear_model/_coordinate_descent.py:631: ConvergenceWarning: Objective did not converge. You might want to increase the number of iterations. Duality gap: 5945.105535176108, tolerance: 20.42275389779096\n",
            "  model = cd_fast.enet_coordinate_descent_gram(\n",
            "/Users/zionn/opt/anaconda3/envs/myenv/lib/python3.8/site-packages/sklearn/linear_model/_coordinate_descent.py:631: ConvergenceWarning: Objective did not converge. You might want to increase the number of iterations. Duality gap: 5904.433995580772, tolerance: 20.402061667649168\n",
            "  model = cd_fast.enet_coordinate_descent_gram(\n",
            "/Users/zionn/opt/anaconda3/envs/myenv/lib/python3.8/site-packages/sklearn/linear_model/_coordinate_descent.py:631: ConvergenceWarning: Objective did not converge. You might want to increase the number of iterations. Duality gap: 5911.932372464909, tolerance: 20.397458008011956\n",
            "  model = cd_fast.enet_coordinate_descent_gram(\n",
            "/Users/zionn/opt/anaconda3/envs/myenv/lib/python3.8/site-packages/sklearn/linear_model/_coordinate_descent.py:631: ConvergenceWarning: Objective did not converge. You might want to increase the number of iterations. Duality gap: 5892.4406683778125, tolerance: 20.428318588116326\n",
            "  model = cd_fast.enet_coordinate_descent_gram(\n",
            "/Users/zionn/opt/anaconda3/envs/myenv/lib/python3.8/site-packages/sklearn/linear_model/_coordinate_descent.py:631: ConvergenceWarning: Objective did not converge. You might want to increase the number of iterations. Duality gap: 5945.105535176115, tolerance: 20.42275389779096\n",
            "  model = cd_fast.enet_coordinate_descent_gram(\n",
            "/Users/zionn/opt/anaconda3/envs/myenv/lib/python3.8/site-packages/sklearn/linear_model/_coordinate_descent.py:631: ConvergenceWarning: Objective did not converge. You might want to increase the number of iterations. Duality gap: 5892.491065269294, tolerance: 20.40569770099715\n",
            "  model = cd_fast.enet_coordinate_descent_gram(\n",
            "/Users/zionn/opt/anaconda3/envs/myenv/lib/python3.8/site-packages/sklearn/linear_model/_coordinate_descent.py:631: ConvergenceWarning: Objective did not converge. You might want to increase the number of iterations. Duality gap: 5904.433995580714, tolerance: 20.402061667649168\n",
            "  model = cd_fast.enet_coordinate_descent_gram(\n",
            "/Users/zionn/opt/anaconda3/envs/myenv/lib/python3.8/site-packages/sklearn/linear_model/_coordinate_descent.py:631: ConvergenceWarning: Objective did not converge. You might want to increase the number of iterations. Duality gap: 5911.932372464909, tolerance: 20.397458008011956\n",
            "  model = cd_fast.enet_coordinate_descent_gram(\n",
            "/Users/zionn/opt/anaconda3/envs/myenv/lib/python3.8/site-packages/sklearn/linear_model/_coordinate_descent.py:631: ConvergenceWarning: Objective did not converge. You might want to increase the number of iterations. Duality gap: 5892.440668377831, tolerance: 20.428318588116326\n",
            "  model = cd_fast.enet_coordinate_descent_gram(\n",
            "/Users/zionn/opt/anaconda3/envs/myenv/lib/python3.8/site-packages/sklearn/linear_model/_coordinate_descent.py:631: ConvergenceWarning: Objective did not converge. You might want to increase the number of iterations. Duality gap: 5892.491065269283, tolerance: 20.40569770099715\n",
            "  model = cd_fast.enet_coordinate_descent_gram(\n",
            "/Users/zionn/opt/anaconda3/envs/myenv/lib/python3.8/site-packages/sklearn/linear_model/_coordinate_descent.py:631: ConvergenceWarning: Objective did not converge. You might want to increase the number of iterations. Duality gap: 5945.105535176117, tolerance: 20.42275389779096\n",
            "  model = cd_fast.enet_coordinate_descent_gram(\n",
            "/Users/zionn/opt/anaconda3/envs/myenv/lib/python3.8/site-packages/sklearn/linear_model/_coordinate_descent.py:631: ConvergenceWarning: Objective did not converge. You might want to increase the number of iterations. Duality gap: 5911.932372464913, tolerance: 20.397458008011956\n",
            "  model = cd_fast.enet_coordinate_descent_gram(\n",
            "/Users/zionn/opt/anaconda3/envs/myenv/lib/python3.8/site-packages/sklearn/linear_model/_coordinate_descent.py:631: ConvergenceWarning: Objective did not converge. You might want to increase the number of iterations. Duality gap: 5904.433995580805, tolerance: 20.402061667649168\n",
            "  model = cd_fast.enet_coordinate_descent_gram(\n",
            "/Users/zionn/opt/anaconda3/envs/myenv/lib/python3.8/site-packages/sklearn/linear_model/_coordinate_descent.py:631: ConvergenceWarning: Objective did not converge. You might want to increase the number of iterations. Duality gap: 5892.440668377805, tolerance: 20.428318588116326\n",
            "  model = cd_fast.enet_coordinate_descent_gram(\n",
            "/Users/zionn/opt/anaconda3/envs/myenv/lib/python3.8/site-packages/sklearn/linear_model/_coordinate_descent.py:631: ConvergenceWarning: Objective did not converge. You might want to increase the number of iterations. Duality gap: 5892.491065269254, tolerance: 20.40569770099715\n",
            "  model = cd_fast.enet_coordinate_descent_gram(\n",
            "/Users/zionn/opt/anaconda3/envs/myenv/lib/python3.8/site-packages/sklearn/linear_model/_coordinate_descent.py:631: ConvergenceWarning: Objective did not converge. You might want to increase the number of iterations. Duality gap: 5945.10553517611, tolerance: 20.42275389779096\n",
            "  model = cd_fast.enet_coordinate_descent_gram(\n",
            "/Users/zionn/opt/anaconda3/envs/myenv/lib/python3.8/site-packages/sklearn/linear_model/_coordinate_descent.py:631: ConvergenceWarning: Objective did not converge. You might want to increase the number of iterations. Duality gap: 5904.4339955807645, tolerance: 20.402061667649168\n",
            "  model = cd_fast.enet_coordinate_descent_gram(\n",
            "/Users/zionn/opt/anaconda3/envs/myenv/lib/python3.8/site-packages/sklearn/linear_model/_coordinate_descent.py:631: ConvergenceWarning: Objective did not converge. You might want to increase the number of iterations. Duality gap: 5911.932372464909, tolerance: 20.397458008011956\n",
            "  model = cd_fast.enet_coordinate_descent_gram(\n",
            "/Users/zionn/opt/anaconda3/envs/myenv/lib/python3.8/site-packages/sklearn/linear_model/_coordinate_descent.py:631: ConvergenceWarning: Objective did not converge. You might want to increase the number of iterations. Duality gap: 5892.4406683778, tolerance: 20.428318588116326\n",
            "  model = cd_fast.enet_coordinate_descent_gram(\n",
            "/Users/zionn/opt/anaconda3/envs/myenv/lib/python3.8/site-packages/sklearn/linear_model/_coordinate_descent.py:631: ConvergenceWarning: Objective did not converge. You might want to increase the number of iterations. Duality gap: 5892.491065269269, tolerance: 20.40569770099715\n",
            "  model = cd_fast.enet_coordinate_descent_gram(\n",
            "/Users/zionn/opt/anaconda3/envs/myenv/lib/python3.8/site-packages/sklearn/linear_model/_coordinate_descent.py:631: ConvergenceWarning: Objective did not converge. You might want to increase the number of iterations. Duality gap: 5945.105535176099, tolerance: 20.42275389779096\n",
            "  model = cd_fast.enet_coordinate_descent_gram(\n",
            "/Users/zionn/opt/anaconda3/envs/myenv/lib/python3.8/site-packages/sklearn/linear_model/_coordinate_descent.py:631: ConvergenceWarning: Objective did not converge. You might want to increase the number of iterations. Duality gap: 5904.433995580721, tolerance: 20.402061667649168\n",
            "  model = cd_fast.enet_coordinate_descent_gram(\n",
            "/Users/zionn/opt/anaconda3/envs/myenv/lib/python3.8/site-packages/sklearn/linear_model/_coordinate_descent.py:631: ConvergenceWarning: Objective did not converge. You might want to increase the number of iterations. Duality gap: 5892.440668377809, tolerance: 20.428318588116326\n",
            "  model = cd_fast.enet_coordinate_descent_gram(\n",
            "/Users/zionn/opt/anaconda3/envs/myenv/lib/python3.8/site-packages/sklearn/linear_model/_coordinate_descent.py:631: ConvergenceWarning: Objective did not converge. You might want to increase the number of iterations. Duality gap: 5892.4910652693015, tolerance: 20.40569770099715\n",
            "  model = cd_fast.enet_coordinate_descent_gram(\n",
            "/Users/zionn/opt/anaconda3/envs/myenv/lib/python3.8/site-packages/sklearn/linear_model/_coordinate_descent.py:631: ConvergenceWarning: Objective did not converge. You might want to increase the number of iterations. Duality gap: 5945.105535176122, tolerance: 20.42275389779096\n",
            "  model = cd_fast.enet_coordinate_descent_gram(\n",
            "/Users/zionn/opt/anaconda3/envs/myenv/lib/python3.8/site-packages/sklearn/linear_model/_coordinate_descent.py:631: ConvergenceWarning: Objective did not converge. You might want to increase the number of iterations. Duality gap: 5904.433995580735, tolerance: 20.402061667649168\n",
            "  model = cd_fast.enet_coordinate_descent_gram(\n",
            "/Users/zionn/opt/anaconda3/envs/myenv/lib/python3.8/site-packages/sklearn/linear_model/_coordinate_descent.py:631: ConvergenceWarning: Objective did not converge. You might want to increase the number of iterations. Duality gap: 5892.491065269263, tolerance: 20.40569770099715\n",
            "  model = cd_fast.enet_coordinate_descent_gram(\n",
            "/Users/zionn/opt/anaconda3/envs/myenv/lib/python3.8/site-packages/sklearn/linear_model/_coordinate_descent.py:631: ConvergenceWarning: Objective did not converge. You might want to increase the number of iterations. Duality gap: 5892.440668377843, tolerance: 20.428318588116326\n",
            "  model = cd_fast.enet_coordinate_descent_gram(\n",
            "/Users/zionn/opt/anaconda3/envs/myenv/lib/python3.8/site-packages/sklearn/linear_model/_coordinate_descent.py:631: ConvergenceWarning: Objective did not converge. You might want to increase the number of iterations. Duality gap: 5945.105535176126, tolerance: 20.42275389779096\n",
            "  model = cd_fast.enet_coordinate_descent_gram(\n",
            "/Users/zionn/opt/anaconda3/envs/myenv/lib/python3.8/site-packages/sklearn/linear_model/_coordinate_descent.py:631: ConvergenceWarning: Objective did not converge. You might want to increase the number of iterations. Duality gap: 5904.433995580754, tolerance: 20.402061667649168\n",
            "  model = cd_fast.enet_coordinate_descent_gram(\n",
            "/Users/zionn/opt/anaconda3/envs/myenv/lib/python3.8/site-packages/sklearn/linear_model/_coordinate_descent.py:631: ConvergenceWarning: Objective did not converge. You might want to increase the number of iterations. Duality gap: 5892.491065269309, tolerance: 20.40569770099715\n",
            "  model = cd_fast.enet_coordinate_descent_gram(\n",
            "/Users/zionn/opt/anaconda3/envs/myenv/lib/python3.8/site-packages/sklearn/linear_model/_coordinate_descent.py:631: ConvergenceWarning: Objective did not converge. You might want to increase the number of iterations. Duality gap: 5892.440668377818, tolerance: 20.428318588116326\n",
            "  model = cd_fast.enet_coordinate_descent_gram(\n",
            "/Users/zionn/opt/anaconda3/envs/myenv/lib/python3.8/site-packages/sklearn/linear_model/_coordinate_descent.py:631: ConvergenceWarning: Objective did not converge. You might want to increase the number of iterations. Duality gap: 5945.1055351761515, tolerance: 20.42275389779096\n",
            "  model = cd_fast.enet_coordinate_descent_gram(\n"
          ]
        },
        {
          "name": "stderr",
          "output_type": "stream",
          "text": [
            "/Users/zionn/opt/anaconda3/envs/myenv/lib/python3.8/site-packages/sklearn/linear_model/_coordinate_descent.py:631: ConvergenceWarning: Objective did not converge. You might want to increase the number of iterations. Duality gap: 5904.433995580743, tolerance: 20.402061667649168\n",
            "  model = cd_fast.enet_coordinate_descent_gram(\n",
            "/Users/zionn/opt/anaconda3/envs/myenv/lib/python3.8/site-packages/sklearn/linear_model/_coordinate_descent.py:631: ConvergenceWarning: Objective did not converge. You might want to increase the number of iterations. Duality gap: 5892.49106526926, tolerance: 20.40569770099715\n",
            "  model = cd_fast.enet_coordinate_descent_gram(\n",
            "/Users/zionn/opt/anaconda3/envs/myenv/lib/python3.8/site-packages/sklearn/linear_model/_coordinate_descent.py:631: ConvergenceWarning: Objective did not converge. You might want to increase the number of iterations. Duality gap: 5892.440668377752, tolerance: 20.428318588116326\n",
            "  model = cd_fast.enet_coordinate_descent_gram(\n",
            "/Users/zionn/opt/anaconda3/envs/myenv/lib/python3.8/site-packages/sklearn/linear_model/_coordinate_descent.py:631: ConvergenceWarning: Objective did not converge. You might want to increase the number of iterations. Duality gap: 5945.10553517607, tolerance: 20.42275389779096\n",
            "  model = cd_fast.enet_coordinate_descent_gram(\n",
            "/Users/zionn/opt/anaconda3/envs/myenv/lib/python3.8/site-packages/sklearn/linear_model/_coordinate_descent.py:631: ConvergenceWarning: Objective did not converge. You might want to increase the number of iterations. Duality gap: 5904.433995580721, tolerance: 20.402061667649168\n",
            "  model = cd_fast.enet_coordinate_descent_gram(\n",
            "/Users/zionn/opt/anaconda3/envs/myenv/lib/python3.8/site-packages/sklearn/linear_model/_coordinate_descent.py:631: ConvergenceWarning: Objective did not converge. You might want to increase the number of iterations. Duality gap: 5904.433995580801, tolerance: 20.402061667649168\n",
            "  model = cd_fast.enet_coordinate_descent_gram(\n",
            "/Users/zionn/opt/anaconda3/envs/myenv/lib/python3.8/site-packages/sklearn/linear_model/_coordinate_descent.py:631: ConvergenceWarning: Objective did not converge. You might want to increase the number of iterations. Duality gap: 5904.433995580805, tolerance: 20.402061667649168\n",
            "  model = cd_fast.enet_coordinate_descent_gram(\n",
            "/Users/zionn/opt/anaconda3/envs/myenv/lib/python3.8/site-packages/sklearn/linear_model/_base.py:141: FutureWarning: 'normalize' was deprecated in version 1.0 and will be removed in 1.2.\n",
            "If you wish to scale the data, use Pipeline with a StandardScaler in a preprocessing stage. To reproduce the previous behavior:\n",
            "\n",
            "from sklearn.pipeline import make_pipeline\n",
            "\n",
            "model = make_pipeline(StandardScaler(with_mean=False), Lasso())\n",
            "\n",
            "If you wish to pass a sample_weight parameter, you need to pass it as a fit parameter to each step of the pipeline as follows:\n",
            "\n",
            "kwargs = {s[0] + '__sample_weight': sample_weight for s in model.steps}\n",
            "model.fit(X, y, **kwargs)\n",
            "\n",
            "Set parameter alpha to: original_alpha * np.sqrt(n_samples). \n",
            "  warnings.warn(\n",
            "/Users/zionn/opt/anaconda3/envs/myenv/lib/python3.8/site-packages/sklearn/linear_model/_coordinate_descent.py:645: ConvergenceWarning: Objective did not converge. You might want to increase the number of iterations, check the scale of the features or consider increasing regularisation. Duality gap: 7.387e+03, tolerance: 2.551e+01 Linear regression models with null weight for the l1 regularization term are more efficiently fitted using one of the solvers implemented in sklearn.linear_model.Ridge/RidgeCV instead.\n",
            "  model = cd_fast.enet_coordinate_descent(\n"
          ]
        }
      ]
    },
    {
      "cell_type": "code",
      "metadata": {
        "id": "iGoUOrfjGDLR",
        "outputId": "e1d4658f-40fd-40f5-9ec6-89f9955e6f6e"
      },
      "source": [
        "alpha_best = lasso_cv_fitted.alpha_\n",
        "alpha_best"
      ],
      "execution_count": null,
      "outputs": [
        {
          "data": {
            "text/plain": [
              "3.2745491628777316e-49"
            ]
          },
          "execution_count": 81,
          "metadata": {},
          "output_type": "execute_result"
        }
      ]
    },
    {
      "cell_type": "code",
      "metadata": {
        "id": "aoiUoAwjGDLR",
        "outputId": "92814695-7ed9-4d56-dd87-c95099e1ad3e"
      },
      "source": [
        "log_alphas_grid = np.log10(lasso_cv_fitted.alphas_)\n",
        "ax = plt.figure(figsize=(10, 4), dpi=100)\n",
        "ax = plt.plot(log_alphas_grid, lasso_cv_fitted.mse_path_, ':')\n",
        "ax = plt.plot(log_alphas_grid, lasso_cv_fitted.mse_path_.mean(axis=-1), 'k', label='Average across the folds', linewidth=2)\n",
        "ax = plt.axvline(np.log10(alpha_best), linestyle='--', color='k', label='alpha: CV estimate')"
      ],
      "execution_count": null,
      "outputs": [
        {
          "data": {
            "image/png": "[encoded data removed]",
            "text/plain": [
              "<Figure size 1000x400 with 1 Axes>"
            ]
          },
          "metadata": {
            "needs_background": "light"
          },
          "output_type": "display_data"
        }
      ]
    },
    {
      "cell_type": "markdown",
      "metadata": {
        "id": "ftKy8GVgGDLR"
      },
      "source": [
        "###### 4. Evaluate your model with R-square and MSE.  Validate with 'test.csv' "
      ]
    },
    {
      "cell_type": "code",
      "metadata": {
        "id": "h4MIW3_3GDLS"
      },
      "source": [
        "x_test = test.loc[:,'Flight_Distance':'Cleanliness']\n",
        "y_test = test['satisfaction']\n",
        "y_hat_test = lasso_cv_fitted.predict(x_test)"
      ],
      "execution_count": null,
      "outputs": []
    },
    {
      "cell_type": "code",
      "metadata": {
        "id": "CbJDJgz6GDLS",
        "outputId": "553626b5-3c4f-4cb3-838e-3bcb7a144d42"
      },
      "source": [
        "from sklearn.metrics import mean_squared_error, r2_score\n",
        "print('Performance on Testing Data')\n",
        "print('  + mean squared error: %.2f' % mean_squared_error(y_test, y_hat_test))\n",
        "print('  + coefficient of determination: %.2f' % r2_score(y_test, y_hat_test))"
      ],
      "execution_count": null,
      "outputs": [
        {
          "name": "stdout",
          "output_type": "stream",
          "text": [
            "Performance on Testing Data\n",
            "  + mean squared error: 0.14\n",
            "  + coefficient of determination: 0.42\n"
          ]
        }
      ]
    },
    {
      "cell_type": "markdown",
      "metadata": {
        "id": "xYLnFFrUXbi5"
      },
      "source": [
        "# Question 3: Multinomial Logistic Regression (Fashion-MNIST)\n",
        "\n",
        "This is a built-in dataset in `keras`, for more information, check out \n",
        "\n",
        "https://github.com/zalandoresearch/fashion-mnist\n",
        "\n",
        "1.   Tell the shape of your input data.\n",
        "\n",
        "2.   Perform a **Ridge-Penalised** Multinomial Logistic Regression.  **5-fold cross validate** your models and tell the **parameter C for the Ridge Regulariser with the optimum performance**. Show the **line chart** of the model accuracy with respect to the parameter C (with or without Log-transformation) to justify your optimum-C opted.\n",
        "\n",
        "*** I'm afraid that you're maybe unable to have conducted such a 'hectic' calculation on your PC (you're taking your PC's toll on its calculating power).  So, here the remedies you may apply once you're unable to obtain a converged solution:\n",
        "\n",
        "i. Reduce the number of samples in your training set (within a reasonable range).\n",
        "\n",
        "ii. Increase the `max_iter`.\n",
        "\n",
        "iii. Decrease the `tol`, but never below 0.01. \n",
        "\n",
        "\n",
        "3.   Evaluate your model with `accuracy`.\n",
        "\n",
        "4.   Show the `confusion matrix` of your model.\n",
        "\n",
        "5.   Compile the codes given below and **BRIEFLY** explain the function.\n",
        "\n",
        "```\n",
        "from sklearn.decomposition import PCA\n",
        "pca = PCA(n_components=30)\n",
        "pca.fit(train_images_2d)\n",
        "x_train = pca.transform(train_images_2d)\n",
        "x_test = pca.transform(test_images_2d)\n",
        "```\n",
        "Hint: Principle Component Analysis works to **reduce the dimension** of your input data.\n",
        "\n",
        "6.   Perform a **Ridge-Penalised** Multinomial Logistic Regression again with the **dimentionally-reduced data** under the **previous setting**.  Evaluate your model with `accuracy`."
      ]
    },
    {
      "cell_type": "markdown",
      "metadata": {
        "id": "nV6StJKpGDLS"
      },
      "source": [
        "load dataset"
      ]
    },
    {
      "cell_type": "code",
      "metadata": {
        "id": "XmARAWX4GDLS"
      },
      "source": [
        "import tensorflow as tf\n",
        "from tensorflow import keras\n",
        "fashion_mnist = keras.datasets.fashion_mnist\n",
        "(train_images, train_labels), (test_images, test_labels) = fashion_mnist.load_data()"
      ],
      "execution_count": null,
      "outputs": []
    },
    {
      "cell_type": "markdown",
      "metadata": {
        "id": "0N746Ds0GDLT"
      },
      "source": [
        "standardize"
      ]
    },
    {
      "cell_type": "code",
      "metadata": {
        "id": "L1EsT25VGDLT"
      },
      "source": [
        "train_images = train_images / 255.0\n",
        "test_images = test_images / 255.0"
      ],
      "execution_count": null,
      "outputs": []
    },
    {
      "cell_type": "markdown",
      "metadata": {
        "id": "0GcbsW8NGDLT"
      },
      "source": [
        "visualize"
      ]
    },
    {
      "cell_type": "code",
      "metadata": {
        "id": "jIgeGdllGDLT",
        "outputId": "f1e9a6b0-f1ca-41db-a221-ee951a5f0cc7"
      },
      "source": [
        "plt.figure()\n",
        "plt.imshow(train_images[0])\n",
        "plt.colorbar()\n",
        "plt.show()"
      ],
      "execution_count": null,
      "outputs": [
        {
          "data": {
            "image/png": "[encoded data removed]",
            "text/plain": [
              "<Figure size 432x288 with 2 Axes>"
            ]
          },
          "metadata": {
            "needs_background": "light"
          },
          "output_type": "display_data"
        }
      ]
    },
    {
      "cell_type": "markdown",
      "metadata": {
        "id": "MUfAMDaEGDLU"
      },
      "source": [
        "Flatten the 3D-Tensor to 2D-Matrix"
      ]
    },
    {
      "cell_type": "code",
      "metadata": {
        "id": "H4dk6AAnGDLU"
      },
      "source": [
        "train_images_2d = train_images.reshape(60000, -1)\n",
        "test_images_2d = test_images.reshape(10000, -1)"
      ],
      "execution_count": null,
      "outputs": []
    },
    {
      "cell_type": "markdown",
      "metadata": {
        "id": "AxWAM0AJGDLU"
      },
      "source": [
        "###### 1. Tell the shape of your input data."
      ]
    },
    {
      "cell_type": "code",
      "metadata": {
        "id": "I9442wTXGDLU",
        "outputId": "a121f86e-5b95-4520-e01d-f020a14aeda9"
      },
      "source": [
        "train_images_2d.shape"
      ],
      "execution_count": null,
      "outputs": [
        {
          "data": {
            "text/plain": [
              "(60000, 784)"
            ]
          },
          "execution_count": 45,
          "metadata": {},
          "output_type": "execute_result"
        }
      ]
    },
    {
      "cell_type": "markdown",
      "metadata": {
        "id": "EvUzM2zyGDLU"
      },
      "source": [
        "###### 2. Perform a Ridge-Penalised Multinomial Logistic Regression. 5-fold cross validate your models and tell the parameter C for the Ridge Regulariser with the optimum performance. \n",
        "\n",
        "Show the line chart of the model accuracy with respect to the parameter C (with or without Log-transformation) to justify your optimum-C opted."
      ]
    },
    {
      "cell_type": "code",
      "metadata": {
        "id": "p-ohqzy0GDLU"
      },
      "source": [
        "c_grid = np.logspace(-7, 1, num = 10) # define values for grid search\n",
        "lr_cv = linear_model.LogisticRegressionCV(Cs = c_grid, \n",
        "                                          fit_intercept = True, \n",
        "                                          refit = True, \n",
        "                                          cv = 5, # k-fold\n",
        "                                          penalty = 'l2', # ridge\n",
        "                                          solver = 'saga', # dont bother to change this\n",
        "                                          tol = 0.001, # tolerance (learning rate?) never over 0.01\n",
        "                                          max_iter = 1000, \n",
        "                                          random_state = 48, \n",
        "                                          n_jobs = -1)"
      ],
      "execution_count": null,
      "outputs": []
    },
    {
      "cell_type": "code",
      "metadata": {
        "id": "Lek2XKmoGDLV",
        "outputId": "f91377ea-2e99-4955-f326-65bd9b3fabc7"
      },
      "source": [
        "%%time\n",
        "lr_cv_fitted = lr_cv.fit(train_images_2d, train_labels)"
      ],
      "execution_count": null,
      "outputs": [
        {
          "name": "stdout",
          "output_type": "stream",
          "text": [
            "CPU times: user 1h 39min 38s, sys: 20.9 s, total: 1h 39min 59s\n",
            "Wall time: 23min 57s\n"
          ]
        }
      ]
    },
    {
      "cell_type": "code",
      "metadata": {
        "id": "mjxdf8O_GDLV",
        "outputId": "29b57e80-c53a-4723-a1a4-73b9a2b857c4"
      },
      "source": [
        "log_c_grid = np.log10(c_grid); c_best = float(lr_cv.C_[0])\n",
        "ax = plt.figure(figsize = (12, 4), dpi = 100)\n",
        "ax = plt.plot(log_c_grid , lr_cv_fitted.scores_[0].transpose(), ':')\n",
        "ax = plt.plot(log_c_grid , lr_cv_fitted.scores_[0].mean(axis=0), 'k', label = 'Average across the folds', linewidth = 2)\n",
        "ax = plt.axvline(np.log10(c_best), linestyle = '--', color = 'k')\n",
        "ax = plt.xlabel('log(C)'); ax = plt.ylabel('Accuracy')"
      ],
      "execution_count": null,
      "outputs": [
        {
          "data": {
            "image/png": "[encoded data removed]",
            "text/plain": [
              "<Figure size 1200x400 with 1 Axes>"
            ]
          },
          "metadata": {
            "needs_background": "light"
          },
          "output_type": "display_data"
        }
      ]
    },
    {
      "cell_type": "markdown",
      "metadata": {
        "id": "cQL7d841GDLV"
      },
      "source": [
        "*** I'm afraid that you're maybe unable to have conducted such a 'hectic' calculation on your PC (you're taking your PC's toll on its calculating power). So, here the remedies you may apply once you're unable to obtain a converged solution:\n",
        "\n",
        "i. Reduce the number of samples in your training set (within a reasonable range).\n",
        "ii. Increase the max_iter.\n",
        "iii. Decrease the tol, but never below 0.01."
      ]
    },
    {
      "cell_type": "markdown",
      "metadata": {
        "id": "y8ht4Fy2GDLV"
      },
      "source": [
        "###### 3. Evaluate your model with accuracy."
      ]
    },
    {
      "cell_type": "code",
      "metadata": {
        "id": "vk0qQV8gGDLV",
        "outputId": "79d807a0-8da9-4631-fb35-be85050dcc96"
      },
      "source": [
        "from sklearn.metrics import accuracy_score\n",
        "y_hat_train = lr_cv_fitted.predict(train_images_2d)\n",
        "y_hat_test = lr_cv_fitted.predict(test_images_2d)\n",
        "print('Performance on Training Data')\n",
        "print('  + accuracy: %.2f' % accuracy_score(train_labels, y_hat_train))\n",
        "print('Performance on Testing Data')\n",
        "print('  + accuracy: %.2f' % accuracy_score(test_labels, y_hat_test))"
      ],
      "execution_count": null,
      "outputs": [
        {
          "name": "stdout",
          "output_type": "stream",
          "text": [
            "Performance on Training Data\n",
            "  + accuracy: 0.88\n",
            "Performance on Testing Data\n",
            "  + accuracy: 0.85\n"
          ]
        }
      ]
    },
    {
      "cell_type": "markdown",
      "metadata": {
        "id": "3322fyQHGDLW"
      },
      "source": [
        "###### 4. Show the confusion matrix of your model."
      ]
    },
    {
      "cell_type": "code",
      "metadata": {
        "id": "8m8FjBsDGDLW",
        "outputId": "545f3218-45f3-4790-d98e-09e030074406"
      },
      "source": [
        "from sklearn.metrics import confusion_matrix\n",
        "confusion_matrix(test_labels, y_hat_test)"
      ],
      "execution_count": null,
      "outputs": [
        {
          "data": {
            "text/plain": [
              "array([[810,   2,  15,  51,   3,   3, 106,   0,  10,   0],\n",
              "       [  4, 955,   4,  27,   5,   0,   3,   0,   2,   0],\n",
              "       [ 25,   3, 737,  14, 124,   1,  82,   1,  13,   0],\n",
              "       [ 26,  12,  17, 873,  27,   0,  39,   0,   6,   0],\n",
              "       [  0,   1, 112,  35, 765,   0,  79,   0,   8,   0],\n",
              "       [  1,   0,   0,   1,   0, 925,   0,  48,   4,  21],\n",
              "       [137,   2, 122,  39, 100,   1, 575,   0,  24,   0],\n",
              "       [  0,   0,   0,   0,   0,  29,   0, 943,   0,  28],\n",
              "       [  6,   1,   7,  11,   2,   5,  22,   6, 940,   0],\n",
              "       [  0,   1,   0,   0,   0,  15,   1,  40,   0, 943]])"
            ]
          },
          "execution_count": 50,
          "metadata": {},
          "output_type": "execute_result"
        }
      ]
    },
    {
      "cell_type": "markdown",
      "metadata": {
        "id": "4aVNd_WRGDLW"
      },
      "source": [
        "###### 5. Compile the codes given below and BRIEFLY explain the function."
      ]
    },
    {
      "cell_type": "code",
      "metadata": {
        "id": "JFJUQm5TGDLW"
      },
      "source": [
        "from sklearn.decomposition import PCA\n",
        "pca = PCA(n_components=30)\n",
        "pca.fit(train_images_2d)\n",
        "x_train = pca.transform(train_images_2d)\n",
        "x_test = pca.transform(test_images_2d)"
      ],
      "execution_count": null,
      "outputs": []
    },
    {
      "cell_type": "markdown",
      "metadata": {
        "id": "c7xfRowaGDLW"
      },
      "source": [
        "主成分分析（PCA）：減少線性維度的方法（在縮減特徵的數量的同時，也盡可能保留資料中的variance）\n",
        "\n",
        "to do：把所有在2D space上的特徵（observation points）投影到1D的主成分上\n",
        "\n",
        "trade off：會遺失在第二主成分上所能得到的資訊\n",
        "\n",
        "`n_components`參數會回傳該數量的特徵數（要怎麼知道選多少特徵數是別的問題）\n",
        "\n",
        "step：先產生一個特定特徵數的`PCA`，再對training data & testing data做套入，可得到縮減特徵維度後的training data & testing data"
      ]
    },
    {
      "cell_type": "markdown",
      "metadata": {
        "id": "qfR5YtrIGDLX"
      },
      "source": [
        "###### 6. Perform a **Ridge-Penalised** Multinomial Logistic Regression again with the **dimentionally-reduced data** under the **previous setting**.  Evaluate your model with `accuracy`."
      ]
    },
    {
      "cell_type": "code",
      "metadata": {
        "id": "f8roOhUUGDLX"
      },
      "source": [
        "c_grid = np.logspace(-7, 1, num = 10) # define values for grid search\n",
        "lr_cv = linear_model.LogisticRegressionCV(Cs = c_grid, \n",
        "                                          fit_intercept = True, \n",
        "                                          refit = True, \n",
        "                                          cv = 5, # k-fold\n",
        "                                          penalty = 'l2', # ridge\n",
        "                                          solver = 'saga', # dont bother to change this\n",
        "                                          tol = 0.001, # tolerance (learning rate?) never over 0.01\n",
        "                                          max_iter = 1000, \n",
        "                                          random_state = 48, \n",
        "                                          n_jobs = -1)"
      ],
      "execution_count": null,
      "outputs": []
    },
    {
      "cell_type": "code",
      "metadata": {
        "id": "vVVoP_4PGDLX",
        "outputId": "86ff64aa-60fd-4aa9-b1a4-390376014d0f"
      },
      "source": [
        "%%time\n",
        "lr_cv_fitted = lr_cv.fit(x_train, train_labels)"
      ],
      "execution_count": null,
      "outputs": [
        {
          "name": "stdout",
          "output_type": "stream",
          "text": [
            "CPU times: user 2min 6s, sys: 477 ms, total: 2min 6s\n",
            "Wall time: 27.9 s\n"
          ]
        }
      ]
    },
    {
      "cell_type": "code",
      "metadata": {
        "id": "NBUWGhYuGDLX",
        "outputId": "dd20e6e6-2d22-46ec-9ca3-bc4b786acbda"
      },
      "source": [
        "from sklearn.metrics import accuracy_score\n",
        "y_hat_train = lr_cv_fitted.predict(x_train)\n",
        "y_hat_test = lr_cv_fitted.predict(x_test)\n",
        "print('Performance on Training Data')\n",
        "print('  + accuracy: %.2f' % accuracy_score(train_labels, y_hat_train))\n",
        "print('Performance on Testing Data')\n",
        "print('  + accuracy: %.2f' % accuracy_score(test_labels, y_hat_test))"
      ],
      "execution_count": null,
      "outputs": [
        {
          "name": "stdout",
          "output_type": "stream",
          "text": [
            "Performance on Training Data\n",
            "  + accuracy: 0.83\n",
            "Performance on Testing Data\n",
            "  + accuracy: 0.81\n"
          ]
        }
      ]
    },
    {
      "cell_type": "markdown",
      "metadata": {
        "id": "jO_-gQpeGDLX"
      },
      "source": [
        "# Question 4: Interpretation of the regression coefficients in logistic regression\n",
        "\n",
        "In logistic regression, the probability of $y$ given $x$ is modeled as\n",
        "$$\n",
        "\\mathbb{P}(y=1|x) = \\frac{\\exp(w_0+\\sum_{p=1}^P w_p x_p)}{1+\\exp(w_0+\\sum_{p=1}^P w_p x_p)},\n",
        "$$\n",
        "and\n",
        "$$\n",
        "\\mathbb{P}(y=0|x) = \\frac{1}{1+\\exp(w_0+\\sum_{p=1}^P w_p x_p)},\n",
        "$$\n",
        "\n",
        "1. Consider the case of $P=1$ and $x$ is a dummy variable, i.e., $x \\in \\{0,1\\}$. Please show that the log-odds ratio under $x=1$ and $x=0$ is $w_1$, i.e.,\n",
        "$$\n",
        "\\log{ \\left( \\frac{\\mathbb{P}(y=1|x=1)/\\mathbb{P}(y=0|x=1)}{\\mathbb{P}(y=1|x=0)/\\mathbb{P}(y=0|x=0)} \\right)}=w_1\n",
        "$$"
      ]
    },
    {
      "cell_type": "markdown",
      "metadata": {
        "id": "r0YlPNEaGDLY"
      },
      "source": [
        "###### Answer:"
      ]
    },
    {
      "cell_type": "markdown",
      "metadata": {
        "id": "ECAz3nB6GDLY"
      },
      "source": [
        "Odds of $y=1$ given $x=1$:\n",
        "$$\n",
        "\\frac{\\mathbb{P}(y=1|x=1)}{\\mathbb{P}(y=0|x=1)}\n",
        "$$\n",
        "$$\n",
        "= \\exp(w_0+\\sum_{p=1}^P w_p x_p)\n",
        "$$\n",
        "$$\n",
        "= \\exp(w_0 + w_1) \\because P = 1, x = 1\n",
        "$$"
      ]
    },
    {
      "cell_type": "markdown",
      "metadata": {
        "id": "NwFAEOwYGDLY"
      },
      "source": [
        "Odds of $y=1$ given $x=0$:\n",
        "$$\n",
        "\\frac{\\mathbb{P}(y=1|x=0)}{\\mathbb{P}(y=0|x=0)}\n",
        "$$\n",
        "$$\n",
        "= \\exp(w_0+\\sum_{p=1}^P w_p x_p)\n",
        "$$\n",
        "$$\n",
        "= \\exp(w_0) \\because P = 1, x = 0\n",
        "$$"
      ]
    },
    {
      "cell_type": "markdown",
      "metadata": {
        "id": "shCyHk-CGDLY"
      },
      "source": [
        "Regrading the **Left-hand side** of the equation,\n",
        "\n",
        "$$\n",
        "LHS\n",
        "$$\n",
        "$$\n",
        "= \\log{ \\left( \\frac{\\mathbb{P}(y=1|x=1)/\\mathbb{P}(y=0|x=1)}{\\mathbb{P}(y=1|x=0)/\\mathbb{P}(y=0|x=0)} \\right)}\n",
        "$$\n",
        "$$\n",
        "= \\log{\\left( \\frac{\\exp(w_0 + w_1)}{\\exp(w_0)} \\right)}\n",
        "$$\n",
        "$$\n",
        "= \\log{(\\exp(w_0 + w_1)) - \\log(\\exp(w_0))}\n",
        "$$\n",
        "$$\n",
        "= w_0 + w_1 + w_0\n",
        "$$\n",
        "$$\n",
        "= w_1\n",
        "$$\n",
        "$$\n",
        "= RHS \\therefore proved\n",
        "$$"
      ]
    },
    {
      "cell_type": "markdown",
      "metadata": {
        "id": "HSl14574XsY_"
      },
      "source": [
        "# Question 5: Heading towards nonparametric modelling\n",
        "\n",
        "Statistical Modeling The Two Cultures - L.Breiman \n",
        "\n",
        "(https://projecteuclid.org/journals/statistical-science/volume-16/issue-3/Statistical-Modeling--The-Two-Cultures-with-comments-and-a/10.1214/ss/1009213726.full)\n",
        "\n",
        "Read the paper and **BRIEFLY** summarize the content **in structure**.\n",
        "\n",
        "You can do it in **point form**, in **paragraphs** (it doesn't really matter to me) but please make it short and concise (few sentences will do, that you can **explain to your peers within minutes in the elevator**).\n"
      ]
    },
    {
      "cell_type": "markdown",
      "metadata": {
        "id": "rHQXWHudGDLY"
      },
      "source": [
        "###### answer:\n",
        "two contrasting approaches to modeling in statistics:\n",
        "\n",
        "- data modeling:\n",
        "    - choose a simple (linear) model based on intuition about the data-generating mechanism\n",
        "    - emphasis is on model interpretability and validation\n",
        "\n",
        "- algorithmic modeling:\n",
        "    - choose the model with the highest predictive validation accuracy with no consideration for model explainability\n",
        "\n",
        "statisticians may need to stop relying solely on data modeling - which leads to \"misleading conclusions\" and \"irrelevant theory\" - and embrace algorithmic modeling to solve novel real-world problems arising from massive data sets\n",
        "\n",
        "he claims data models were not up to solving new challenges from large-scale data collection\n",
        "\n",
        "- mdoels with different features often yield similar predictive accuracy\n",
        "- there is trade-off in machine learning between model interpretability and performance\n",
        "- more features can improve the performance of complex algorithmic models\n",
        "- science evolves from simple models to complex models as we gather more information about the world\n",
        "\n",
        "focus first on model accuracy, and only after building a high-performance model think about explaining it\n",
        "a highly-complex, accurate model that cant be fully explained is more valuable than a simple, linear model with on predictive accuracy that we completely understand\n",
        "\n",
        "the coefficients in the model (feature weights) are used as a measure of variable importance, showing the effect of a feature on the response\n",
        "\n",
        "if the p-values on the coefficients are low enough, then they are 'significant' and the model 'become truth' in Breiman's words. \n",
        "\n",
        "the whole precess is guided by intuition and subjective decisions:\n",
        "\n",
        "- instead of letting the data speak, the researchers impose their own personal theories through choices such as which features to use and which data points to throw out as outliers\n",
        "\n",
        "he claims the data modeling with simple linear models and intuition is not an objective way to learn from data"
      ]
    },
    {
      "cell_type": "code",
      "metadata": {
        "id": "SBhG7wU-GDLZ"
      },
      "source": [
        ""
      ],
      "execution_count": null,
      "outputs": []
    }
  ]
}